{
 "cells": [
  {
   "cell_type": "markdown",
   "metadata": {},
   "source": [
    "# Part 3: Advanced Raster Data Processing"
   ]
  },
  {
   "cell_type": "markdown",
   "metadata": {},
   "source": [
    "In this assignment we will work with raster data in Python using _rasterio_ and _numpy_. We will use the _sat-search_ package to search for suitable satellite imagery from the [Amazon AWS Open Data Registry](https://registry.opendata.aws/). "
   ]
  },
  {
   "cell_type": "markdown",
   "metadata": {},
   "source": [
    "The study area of the assignment is the [Delta de Saloum](https://rsis.ramsar.org/ris/288), a Ramsar protect wetland at the coast of Senegal. We will use multi-temporal satellite imagery to monitor the changing water levels of the wetland over time."
   ]
  },
  {
   "cell_type": "markdown",
   "metadata": {},
   "source": [
    "Most of the analysis is already implemented. Just a few functions still need to be written. The main purpose of this assignment is to practice converting a notebook, in which the methodology for the study was developed, into a processing chain in form of python scripts. In this way, the analysis can be run fully automatically on different study regions without changing the parameters in the notebook each time. The processing parameters should be stored in a configuration file, so you always know which parameters have been used to run the analyses."
   ]
  },
  {
   "cell_type": "markdown",
   "metadata": {},
   "source": [
    "### Python Environment\n",
    "There seem to some issues with the sat-search package and python 3.8. So you will have to set up a new anaconda environment for this assignment containing the packages in requirements.txt. \n",
    "\n",
    "__IMPORTANT:__ Make sure that you __use version 0.2.3 of sat-search__ using `pip install sat-search==0.2.3` and with __python=3.7.__\n"
   ]
  },
  {
   "cell_type": "code",
   "execution_count": 1,
   "metadata": {},
   "outputs": [],
   "source": [
    "import os\n",
    "import math\n",
    "import numpy as np\n",
    "import rasterio as rio\n",
    "import pyproj\n",
    "from satsearch import Search\n",
    "import matplotlib.pyplot as plt\n",
    "%matplotlib inline"
   ]
  },
  {
   "cell_type": "markdown",
   "metadata": {},
   "source": [
    "Please refer to the following sources for information on the usage of the packages (or google it): \n",
    "* [Rasterio Python Quickstart](https://rasterio.readthedocs.io/en/latest/quickstart.html)\n",
    "* [sat-search Quickstart](https://github.com/sat-utils/sat-search)\n",
    "* [sat-search Python Tutorial](https://github.com/sat-utils/sat-search/blob/master/tutorial-1.ipynb)"
   ]
  },
  {
   "cell_type": "markdown",
   "metadata": {},
   "source": [
    "### This analysis will include the following steps:\n",
    "1. Search suitable satillite imagery using sat-search\n",
    "2. Load satellite imagery\n",
    "3. Convertion of raw satellite imagery to ToA reflectance\n",
    "4. Calculate Water Index\n",
    "5. Calculate water frequency"
   ]
  },
  {
   "cell_type": "markdown",
   "metadata": {},
   "source": [
    "# Implementing a prototype of the methodology"
   ]
  },
  {
   "cell_type": "markdown",
   "metadata": {},
   "source": [
    "## Step 1: Searching for suitable satellite imagery "
   ]
  },
  {
   "cell_type": "markdown",
   "metadata": {},
   "source": [
    "In the first step, we will use the package [sat-search](https://github.com/sat-utils/sat-search) to search for suitable satellite scenes within our study area and [rasterio](https://rasterio.readthedocs.io/en/latest/quickstart.html) to load the data into Python. The search is based on the Spatio-Temporal Asset Catalogs (STAC) format which should make it easier to search and query satellite imagery.  \n",
    "\n",
    "__FYI:__ [sat-search](https://github.com/sat-utils/sat-search) is developed by [Development Seed](https://developmentseed.org/). Check out their [sat-utils on GitHub](https://github.com/sat-utils)."
   ]
  },
  {
   "cell_type": "markdown",
   "metadata": {},
   "source": [
    "Let's perform a search for satellite scenes for the area of Heidelberg. You can get metadata about all scenes using the `items()` method."
   ]
  },
  {
   "cell_type": "markdown",
   "metadata": {},
   "source": [
    "### Define search parameters\n",
    "\n",
    "The input parameters for our search for satellite scenes are:"
   ]
  },
  {
   "cell_type": "markdown",
   "metadata": {},
   "source": [
    "* We are interested in all scenes from 2019-6-01 until 2020-06-01. \n",
    "* **Only Landsat 8 scenes**, since these are downloadable via Amazon AWS without an account. \n",
    "* **Maximum cloud coverage of 3%** so we get mostly cloud free scenes. "
   ]
  },
  {
   "cell_type": "code",
   "execution_count": 2,
   "metadata": {},
   "outputs": [],
   "source": [
    "#bbox = [28.859 ,44.722 ,29.868 ,45.301] \n",
    "\n",
    "bbox = [-16.811,13.627,-16.356,14.14]# [minx, miny, maxx, maxy]"
   ]
  },
  {
   "cell_type": "code",
   "execution_count": 3,
   "metadata": {},
   "outputs": [],
   "source": [
    "time_period = '2019-06-01/2020-06-01'"
   ]
  },
  {
   "cell_type": "code",
   "execution_count": 4,
   "metadata": {},
   "outputs": [],
   "source": [
    "cloud_cover = 10"
   ]
  },
  {
   "cell_type": "code",
   "execution_count": 5,
   "metadata": {},
   "outputs": [],
   "source": [
    "query = {\n",
    "    \"eo:cloud_cover\": {\n",
    "        \"lt\": cloud_cover\n",
    "    },\n",
    "    \"collection\": {\n",
    "        \"eq\": \"landsat-8-l1\"\n",
    "    }\n",
    "}"
   ]
  },
  {
   "cell_type": "markdown",
   "metadata": {},
   "source": [
    "### Execute the search"
   ]
  },
  {
   "cell_type": "code",
   "execution_count": 6,
   "metadata": {},
   "outputs": [],
   "source": [
    "search_result = Search(bbox=bbox, query=query, datetime=time_period)"
   ]
  },
  {
   "cell_type": "markdown",
   "metadata": {},
   "source": [
    "The object `search_result` is of type `satsearch.search.Search` and has a method `.items()`. Execute it to get the metadata to all scenes found during the search. \n",
    "\n",
    "__Tipp:__ When you are working with unfamiliar classes, use frequently use the `type()` and `dir()` functions to learn about how the class works and what it can do."
   ]
  },
  {
   "cell_type": "code",
   "execution_count": 7,
   "metadata": {},
   "outputs": [
    {
     "name": "stdout",
     "output_type": "stream",
     "text": [
      "16 satellite scenes were found\n"
     ]
    }
   ],
   "source": [
    "print(\"{} satellite scenes were found\".format(search_result.found()))"
   ]
  },
  {
   "cell_type": "code",
   "execution_count": 8,
   "metadata": {},
   "outputs": [],
   "source": [
    "items = search_result.items()"
   ]
  },
  {
   "cell_type": "code",
   "execution_count": 9,
   "metadata": {},
   "outputs": [
    {
     "name": "stdout",
     "output_type": "stream",
     "text": [
      "16 items\n",
      "1 collections\n",
      "[landsat-8-l1]\n"
     ]
    }
   ],
   "source": [
    "print('%s items' % len(items))\n",
    "print('%s collections' % len(items._collections))\n",
    "print(items._collections)"
   ]
  },
  {
   "cell_type": "markdown",
   "metadata": {},
   "source": [
    "__E:__ Print a calender showing the dates on which the scenes were captured. "
   ]
  },
  {
   "cell_type": "code",
   "execution_count": 10,
   "metadata": {},
   "outputs": [
    {
     "name": "stdout",
     "output_type": "stream",
     "text": [
      "Items (16):\n",
      "date                      id                        \n",
      "2020-05-29                LC82050502020150          \n",
      "2020-05-13                LC82050502020134          \n",
      "2020-04-27                LC82050512020118          \n",
      "2020-04-27                LC82050502020118          \n",
      "2020-04-11                LC82050502020102          \n",
      "2020-03-26                LC82050512020086          \n",
      "2020-03-26                LC82050502020086          \n",
      "2020-03-10                LC82050502020070          \n",
      "2020-02-07                LC82050512020038          \n",
      "2020-02-07                LC82050502020038          \n",
      "2020-01-06                LC82050512020006          \n",
      "2020-01-06                LC82050502020006          \n",
      "2019-12-21                LC82050512019355          \n",
      "2019-10-18                LC82050502019291          \n",
      "2019-07-30                LC82050512019211          \n",
      "2019-07-30                LC82050502019211          \n",
      "\n"
     ]
    }
   ],
   "source": [
    "print(items.summary())"
   ]
  },
  {
   "cell_type": "code",
   "execution_count": 11,
   "metadata": {
    "scrolled": true
   },
   "outputs": [
    {
     "name": "stdout",
     "output_type": "stream",
     "text": [
      "                              2019                              \n",
      "\n",
      "        July                 August              September      \n",
      "Mo Tu We Th Fr Sa Su  Mo Tu We Th Fr Sa Su  Mo Tu We Th Fr Sa Su\n",
      " 1  2  3  4  5  6  7            1  2  3  4                     1  \n",
      " 8  9 10 11 12 13 14   5  6  7  8  9 10 11   2  3  4  5  6  7  8  \n",
      "15 16 17 18 19 20 21  12 13 14 15 16 17 18   9 10 11 12 13 14 15  \n",
      "22 23 24 25 26 27 28  19 20 21 22 23 24 25  16 17 18 19 20 21 22  \n",
      "29 \u001b[41m30\u001b[0m 31              26 27 28 29 30 31     23 24 25 26 27 28 29  \n",
      "\n",
      "      October               November              December      \n",
      "Mo Tu We Th Fr Sa Su  Mo Tu We Th Fr Sa Su  Mo Tu We Th Fr Sa Su\n",
      "    1  2  3  4  5  6               1  2  3                     1  \n",
      " 7  8  9 10 11 12 13   4  5  6  7  8  9 10   2  3  4  5  6  7  8  \n",
      "14 15 16 17 \u001b[41m18\u001b[0m 19 20  11 12 13 14 15 16 17   9 10 11 12 13 14 15  \n",
      "21 22 23 24 25 26 27  18 19 20 21 22 23 24  16 17 18 19 20 \u001b[41m21\u001b[0m 22  \n",
      "28 29 30 31           25 26 27 28 29 30     23 24 25 26 27 28 29  \n",
      "\n",
      "                              2020                              \n",
      "\n",
      "      January               February               March        \n",
      "Mo Tu We Th Fr Sa Su  Mo Tu We Th Fr Sa Su  Mo Tu We Th Fr Sa Su\n",
      "       1  2  3  4  5                  1  2                     1  \n",
      "\u001b[41m 6\u001b[0m  7  8  9 10 11 12   3  4  5  6 \u001b[41m 7\u001b[0m  8  9   2  3  4  5  6  7  8  \n",
      "13 14 15 16 17 18 19  10 11 12 13 14 15 16   9 \u001b[41m10\u001b[0m 11 12 13 14 15  \n",
      "20 21 22 23 24 25 26  17 18 19 20 21 22 23  16 17 18 19 20 21 22  \n",
      "27 28 29 30 31        24 25 26 27 28 29     23 24 25 \u001b[41m26\u001b[0m 27 28 29  \n",
      "\n",
      "       April                  May                   June        \n",
      "Mo Tu We Th Fr Sa Su  Mo Tu We Th Fr Sa Su  Mo Tu We Th Fr Sa Su\n",
      "       1  2  3  4  5               1  2  3   1  2  3  4  5  6  7  \n",
      " 6  7  8  9 10 \u001b[41m11\u001b[0m 12   4  5  6  7  8  9 10   8  9 10 11 12 13 14  \n",
      "13 14 15 16 17 18 19  11 12 \u001b[41m13\u001b[0m 14 15 16 17  15 16 17 18 19 20 21  \n",
      "20 21 22 23 24 25 26  18 19 20 21 22 23 24  22 23 24 25 26 27 28  \n",
      "\u001b[41m27\u001b[0m 28 29 30           25 26 27 28 \u001b[41m29\u001b[0m 30 31  29 30                 \n",
      "\n",
      "\u001b[41mNone (1)\u001b[0m\n",
      "11 total dates\n"
     ]
    }
   ],
   "source": [
    "print(items.calendar())"
   ]
  },
  {
   "cell_type": "markdown",
   "metadata": {
    "heading_collapsed": true
   },
   "source": [
    "## Steps 2 - 4 will be testen using a single test scene before applying it to the whole study area"
   ]
  },
  {
   "cell_type": "markdown",
   "metadata": {
    "hidden": true
   },
   "source": [
    "We will implement the whole processing chain using one of the scenes as an example. When the processing chain is up and running we will apply it to all Landsat scenes. "
   ]
  },
  {
   "cell_type": "code",
   "execution_count": 12,
   "metadata": {
    "hidden": true
   },
   "outputs": [],
   "source": [
    "test_item = items[2]"
   ]
  },
  {
   "cell_type": "markdown",
   "metadata": {
    "heading_collapsed": true
   },
   "source": [
    "## Step 2: Load satellite data"
   ]
  },
  {
   "cell_type": "markdown",
   "metadata": {
    "hidden": true
   },
   "source": [
    "First, let's create a folder to store the data. "
   ]
  },
  {
   "cell_type": "code",
   "execution_count": 13,
   "metadata": {
    "hidden": true
   },
   "outputs": [],
   "source": [
    "scene_dir = \"./scenes\""
   ]
  },
  {
   "cell_type": "markdown",
   "metadata": {
    "hidden": true
   },
   "source": [
    "The `os` package can help us with interactiong wiht the file system. For example, it can check whether the folder exisits. If not it will create it. "
   ]
  },
  {
   "cell_type": "code",
   "execution_count": 14,
   "metadata": {
    "hidden": true
   },
   "outputs": [],
   "source": [
    "if not os.path.exists(scene_dir):\n",
    "    os.mkdir(scene_dir)"
   ]
  },
  {
   "cell_type": "markdown",
   "metadata": {
    "hidden": true
   },
   "source": [
    "### Load image using rasterio"
   ]
  },
  {
   "cell_type": "markdown",
   "metadata": {
    "hidden": true
   },
   "source": [
    "For the calculation of the water index we need the __green and short-wave infrared spectral bands__ of the satellite image. \n",
    "\n",
    "The `rasterio` package read images form URLs. The advantage using rasterio is that we can specify which spatial extent of the image we want to download using a `window`. This can be very useful when you want to test your method in a small test region with many images, so you don't have to download all the data."
   ]
  },
  {
   "cell_type": "markdown",
   "metadata": {
    "hidden": true
   },
   "source": [
    "#### 1. Get Image URLs \n",
    "Each spectral band has a unique URL through which we can download it. This information is stored in the `item.assets`. Since these are stored as a dictionary, so we can access this information using the right keys."
   ]
  },
  {
   "cell_type": "markdown",
   "metadata": {
    "hidden": true
   },
   "source": [
    "__E:__ Extract the URLs for the green (band 3) and short-wave infrared (band 7) spectral bands. "
   ]
  },
  {
   "cell_type": "code",
   "execution_count": 15,
   "metadata": {
    "hidden": true
   },
   "outputs": [
    {
     "data": {
      "text/plain": [
       "'https://landsat-pds.s3.amazonaws.com/c1/L8/205/051/LC08_L1TP_205051_20200427_20200509_01_T1/LC08_L1TP_205051_20200427_20200509_01_T1_B3.TIF'"
      ]
     },
     "execution_count": 15,
     "metadata": {},
     "output_type": "execute_result"
    }
   ],
   "source": [
    "band7_url = test_item.assets[\"B7\"][\"href\"]\n",
    "band3_url = test_item.assets[\"B3\"][\"href\"]\n",
    "band3_url"
   ]
  },
  {
   "cell_type": "markdown",
   "metadata": {
    "code_folding": [],
    "hidden": true
   },
   "source": [
    "#### 2. Convert bounding box to image coordinates"
   ]
  },
  {
   "cell_type": "markdown",
   "metadata": {
    "hidden": true
   },
   "source": [
    "in the last notebook you've learned that the window has to be defined using image coordinates. However, our bounding box is in geogrpahic coordisntes. When we continue using rasterio we will probably need to do this kind of conversion regularly. So it would be worth writing a function for it. :) "
   ]
  },
  {
   "cell_type": "markdown",
   "metadata": {
    "hidden": true
   },
   "source": [
    "__E:__ Write a function which takes a bounding box with geographic coordinates as a list (same as `bbox`) and the path to the image which we would like to read. The function should return a list containing the the upper left image coordinates and the number of rows and columns. \n",
    "\n",
    "__Hint:__ The bounding box is given in geographic coordinates. The Landsat scene has a UTM projection. And the window needs image coordinates. So you need to go from geographic coordinates to UTM to image coordinates. `pyproj.transform` can convert point coordinates from one crs to another. In order to convert from crs to image use the functions from the last notebook. \n"
   ]
  },
  {
   "cell_type": "code",
   "execution_count": 16,
   "metadata": {
    "hidden": true
   },
   "outputs": [],
   "source": [
    "def geogr_2_image(affine,x, y):\n",
    "    return ~affine * (x, y)"
   ]
  },
  {
   "cell_type": "code",
   "execution_count": 17,
   "metadata": {
    "hidden": true
   },
   "outputs": [],
   "source": [
    "def image_2_geogr(affine,x, y):\n",
    "    return affine * (x, y)"
   ]
  },
  {
   "cell_type": "code",
   "execution_count": 18,
   "metadata": {
    "code_folding": [
     0
    ],
    "hidden": true
   },
   "outputs": [],
   "source": [
    "def get_window_for_scene(band, bbox):\n",
    "    \n",
    "    with rio.open(band) as src:\n",
    "        affine = src.transform\n",
    "        crs = src.crs\n",
    "        \n",
    "    ul_x, ul_y = pyproj.transform(pyproj.Proj(init='epsg:4326'), pyproj.Proj(init=str(crs)), bbox[0], bbox[3])\n",
    "    lr_x, lr_y = pyproj.transform(pyproj.Proj(init='epsg:4326'), pyproj.Proj(init=str(crs)), bbox[2], bbox[1])\n",
    "    \n",
    "    ul_row, ul_col = geogr_2_image(affine, ul_x, ul_y)\n",
    "    lr_row, lr_col = geogr_2_image(affine, lr_x, lr_y)\n",
    "    \n",
    "    ul_row = math.floor(ul_row)\n",
    "    ul_col = math.floor(ul_col)\n",
    "    lr_row = math.floor(lr_row)\n",
    "    lr_col = math.floor(lr_col)\n",
    "    rows = math.floor(lr_row - ul_row)\n",
    "    cols = math.floor(lr_col - ul_col)\n",
    "    \n",
    "    return rio.windows.Window(ul_row, ul_col, rows, cols)"
   ]
  },
  {
   "cell_type": "code",
   "execution_count": 19,
   "metadata": {
    "hidden": true
   },
   "outputs": [
    {
     "name": "stderr",
     "output_type": "stream",
     "text": [
      "/Users/chludwig/miniconda3/envs/advgeo37/lib/python3.7/site-packages/pyproj/crs/crs.py:53: FutureWarning: '+init=<authority>:<code>' syntax is deprecated. '<authority>:<code>' is the preferred initialization method. When making the change, be mindful of axis order changes: https://pyproj4.github.io/pyproj/stable/gotchas.html#axis-order-changes-in-proj-6\n",
      "  return _prepare_from_string(\" \".join(pjargs))\n",
      "/Users/chludwig/miniconda3/envs/advgeo37/lib/python3.7/site-packages/pyproj/crs/crs.py:294: FutureWarning: '+init=<authority>:<code>' syntax is deprecated. '<authority>:<code>' is the preferred initialization method. When making the change, be mindful of axis order changes: https://pyproj4.github.io/pyproj/stable/gotchas.html#axis-order-changes-in-proj-6\n",
      "  projstring = _prepare_from_string(\" \".join((projstring, projkwargs)))\n",
      "/Users/chludwig/miniconda3/envs/advgeo37/lib/python3.7/site-packages/pyproj/crs/crs.py:53: FutureWarning: '+init=<authority>:<code>' syntax is deprecated. '<authority>:<code>' is the preferred initialization method. When making the change, be mindful of axis order changes: https://pyproj4.github.io/pyproj/stable/gotchas.html#axis-order-changes-in-proj-6\n",
      "  return _prepare_from_string(\" \".join(pjargs))\n",
      "/Users/chludwig/miniconda3/envs/advgeo37/lib/python3.7/site-packages/pyproj/crs/crs.py:294: FutureWarning: '+init=<authority>:<code>' syntax is deprecated. '<authority>:<code>' is the preferred initialization method. When making the change, be mindful of axis order changes: https://pyproj4.github.io/pyproj/stable/gotchas.html#axis-order-changes-in-proj-6\n",
      "  projstring = _prepare_from_string(\" \".join((projstring, projkwargs)))\n",
      "/Users/chludwig/miniconda3/envs/advgeo37/lib/python3.7/site-packages/ipykernel_launcher.py:7: DeprecationWarning: This function is deprecated. See: https://pyproj4.github.io/pyproj/stable/gotchas.html#upgrading-to-pyproj-2-from-pyproj-1\n",
      "  import sys\n",
      "/Users/chludwig/miniconda3/envs/advgeo37/lib/python3.7/site-packages/pyproj/crs/crs.py:53: FutureWarning: '+init=<authority>:<code>' syntax is deprecated. '<authority>:<code>' is the preferred initialization method. When making the change, be mindful of axis order changes: https://pyproj4.github.io/pyproj/stable/gotchas.html#axis-order-changes-in-proj-6\n",
      "  return _prepare_from_string(\" \".join(pjargs))\n",
      "/Users/chludwig/miniconda3/envs/advgeo37/lib/python3.7/site-packages/pyproj/crs/crs.py:294: FutureWarning: '+init=<authority>:<code>' syntax is deprecated. '<authority>:<code>' is the preferred initialization method. When making the change, be mindful of axis order changes: https://pyproj4.github.io/pyproj/stable/gotchas.html#axis-order-changes-in-proj-6\n",
      "  projstring = _prepare_from_string(\" \".join((projstring, projkwargs)))\n",
      "/Users/chludwig/miniconda3/envs/advgeo37/lib/python3.7/site-packages/pyproj/crs/crs.py:53: FutureWarning: '+init=<authority>:<code>' syntax is deprecated. '<authority>:<code>' is the preferred initialization method. When making the change, be mindful of axis order changes: https://pyproj4.github.io/pyproj/stable/gotchas.html#axis-order-changes-in-proj-6\n",
      "  return _prepare_from_string(\" \".join(pjargs))\n",
      "/Users/chludwig/miniconda3/envs/advgeo37/lib/python3.7/site-packages/pyproj/crs/crs.py:294: FutureWarning: '+init=<authority>:<code>' syntax is deprecated. '<authority>:<code>' is the preferred initialization method. When making the change, be mindful of axis order changes: https://pyproj4.github.io/pyproj/stable/gotchas.html#axis-order-changes-in-proj-6\n",
      "  projstring = _prepare_from_string(\" \".join((projstring, projkwargs)))\n",
      "/Users/chludwig/miniconda3/envs/advgeo37/lib/python3.7/site-packages/ipykernel_launcher.py:8: DeprecationWarning: This function is deprecated. See: https://pyproj4.github.io/pyproj/stable/gotchas.html#upgrading-to-pyproj-2-from-pyproj-1\n",
      "  \n"
     ]
    }
   ],
   "source": [
    "win = get_window_for_scene(band3_url, bbox)"
   ]
  },
  {
   "cell_type": "markdown",
   "metadata": {
    "hidden": true
   },
   "source": [
    "#### 3. Load the green (band 3) and short-wave infrared (band 7) spectral bands using rasterio"
   ]
  },
  {
   "cell_type": "code",
   "execution_count": 20,
   "metadata": {
    "hidden": true
   },
   "outputs": [],
   "source": [
    "with rio.open(band3_url) as src:\n",
    "    band3 = src.read(1, window=win, boundless=True, fill_value=65535)\n",
    "    profile = src.profile"
   ]
  },
  {
   "cell_type": "code",
   "execution_count": 21,
   "metadata": {
    "hidden": true
   },
   "outputs": [],
   "source": [
    "with rio.open(band7_url) as src:\n",
    "    band7 = src.read(1, window=win, boundless=True, fill_value=65535)\n",
    "    profile = src.profile"
   ]
  },
  {
   "cell_type": "markdown",
   "metadata": {
    "hidden": true
   },
   "source": [
    "#### 4. Saving an image to file"
   ]
  },
  {
   "cell_type": "code",
   "execution_count": 22,
   "metadata": {
    "hidden": true
   },
   "outputs": [],
   "source": [
    "#outfile = os.path.join(scene_dir, str(test_item.date), os.path.basename(band3_url))\n",
    "#with rio.open(outfile, \"w\", **profile) as dst:\n",
    "#    dst.write(band3, 1)"
   ]
  },
  {
   "cell_type": "markdown",
   "metadata": {
    "heading_collapsed": true
   },
   "source": [
    "## Step 3: Conversion of raw satellite imagery to ToA reflectance"
   ]
  },
  {
   "cell_type": "markdown",
   "metadata": {
    "hidden": true
   },
   "source": [
    "\n",
    "The spectral bands are still in raw format. Their unit is DN (digital number). But for the calculation of the NDWI we need Top-of-Atmosphere (ToA) radiance values, i.e.  the amount of radiance which reflected by the Earth's surface at the wavelength of the repective band. Therefore, we need to perform the conversion from DN to radiance using\n",
    "\n",
    "\n",
    "$L_{\\lambda} = M_L Q_{cal} + A_L$\n",
    "\n",
    "$L_\\lambda$ = TOA planetary reflectance, without correction for solar angle.  Note that ρλ' does not contain a correction for the sun angle.\n",
    "\n",
    "$M_L$ = Band-specific multiplicative rescaling factor from the metadata (REFLECTANCE_MULT_BAND_x, where x is the band number)\n",
    "\n",
    "$A_L$ = Band-specific additive rescaling factor from the metadata (REFLECTANCE_ADD_BAND_x, where x is the band number)\n",
    "\n",
    "$Q_{cal}$ =  Quantized and calibrated standard product pixel values (DN)  \n",
    "\n",
    "see [USGS Documentation](https://www.usgs.gov/land-resources/nli/landsat/using-usgs-landsat-level-1-data-product)\n",
    "\n"
   ]
  },
  {
   "cell_type": "markdown",
   "metadata": {
    "hidden": true
   },
   "source": [
    "The parameters $M_L$ and $A_L$ are contained in the MTL file of each satellite image.\n",
    "\n",
    "$M_L$ : \"REFLECTANCE_MULT_BAND_\"\n",
    "$A_L$ : \"REFLECTANCE_ADD_BAND_\""
   ]
  },
  {
   "cell_type": "markdown",
   "metadata": {
    "hidden": true
   },
   "source": [
    "To convert an image from raw digital numbers to ToA reflectance, we need to do the following steps:\n",
    "1. Download the metadata file of the satellite scene. \n",
    "2. Parse the metadata file in Python and extract the reuqired parameters.\n",
    "3. Perform the conversion of the spectral bands. "
   ]
  },
  {
   "cell_type": "markdown",
   "metadata": {
    "hidden": true
   },
   "source": [
    "### 1. Downloading the metadata file"
   ]
  },
  {
   "cell_type": "markdown",
   "metadata": {
    "hidden": true
   },
   "source": [
    "We've actually already done this above using"
   ]
  },
  {
   "cell_type": "code",
   "execution_count": 23,
   "metadata": {
    "hidden": true,
    "scrolled": true
   },
   "outputs": [],
   "source": [
    "meta_file = test_item.download('MTL', path=os.path.join(scene_dir, \"${date}\"))"
   ]
  },
  {
   "cell_type": "markdown",
   "metadata": {
    "hidden": true
   },
   "source": [
    "### 2. Reading the metadata files in Python\n",
    "Let's try reading one of the metadata files using the standard `readlines()` method."
   ]
  },
  {
   "cell_type": "code",
   "execution_count": 24,
   "metadata": {
    "hidden": true
   },
   "outputs": [],
   "source": [
    "with open(meta_file) as src:\n",
    "    metadata = src.readlines()"
   ]
  },
  {
   "cell_type": "code",
   "execution_count": 25,
   "metadata": {
    "hidden": true
   },
   "outputs": [
    {
     "data": {
      "text/plain": [
       "['GROUP = L1_METADATA_FILE\\n',\n",
       " '  GROUP = METADATA_FILE_INFO\\n',\n",
       " '    ORIGIN = \"Image courtesy of the U.S. Geological Survey\"\\n',\n",
       " '    REQUEST_ID = \"0702005089830_00012\"\\n',\n",
       " '    LANDSAT_SCENE_ID = \"LC82050512020118LGN00\"\\n',\n",
       " '    LANDSAT_PRODUCT_ID = \"LC08_L1TP_205051_20200427_20200509_01_T1\"\\n',\n",
       " '    COLLECTION_NUMBER = 01\\n',\n",
       " '    FILE_DATE = 2020-05-09T04:56:11Z\\n',\n",
       " '    STATION_ID = \"LGN\"\\n',\n",
       " '    PROCESSING_SOFTWARE_VERSION = \"LPGS_13.1.0\"\\n',\n",
       " '  END_GROUP = METADATA_FILE_INFO\\n',\n",
       " '  GROUP = PRODUCT_METADATA\\n',\n",
       " '    DATA_TYPE = \"L1TP\"\\n',\n",
       " '    COLLECTION_CATEGORY = \"T1\"\\n',\n",
       " '    ELEVATION_SOURCE = \"GLS2000\"\\n',\n",
       " '    OUTPUT_FORMAT = \"GEOTIFF\"\\n',\n",
       " '    SPACECRAFT_ID = \"LANDSAT_8\"\\n',\n",
       " '    SENSOR_ID = \"OLI_TIRS\"\\n',\n",
       " '    WRS_PATH = 205\\n',\n",
       " '    WRS_ROW = 51\\n',\n",
       " '    NADIR_OFFNADIR = \"NADIR\"\\n',\n",
       " '    TARGET_WRS_PATH = 205\\n',\n",
       " '    TARGET_WRS_ROW = 51\\n',\n",
       " '    DATE_ACQUIRED = 2020-04-27\\n',\n",
       " '    SCENE_CENTER_TIME = \"11:27:22.0966320Z\"\\n',\n",
       " '    CORNER_UL_LAT_PRODUCT = 14.05361\\n',\n",
       " '    CORNER_UL_LON_PRODUCT = -18.05987\\n',\n",
       " '    CORNER_UR_LAT_PRODUCT = 14.07117\\n',\n",
       " '    CORNER_UR_LON_PRODUCT = -15.94107\\n',\n",
       " '    CORNER_LL_LAT_PRODUCT = 11.94334\\n',\n",
       " '    CORNER_LL_LON_PRODUCT = -18.03410\\n',\n",
       " '    CORNER_LR_LAT_PRODUCT = 11.95817\\n',\n",
       " '    CORNER_LR_LON_PRODUCT = -15.93314\\n',\n",
       " '    CORNER_UL_PROJECTION_X_PRODUCT = 169500.000\\n',\n",
       " '    CORNER_UL_PROJECTION_Y_PRODUCT = 1555800.000\\n',\n",
       " '    CORNER_UR_PROJECTION_X_PRODUCT = 398400.000\\n',\n",
       " '    CORNER_UR_PROJECTION_Y_PRODUCT = 1555800.000\\n',\n",
       " '    CORNER_LL_PROJECTION_X_PRODUCT = 169500.000\\n',\n",
       " '    CORNER_LL_PROJECTION_Y_PRODUCT = 1322100.000\\n',\n",
       " '    CORNER_LR_PROJECTION_X_PRODUCT = 398400.000\\n',\n",
       " '    CORNER_LR_PROJECTION_Y_PRODUCT = 1322100.000\\n',\n",
       " '    PANCHROMATIC_LINES = 15581\\n',\n",
       " '    PANCHROMATIC_SAMPLES = 15261\\n',\n",
       " '    REFLECTIVE_LINES = 7791\\n',\n",
       " '    REFLECTIVE_SAMPLES = 7631\\n',\n",
       " '    THERMAL_LINES = 7791\\n',\n",
       " '    THERMAL_SAMPLES = 7631\\n',\n",
       " '    FILE_NAME_BAND_1 = \"LC08_L1TP_205051_20200427_20200509_01_T1_B1.TIF\"\\n',\n",
       " '    FILE_NAME_BAND_2 = \"LC08_L1TP_205051_20200427_20200509_01_T1_B2.TIF\"\\n',\n",
       " '    FILE_NAME_BAND_3 = \"LC08_L1TP_205051_20200427_20200509_01_T1_B3.TIF\"\\n',\n",
       " '    FILE_NAME_BAND_4 = \"LC08_L1TP_205051_20200427_20200509_01_T1_B4.TIF\"\\n',\n",
       " '    FILE_NAME_BAND_5 = \"LC08_L1TP_205051_20200427_20200509_01_T1_B5.TIF\"\\n',\n",
       " '    FILE_NAME_BAND_6 = \"LC08_L1TP_205051_20200427_20200509_01_T1_B6.TIF\"\\n',\n",
       " '    FILE_NAME_BAND_7 = \"LC08_L1TP_205051_20200427_20200509_01_T1_B7.TIF\"\\n',\n",
       " '    FILE_NAME_BAND_8 = \"LC08_L1TP_205051_20200427_20200509_01_T1_B8.TIF\"\\n',\n",
       " '    FILE_NAME_BAND_9 = \"LC08_L1TP_205051_20200427_20200509_01_T1_B9.TIF\"\\n',\n",
       " '    FILE_NAME_BAND_10 = \"LC08_L1TP_205051_20200427_20200509_01_T1_B10.TIF\"\\n',\n",
       " '    FILE_NAME_BAND_11 = \"LC08_L1TP_205051_20200427_20200509_01_T1_B11.TIF\"\\n',\n",
       " '    FILE_NAME_BAND_QUALITY = \"LC08_L1TP_205051_20200427_20200509_01_T1_BQA.TIF\"\\n',\n",
       " '    ANGLE_COEFFICIENT_FILE_NAME = \"LC08_L1TP_205051_20200427_20200509_01_T1_ANG.txt\"\\n',\n",
       " '    METADATA_FILE_NAME = \"LC08_L1TP_205051_20200427_20200509_01_T1_MTL.txt\"\\n',\n",
       " '    CPF_NAME = \"LC08CPF_20200401_20200630_01.01\"\\n',\n",
       " '    BPF_NAME_OLI = \"LO8BPF20200427110139_20200427114951.01\"\\n',\n",
       " '    BPF_NAME_TIRS = \"LT8BPF20200419000412_20200507172808.01\"\\n',\n",
       " '    RLUT_FILE_NAME = \"LC08RLUT_20150303_20431231_01_12.h5\"\\n',\n",
       " '  END_GROUP = PRODUCT_METADATA\\n',\n",
       " '  GROUP = IMAGE_ATTRIBUTES\\n',\n",
       " '    CLOUD_COVER = 0.81\\n',\n",
       " '    CLOUD_COVER_LAND = 0.28\\n',\n",
       " '    IMAGE_QUALITY_OLI = 9\\n',\n",
       " '    IMAGE_QUALITY_TIRS = 9\\n',\n",
       " '    TIRS_SSM_MODEL = \"FINAL\"\\n',\n",
       " '    TIRS_SSM_POSITION_STATUS = \"ESTIMATED\"\\n',\n",
       " '    TIRS_STRAY_LIGHT_CORRECTION_SOURCE = \"TIRS\"\\n',\n",
       " '    ROLL_ANGLE = -0.001\\n',\n",
       " '    SUN_AZIMUTH = 84.59707214\\n',\n",
       " '    SUN_ELEVATION = 66.12145998\\n',\n",
       " '    EARTH_SUN_DISTANCE = 1.0067045\\n',\n",
       " '    SATURATION_BAND_1 = \"N\"\\n',\n",
       " '    SATURATION_BAND_2 = \"N\"\\n',\n",
       " '    SATURATION_BAND_3 = \"N\"\\n',\n",
       " '    SATURATION_BAND_4 = \"N\"\\n',\n",
       " '    SATURATION_BAND_5 = \"N\"\\n',\n",
       " '    SATURATION_BAND_6 = \"Y\"\\n',\n",
       " '    SATURATION_BAND_7 = \"Y\"\\n',\n",
       " '    SATURATION_BAND_8 = \"N\"\\n',\n",
       " '    SATURATION_BAND_9 = \"N\"\\n',\n",
       " '    GROUND_CONTROL_POINTS_VERSION = 4\\n',\n",
       " '    GROUND_CONTROL_POINTS_MODEL = 235\\n',\n",
       " '    GEOMETRIC_RMSE_MODEL = 7.964\\n',\n",
       " '    GEOMETRIC_RMSE_MODEL_Y = 5.731\\n',\n",
       " '    GEOMETRIC_RMSE_MODEL_X = 5.531\\n',\n",
       " '    GROUND_CONTROL_POINTS_VERIFY = 78\\n',\n",
       " '    GEOMETRIC_RMSE_VERIFY = 4.361\\n',\n",
       " '    TRUNCATION_OLI = \"UPPER\"\\n',\n",
       " '  END_GROUP = IMAGE_ATTRIBUTES\\n',\n",
       " '  GROUP = MIN_MAX_RADIANCE\\n',\n",
       " '    RADIANCE_MAXIMUM_BAND_1 = 749.97253\\n',\n",
       " '    RADIANCE_MINIMUM_BAND_1 = -61.93298\\n',\n",
       " '    RADIANCE_MAXIMUM_BAND_2 = 767.98102\\n',\n",
       " '    RADIANCE_MINIMUM_BAND_2 = -63.42012\\n',\n",
       " '    RADIANCE_MAXIMUM_BAND_3 = 707.68793\\n',\n",
       " '    RADIANCE_MINIMUM_BAND_3 = -58.44110\\n',\n",
       " '    RADIANCE_MAXIMUM_BAND_4 = 596.76233\\n',\n",
       " '    RADIANCE_MINIMUM_BAND_4 = -49.28083\\n',\n",
       " '    RADIANCE_MAXIMUM_BAND_5 = 365.18878\\n',\n",
       " '    RADIANCE_MINIMUM_BAND_5 = -30.15741\\n',\n",
       " '    RADIANCE_MAXIMUM_BAND_6 = 90.81913\\n',\n",
       " '    RADIANCE_MINIMUM_BAND_6 = -7.49987\\n',\n",
       " '    RADIANCE_MAXIMUM_BAND_7 = 30.61091\\n',\n",
       " '    RADIANCE_MINIMUM_BAND_7 = -2.52786\\n',\n",
       " '    RADIANCE_MAXIMUM_BAND_8 = 675.37073\\n',\n",
       " '    RADIANCE_MINIMUM_BAND_8 = -55.77234\\n',\n",
       " '    RADIANCE_MAXIMUM_BAND_9 = 142.72406\\n',\n",
       " '    RADIANCE_MINIMUM_BAND_9 = -11.78620\\n',\n",
       " '    RADIANCE_MAXIMUM_BAND_10 = 22.00180\\n',\n",
       " '    RADIANCE_MINIMUM_BAND_10 = 0.10033\\n',\n",
       " '    RADIANCE_MAXIMUM_BAND_11 = 22.00180\\n',\n",
       " '    RADIANCE_MINIMUM_BAND_11 = 0.10033\\n',\n",
       " '  END_GROUP = MIN_MAX_RADIANCE\\n',\n",
       " '  GROUP = MIN_MAX_REFLECTANCE\\n',\n",
       " '    REFLECTANCE_MAXIMUM_BAND_1 = 1.210700\\n',\n",
       " '    REFLECTANCE_MINIMUM_BAND_1 = -0.099980\\n',\n",
       " '    REFLECTANCE_MAXIMUM_BAND_2 = 1.210700\\n',\n",
       " '    REFLECTANCE_MINIMUM_BAND_2 = -0.099980\\n',\n",
       " '    REFLECTANCE_MAXIMUM_BAND_3 = 1.210700\\n',\n",
       " '    REFLECTANCE_MINIMUM_BAND_3 = -0.099980\\n',\n",
       " '    REFLECTANCE_MAXIMUM_BAND_4 = 1.210700\\n',\n",
       " '    REFLECTANCE_MINIMUM_BAND_4 = -0.099980\\n',\n",
       " '    REFLECTANCE_MAXIMUM_BAND_5 = 1.210700\\n',\n",
       " '    REFLECTANCE_MINIMUM_BAND_5 = -0.099980\\n',\n",
       " '    REFLECTANCE_MAXIMUM_BAND_6 = 1.210700\\n',\n",
       " '    REFLECTANCE_MINIMUM_BAND_6 = -0.099980\\n',\n",
       " '    REFLECTANCE_MAXIMUM_BAND_7 = 1.210700\\n',\n",
       " '    REFLECTANCE_MINIMUM_BAND_7 = -0.099980\\n',\n",
       " '    REFLECTANCE_MAXIMUM_BAND_8 = 1.210700\\n',\n",
       " '    REFLECTANCE_MINIMUM_BAND_8 = -0.099980\\n',\n",
       " '    REFLECTANCE_MAXIMUM_BAND_9 = 1.210700\\n',\n",
       " '    REFLECTANCE_MINIMUM_BAND_9 = -0.099980\\n',\n",
       " '  END_GROUP = MIN_MAX_REFLECTANCE\\n',\n",
       " '  GROUP = MIN_MAX_PIXEL_VALUE\\n',\n",
       " '    QUANTIZE_CAL_MAX_BAND_1 = 65535\\n',\n",
       " '    QUANTIZE_CAL_MIN_BAND_1 = 1\\n',\n",
       " '    QUANTIZE_CAL_MAX_BAND_2 = 65535\\n',\n",
       " '    QUANTIZE_CAL_MIN_BAND_2 = 1\\n',\n",
       " '    QUANTIZE_CAL_MAX_BAND_3 = 65535\\n',\n",
       " '    QUANTIZE_CAL_MIN_BAND_3 = 1\\n',\n",
       " '    QUANTIZE_CAL_MAX_BAND_4 = 65535\\n',\n",
       " '    QUANTIZE_CAL_MIN_BAND_4 = 1\\n',\n",
       " '    QUANTIZE_CAL_MAX_BAND_5 = 65535\\n',\n",
       " '    QUANTIZE_CAL_MIN_BAND_5 = 1\\n',\n",
       " '    QUANTIZE_CAL_MAX_BAND_6 = 65535\\n',\n",
       " '    QUANTIZE_CAL_MIN_BAND_6 = 1\\n',\n",
       " '    QUANTIZE_CAL_MAX_BAND_7 = 65535\\n',\n",
       " '    QUANTIZE_CAL_MIN_BAND_7 = 1\\n',\n",
       " '    QUANTIZE_CAL_MAX_BAND_8 = 65535\\n',\n",
       " '    QUANTIZE_CAL_MIN_BAND_8 = 1\\n',\n",
       " '    QUANTIZE_CAL_MAX_BAND_9 = 65535\\n',\n",
       " '    QUANTIZE_CAL_MIN_BAND_9 = 1\\n',\n",
       " '    QUANTIZE_CAL_MAX_BAND_10 = 65535\\n',\n",
       " '    QUANTIZE_CAL_MIN_BAND_10 = 1\\n',\n",
       " '    QUANTIZE_CAL_MAX_BAND_11 = 65535\\n',\n",
       " '    QUANTIZE_CAL_MIN_BAND_11 = 1\\n',\n",
       " '  END_GROUP = MIN_MAX_PIXEL_VALUE\\n',\n",
       " '  GROUP = RADIOMETRIC_RESCALING\\n',\n",
       " '    RADIANCE_MULT_BAND_1 = 1.2389E-02\\n',\n",
       " '    RADIANCE_MULT_BAND_2 = 1.2687E-02\\n',\n",
       " '    RADIANCE_MULT_BAND_3 = 1.1691E-02\\n',\n",
       " '    RADIANCE_MULT_BAND_4 = 9.8581E-03\\n',\n",
       " '    RADIANCE_MULT_BAND_5 = 6.0327E-03\\n',\n",
       " '    RADIANCE_MULT_BAND_6 = 1.5003E-03\\n',\n",
       " '    RADIANCE_MULT_BAND_7 = 5.0567E-04\\n',\n",
       " '    RADIANCE_MULT_BAND_8 = 1.1157E-02\\n',\n",
       " '    RADIANCE_MULT_BAND_9 = 2.3577E-03\\n',\n",
       " '    RADIANCE_MULT_BAND_10 = 3.3420E-04\\n',\n",
       " '    RADIANCE_MULT_BAND_11 = 3.3420E-04\\n',\n",
       " '    RADIANCE_ADD_BAND_1 = -61.94536\\n',\n",
       " '    RADIANCE_ADD_BAND_2 = -63.43281\\n',\n",
       " '    RADIANCE_ADD_BAND_3 = -58.45279\\n',\n",
       " '    RADIANCE_ADD_BAND_4 = -49.29069\\n',\n",
       " '    RADIANCE_ADD_BAND_5 = -30.16344\\n',\n",
       " '    RADIANCE_ADD_BAND_6 = -7.50137\\n',\n",
       " '    RADIANCE_ADD_BAND_7 = -2.52836\\n',\n",
       " '    RADIANCE_ADD_BAND_8 = -55.78349\\n',\n",
       " '    RADIANCE_ADD_BAND_9 = -11.78856\\n',\n",
       " '    RADIANCE_ADD_BAND_10 = 0.10000\\n',\n",
       " '    RADIANCE_ADD_BAND_11 = 0.10000\\n',\n",
       " '    REFLECTANCE_MULT_BAND_1 = 2.0000E-05\\n',\n",
       " '    REFLECTANCE_MULT_BAND_2 = 2.0000E-05\\n',\n",
       " '    REFLECTANCE_MULT_BAND_3 = 2.0000E-05\\n',\n",
       " '    REFLECTANCE_MULT_BAND_4 = 2.0000E-05\\n',\n",
       " '    REFLECTANCE_MULT_BAND_5 = 2.0000E-05\\n',\n",
       " '    REFLECTANCE_MULT_BAND_6 = 2.0000E-05\\n',\n",
       " '    REFLECTANCE_MULT_BAND_7 = 2.0000E-05\\n',\n",
       " '    REFLECTANCE_MULT_BAND_8 = 2.0000E-05\\n',\n",
       " '    REFLECTANCE_MULT_BAND_9 = 2.0000E-05\\n',\n",
       " '    REFLECTANCE_ADD_BAND_1 = -0.100000\\n',\n",
       " '    REFLECTANCE_ADD_BAND_2 = -0.100000\\n',\n",
       " '    REFLECTANCE_ADD_BAND_3 = -0.100000\\n',\n",
       " '    REFLECTANCE_ADD_BAND_4 = -0.100000\\n',\n",
       " '    REFLECTANCE_ADD_BAND_5 = -0.100000\\n',\n",
       " '    REFLECTANCE_ADD_BAND_6 = -0.100000\\n',\n",
       " '    REFLECTANCE_ADD_BAND_7 = -0.100000\\n',\n",
       " '    REFLECTANCE_ADD_BAND_8 = -0.100000\\n',\n",
       " '    REFLECTANCE_ADD_BAND_9 = -0.100000\\n',\n",
       " '  END_GROUP = RADIOMETRIC_RESCALING\\n',\n",
       " '  GROUP = TIRS_THERMAL_CONSTANTS\\n',\n",
       " '    K1_CONSTANT_BAND_10 = 774.8853\\n',\n",
       " '    K2_CONSTANT_BAND_10 = 1321.0789\\n',\n",
       " '    K1_CONSTANT_BAND_11 = 480.8883\\n',\n",
       " '    K2_CONSTANT_BAND_11 = 1201.1442\\n',\n",
       " '  END_GROUP = TIRS_THERMAL_CONSTANTS\\n',\n",
       " '  GROUP = PROJECTION_PARAMETERS\\n',\n",
       " '    MAP_PROJECTION = \"UTM\"\\n',\n",
       " '    DATUM = \"WGS84\"\\n',\n",
       " '    ELLIPSOID = \"WGS84\"\\n',\n",
       " '    UTM_ZONE = 28\\n',\n",
       " '    GRID_CELL_SIZE_PANCHROMATIC = 15.00\\n',\n",
       " '    GRID_CELL_SIZE_REFLECTIVE = 30.00\\n',\n",
       " '    GRID_CELL_SIZE_THERMAL = 30.00\\n',\n",
       " '    ORIENTATION = \"NORTH_UP\"\\n',\n",
       " '    RESAMPLING_OPTION = \"CUBIC_CONVOLUTION\"\\n',\n",
       " '  END_GROUP = PROJECTION_PARAMETERS\\n',\n",
       " 'END_GROUP = L1_METADATA_FILE\\n',\n",
       " 'END\\n']"
      ]
     },
     "execution_count": 25,
     "metadata": {},
     "output_type": "execute_result"
    }
   ],
   "source": [
    "metadata"
   ]
  },
  {
   "cell_type": "markdown",
   "metadata": {
    "hidden": true
   },
   "source": [
    "### 3. Parsing the metadata files"
   ]
  },
  {
   "cell_type": "markdown",
   "metadata": {
    "hidden": true
   },
   "source": [
    "uh, this looks really messy. Let's try to parse the data into a dictionary, so we can extract the necessary parameters."
   ]
  },
  {
   "cell_type": "code",
   "execution_count": 26,
   "metadata": {
    "hidden": true
   },
   "outputs": [],
   "source": [
    "reflectance_mult = \"REFLECTANCE_MULT_BAND_\"\n",
    "reflectance_add = \"REFLECTANCE_ADD_BAND_\""
   ]
  },
  {
   "cell_type": "markdown",
   "metadata": {
    "hidden": true
   },
   "source": [
    "__E:__ Write a function which takes the metadata (a list of tuples) and returns them as a dictionary where the keys are the parameter names and the values are the parameters values. Try to convert the values to float. If that is not possible, catch the exception with a `try: ... catch: ...` clause."
   ]
  },
  {
   "cell_type": "code",
   "execution_count": 27,
   "metadata": {
    "hidden": true
   },
   "outputs": [],
   "source": [
    "def parse_mtl(metadata):\n",
    "    params = {}\n",
    "    for x in metadata:\n",
    "        entry = x.strip().split(\"=\")\n",
    "        if len(entry) == 2:\n",
    "            key = entry[0].strip()\n",
    "            value = entry[1].strip()\n",
    "            try: \n",
    "                value = float(value)\n",
    "            except:\n",
    "                pass\n",
    "            params[key] = value\n",
    "    return params"
   ]
  },
  {
   "cell_type": "markdown",
   "metadata": {
    "hidden": true
   },
   "source": [
    "Test whether your function is working correctly writing tests which check that the correct values are extracted from the file, e.g. "
   ]
  },
  {
   "cell_type": "code",
   "execution_count": 28,
   "metadata": {
    "hidden": true
   },
   "outputs": [],
   "source": [
    "parameters = parse_mtl(metadata)\n",
    "assert parameters[reflectance_mult + str(3)] == 2e-05"
   ]
  },
  {
   "cell_type": "markdown",
   "metadata": {
    "hidden": true
   },
   "source": [
    "Extract all required parameters for conversion to ToA reflectance. "
   ]
  },
  {
   "cell_type": "code",
   "execution_count": 29,
   "metadata": {
    "hidden": true
   },
   "outputs": [],
   "source": [
    "band3_mult = parameters[reflectance_mult + \"3\"]\n",
    "band3_add = parameters[reflectance_add + \"3\"]\n",
    "band7_mult = parameters[reflectance_mult + \"7\"]\n",
    "band7_add = parameters[reflectance_add + \"7\"]"
   ]
  },
  {
   "cell_type": "markdown",
   "metadata": {
    "hidden": true
   },
   "source": [
    "### 4. Conversion to reflectance\n",
    "Now we that we have the parameters, we can write a function which will perform the conversion. "
   ]
  },
  {
   "cell_type": "markdown",
   "metadata": {
    "hidden": true
   },
   "source": [
    "__E:__ Write a function which converts the raw band to reflectance:"
   ]
  },
  {
   "cell_type": "code",
   "execution_count": 30,
   "metadata": {
    "hidden": true
   },
   "outputs": [],
   "source": [
    "def to_toa(val, add, mult):\n",
    "    return val * mult + add"
   ]
  },
  {
   "cell_type": "markdown",
   "metadata": {
    "hidden": true
   },
   "source": [
    "__E:__ Convert the the two spectral bands to reflectance. "
   ]
  },
  {
   "cell_type": "code",
   "execution_count": 31,
   "metadata": {
    "hidden": true
   },
   "outputs": [],
   "source": [
    "band3_r = to_toa(band3, band3_add, band3_mult)\n",
    "band7_r = to_toa(band7, band7_add, band7_mult)"
   ]
  },
  {
   "cell_type": "code",
   "execution_count": 32,
   "metadata": {
    "hidden": true
   },
   "outputs": [
    {
     "data": {
      "text/plain": [
       "<matplotlib.image.AxesImage at 0x7fdd20cd19d0>"
      ]
     },
     "execution_count": 32,
     "metadata": {},
     "output_type": "execute_result"
    },
    {
     "data": {
      "image/png": "[encoded data removed]",
      "text/plain": [
       "<Figure size 432x288 with 1 Axes>"
      ]
     },
     "metadata": {
      "needs_background": "light"
     },
     "output_type": "display_data"
    }
   ],
   "source": [
    "plt.imshow(band3_r)"
   ]
  },
  {
   "cell_type": "markdown",
   "metadata": {},
   "source": [
    "## Step 4: Calculate the water index"
   ]
  },
  {
   "cell_type": "markdown",
   "metadata": {},
   "source": [
    "We will use the Normalized Difference Water Index (NDWI) defined by McFeeters as an indicator for the presence of surface water.\n",
    "\n",
    "$NDWI = \\frac{L_{GREEN} - L_{SWIR}}{L_{GREEN} + L_{SWIR}}$\n",
    "\n",
    "__E:__ Write a function which calculate the NDWI based on the green and SWIR2 (short wave infrared 2) bands. "
   ]
  },
  {
   "cell_type": "code",
   "execution_count": 33,
   "metadata": {},
   "outputs": [],
   "source": [
    "def calc_ndwi(green, swir):\n",
    "    return (green - swir) / (green + swir)"
   ]
  },
  {
   "cell_type": "code",
   "execution_count": 34,
   "metadata": {},
   "outputs": [],
   "source": [
    "ndwi = calc_ndwi(band3_r, band7_r)"
   ]
  },
  {
   "cell_type": "code",
   "execution_count": 35,
   "metadata": {},
   "outputs": [
    {
     "data": {
      "text/plain": [
       "<matplotlib.image.AxesImage at 0x7fdd1e5b2a10>"
      ]
     },
     "execution_count": 35,
     "metadata": {},
     "output_type": "execute_result"
    },
    {
     "data": {
      "image/png": "[encoded data removed]",
      "text/plain": [
       "<Figure size 432x288 with 1 Axes>"
      ]
     },
     "metadata": {
      "needs_background": "light"
     },
     "output_type": "display_data"
    }
   ],
   "source": [
    "plt.imshow(ndwi)"
   ]
  },
  {
   "cell_type": "markdown",
   "metadata": {},
   "source": [
    "## Step 5: Calculate water frequency based on the whole time series"
   ]
  },
  {
   "cell_type": "markdown",
   "metadata": {},
   "source": [
    "Great! So we have the code to load and convert the satellite imagery and to calculate the NDWI of a single satellite image. Now let's put everything together in a for loop which iterates through all the Landsat scenes. We don't need the spectral bands for the further analysis, so we can just delete them and only store the numpy array containing the NDWI."
   ]
  },
  {
   "cell_type": "code",
   "execution_count": null,
   "metadata": {
    "code_folding": []
   },
   "outputs": [
    {
     "name": "stdout",
     "output_type": "stream",
     "text": [
      "LC82050502020150\n"
     ]
    },
    {
     "name": "stderr",
     "output_type": "stream",
     "text": [
      "/Users/chludwig/miniconda3/envs/advgeo37/lib/python3.7/site-packages/pyproj/crs/crs.py:53: FutureWarning: '+init=<authority>:<code>' syntax is deprecated. '<authority>:<code>' is the preferred initialization method. When making the change, be mindful of axis order changes: https://pyproj4.github.io/pyproj/stable/gotchas.html#axis-order-changes-in-proj-6\n",
      "  return _prepare_from_string(\" \".join(pjargs))\n",
      "/Users/chludwig/miniconda3/envs/advgeo37/lib/python3.7/site-packages/pyproj/crs/crs.py:294: FutureWarning: '+init=<authority>:<code>' syntax is deprecated. '<authority>:<code>' is the preferred initialization method. When making the change, be mindful of axis order changes: https://pyproj4.github.io/pyproj/stable/gotchas.html#axis-order-changes-in-proj-6\n",
      "  projstring = _prepare_from_string(\" \".join((projstring, projkwargs)))\n",
      "/Users/chludwig/miniconda3/envs/advgeo37/lib/python3.7/site-packages/pyproj/crs/crs.py:53: FutureWarning: '+init=<authority>:<code>' syntax is deprecated. '<authority>:<code>' is the preferred initialization method. When making the change, be mindful of axis order changes: https://pyproj4.github.io/pyproj/stable/gotchas.html#axis-order-changes-in-proj-6\n",
      "  return _prepare_from_string(\" \".join(pjargs))\n",
      "/Users/chludwig/miniconda3/envs/advgeo37/lib/python3.7/site-packages/pyproj/crs/crs.py:294: FutureWarning: '+init=<authority>:<code>' syntax is deprecated. '<authority>:<code>' is the preferred initialization method. When making the change, be mindful of axis order changes: https://pyproj4.github.io/pyproj/stable/gotchas.html#axis-order-changes-in-proj-6\n",
      "  projstring = _prepare_from_string(\" \".join((projstring, projkwargs)))\n",
      "/Users/chludwig/miniconda3/envs/advgeo37/lib/python3.7/site-packages/ipykernel_launcher.py:7: DeprecationWarning: This function is deprecated. See: https://pyproj4.github.io/pyproj/stable/gotchas.html#upgrading-to-pyproj-2-from-pyproj-1\n",
      "  import sys\n",
      "/Users/chludwig/miniconda3/envs/advgeo37/lib/python3.7/site-packages/pyproj/crs/crs.py:53: FutureWarning: '+init=<authority>:<code>' syntax is deprecated. '<authority>:<code>' is the preferred initialization method. When making the change, be mindful of axis order changes: https://pyproj4.github.io/pyproj/stable/gotchas.html#axis-order-changes-in-proj-6\n",
      "  return _prepare_from_string(\" \".join(pjargs))\n",
      "/Users/chludwig/miniconda3/envs/advgeo37/lib/python3.7/site-packages/pyproj/crs/crs.py:294: FutureWarning: '+init=<authority>:<code>' syntax is deprecated. '<authority>:<code>' is the preferred initialization method. When making the change, be mindful of axis order changes: https://pyproj4.github.io/pyproj/stable/gotchas.html#axis-order-changes-in-proj-6\n",
      "  projstring = _prepare_from_string(\" \".join((projstring, projkwargs)))\n",
      "/Users/chludwig/miniconda3/envs/advgeo37/lib/python3.7/site-packages/pyproj/crs/crs.py:53: FutureWarning: '+init=<authority>:<code>' syntax is deprecated. '<authority>:<code>' is the preferred initialization method. When making the change, be mindful of axis order changes: https://pyproj4.github.io/pyproj/stable/gotchas.html#axis-order-changes-in-proj-6\n",
      "  return _prepare_from_string(\" \".join(pjargs))\n",
      "/Users/chludwig/miniconda3/envs/advgeo37/lib/python3.7/site-packages/pyproj/crs/crs.py:294: FutureWarning: '+init=<authority>:<code>' syntax is deprecated. '<authority>:<code>' is the preferred initialization method. When making the change, be mindful of axis order changes: https://pyproj4.github.io/pyproj/stable/gotchas.html#axis-order-changes-in-proj-6\n",
      "  projstring = _prepare_from_string(\" \".join((projstring, projkwargs)))\n",
      "/Users/chludwig/miniconda3/envs/advgeo37/lib/python3.7/site-packages/ipykernel_launcher.py:8: DeprecationWarning: This function is deprecated. See: https://pyproj4.github.io/pyproj/stable/gotchas.html#upgrading-to-pyproj-2-from-pyproj-1\n",
      "  \n"
     ]
    },
    {
     "name": "stdout",
     "output_type": "stream",
     "text": [
      "LC82050502020134\n"
     ]
    },
    {
     "name": "stderr",
     "output_type": "stream",
     "text": [
      "/Users/chludwig/miniconda3/envs/advgeo37/lib/python3.7/site-packages/pyproj/crs/crs.py:53: FutureWarning: '+init=<authority>:<code>' syntax is deprecated. '<authority>:<code>' is the preferred initialization method. When making the change, be mindful of axis order changes: https://pyproj4.github.io/pyproj/stable/gotchas.html#axis-order-changes-in-proj-6\n",
      "  return _prepare_from_string(\" \".join(pjargs))\n",
      "/Users/chludwig/miniconda3/envs/advgeo37/lib/python3.7/site-packages/pyproj/crs/crs.py:294: FutureWarning: '+init=<authority>:<code>' syntax is deprecated. '<authority>:<code>' is the preferred initialization method. When making the change, be mindful of axis order changes: https://pyproj4.github.io/pyproj/stable/gotchas.html#axis-order-changes-in-proj-6\n",
      "  projstring = _prepare_from_string(\" \".join((projstring, projkwargs)))\n",
      "/Users/chludwig/miniconda3/envs/advgeo37/lib/python3.7/site-packages/pyproj/crs/crs.py:53: FutureWarning: '+init=<authority>:<code>' syntax is deprecated. '<authority>:<code>' is the preferred initialization method. When making the change, be mindful of axis order changes: https://pyproj4.github.io/pyproj/stable/gotchas.html#axis-order-changes-in-proj-6\n",
      "  return _prepare_from_string(\" \".join(pjargs))\n",
      "/Users/chludwig/miniconda3/envs/advgeo37/lib/python3.7/site-packages/pyproj/crs/crs.py:294: FutureWarning: '+init=<authority>:<code>' syntax is deprecated. '<authority>:<code>' is the preferred initialization method. When making the change, be mindful of axis order changes: https://pyproj4.github.io/pyproj/stable/gotchas.html#axis-order-changes-in-proj-6\n",
      "  projstring = _prepare_from_string(\" \".join((projstring, projkwargs)))\n",
      "/Users/chludwig/miniconda3/envs/advgeo37/lib/python3.7/site-packages/ipykernel_launcher.py:7: DeprecationWarning: This function is deprecated. See: https://pyproj4.github.io/pyproj/stable/gotchas.html#upgrading-to-pyproj-2-from-pyproj-1\n",
      "  import sys\n",
      "/Users/chludwig/miniconda3/envs/advgeo37/lib/python3.7/site-packages/pyproj/crs/crs.py:53: FutureWarning: '+init=<authority>:<code>' syntax is deprecated. '<authority>:<code>' is the preferred initialization method. When making the change, be mindful of axis order changes: https://pyproj4.github.io/pyproj/stable/gotchas.html#axis-order-changes-in-proj-6\n",
      "  return _prepare_from_string(\" \".join(pjargs))\n",
      "/Users/chludwig/miniconda3/envs/advgeo37/lib/python3.7/site-packages/pyproj/crs/crs.py:294: FutureWarning: '+init=<authority>:<code>' syntax is deprecated. '<authority>:<code>' is the preferred initialization method. When making the change, be mindful of axis order changes: https://pyproj4.github.io/pyproj/stable/gotchas.html#axis-order-changes-in-proj-6\n",
      "  projstring = _prepare_from_string(\" \".join((projstring, projkwargs)))\n",
      "/Users/chludwig/miniconda3/envs/advgeo37/lib/python3.7/site-packages/pyproj/crs/crs.py:53: FutureWarning: '+init=<authority>:<code>' syntax is deprecated. '<authority>:<code>' is the preferred initialization method. When making the change, be mindful of axis order changes: https://pyproj4.github.io/pyproj/stable/gotchas.html#axis-order-changes-in-proj-6\n",
      "  return _prepare_from_string(\" \".join(pjargs))\n",
      "/Users/chludwig/miniconda3/envs/advgeo37/lib/python3.7/site-packages/pyproj/crs/crs.py:294: FutureWarning: '+init=<authority>:<code>' syntax is deprecated. '<authority>:<code>' is the preferred initialization method. When making the change, be mindful of axis order changes: https://pyproj4.github.io/pyproj/stable/gotchas.html#axis-order-changes-in-proj-6\n",
      "  projstring = _prepare_from_string(\" \".join((projstring, projkwargs)))\n",
      "/Users/chludwig/miniconda3/envs/advgeo37/lib/python3.7/site-packages/ipykernel_launcher.py:8: DeprecationWarning: This function is deprecated. See: https://pyproj4.github.io/pyproj/stable/gotchas.html#upgrading-to-pyproj-2-from-pyproj-1\n",
      "  \n"
     ]
    },
    {
     "name": "stdout",
     "output_type": "stream",
     "text": [
      "LC82050512020118\n"
     ]
    },
    {
     "name": "stderr",
     "output_type": "stream",
     "text": [
      "/Users/chludwig/miniconda3/envs/advgeo37/lib/python3.7/site-packages/pyproj/crs/crs.py:53: FutureWarning: '+init=<authority>:<code>' syntax is deprecated. '<authority>:<code>' is the preferred initialization method. When making the change, be mindful of axis order changes: https://pyproj4.github.io/pyproj/stable/gotchas.html#axis-order-changes-in-proj-6\n",
      "  return _prepare_from_string(\" \".join(pjargs))\n",
      "/Users/chludwig/miniconda3/envs/advgeo37/lib/python3.7/site-packages/pyproj/crs/crs.py:294: FutureWarning: '+init=<authority>:<code>' syntax is deprecated. '<authority>:<code>' is the preferred initialization method. When making the change, be mindful of axis order changes: https://pyproj4.github.io/pyproj/stable/gotchas.html#axis-order-changes-in-proj-6\n",
      "  projstring = _prepare_from_string(\" \".join((projstring, projkwargs)))\n",
      "/Users/chludwig/miniconda3/envs/advgeo37/lib/python3.7/site-packages/pyproj/crs/crs.py:53: FutureWarning: '+init=<authority>:<code>' syntax is deprecated. '<authority>:<code>' is the preferred initialization method. When making the change, be mindful of axis order changes: https://pyproj4.github.io/pyproj/stable/gotchas.html#axis-order-changes-in-proj-6\n",
      "  return _prepare_from_string(\" \".join(pjargs))\n",
      "/Users/chludwig/miniconda3/envs/advgeo37/lib/python3.7/site-packages/pyproj/crs/crs.py:294: FutureWarning: '+init=<authority>:<code>' syntax is deprecated. '<authority>:<code>' is the preferred initialization method. When making the change, be mindful of axis order changes: https://pyproj4.github.io/pyproj/stable/gotchas.html#axis-order-changes-in-proj-6\n",
      "  projstring = _prepare_from_string(\" \".join((projstring, projkwargs)))\n",
      "/Users/chludwig/miniconda3/envs/advgeo37/lib/python3.7/site-packages/ipykernel_launcher.py:7: DeprecationWarning: This function is deprecated. See: https://pyproj4.github.io/pyproj/stable/gotchas.html#upgrading-to-pyproj-2-from-pyproj-1\n",
      "  import sys\n",
      "/Users/chludwig/miniconda3/envs/advgeo37/lib/python3.7/site-packages/pyproj/crs/crs.py:53: FutureWarning: '+init=<authority>:<code>' syntax is deprecated. '<authority>:<code>' is the preferred initialization method. When making the change, be mindful of axis order changes: https://pyproj4.github.io/pyproj/stable/gotchas.html#axis-order-changes-in-proj-6\n",
      "  return _prepare_from_string(\" \".join(pjargs))\n",
      "/Users/chludwig/miniconda3/envs/advgeo37/lib/python3.7/site-packages/pyproj/crs/crs.py:294: FutureWarning: '+init=<authority>:<code>' syntax is deprecated. '<authority>:<code>' is the preferred initialization method. When making the change, be mindful of axis order changes: https://pyproj4.github.io/pyproj/stable/gotchas.html#axis-order-changes-in-proj-6\n",
      "  projstring = _prepare_from_string(\" \".join((projstring, projkwargs)))\n",
      "/Users/chludwig/miniconda3/envs/advgeo37/lib/python3.7/site-packages/pyproj/crs/crs.py:53: FutureWarning: '+init=<authority>:<code>' syntax is deprecated. '<authority>:<code>' is the preferred initialization method. When making the change, be mindful of axis order changes: https://pyproj4.github.io/pyproj/stable/gotchas.html#axis-order-changes-in-proj-6\n",
      "  return _prepare_from_string(\" \".join(pjargs))\n",
      "/Users/chludwig/miniconda3/envs/advgeo37/lib/python3.7/site-packages/pyproj/crs/crs.py:294: FutureWarning: '+init=<authority>:<code>' syntax is deprecated. '<authority>:<code>' is the preferred initialization method. When making the change, be mindful of axis order changes: https://pyproj4.github.io/pyproj/stable/gotchas.html#axis-order-changes-in-proj-6\n",
      "  projstring = _prepare_from_string(\" \".join((projstring, projkwargs)))\n",
      "/Users/chludwig/miniconda3/envs/advgeo37/lib/python3.7/site-packages/ipykernel_launcher.py:8: DeprecationWarning: This function is deprecated. See: https://pyproj4.github.io/pyproj/stable/gotchas.html#upgrading-to-pyproj-2-from-pyproj-1\n",
      "  \n"
     ]
    },
    {
     "name": "stdout",
     "output_type": "stream",
     "text": [
      "LC82050502020118\n"
     ]
    },
    {
     "name": "stderr",
     "output_type": "stream",
     "text": [
      "/Users/chludwig/miniconda3/envs/advgeo37/lib/python3.7/site-packages/pyproj/crs/crs.py:53: FutureWarning: '+init=<authority>:<code>' syntax is deprecated. '<authority>:<code>' is the preferred initialization method. When making the change, be mindful of axis order changes: https://pyproj4.github.io/pyproj/stable/gotchas.html#axis-order-changes-in-proj-6\n",
      "  return _prepare_from_string(\" \".join(pjargs))\n",
      "/Users/chludwig/miniconda3/envs/advgeo37/lib/python3.7/site-packages/pyproj/crs/crs.py:294: FutureWarning: '+init=<authority>:<code>' syntax is deprecated. '<authority>:<code>' is the preferred initialization method. When making the change, be mindful of axis order changes: https://pyproj4.github.io/pyproj/stable/gotchas.html#axis-order-changes-in-proj-6\n",
      "  projstring = _prepare_from_string(\" \".join((projstring, projkwargs)))\n",
      "/Users/chludwig/miniconda3/envs/advgeo37/lib/python3.7/site-packages/pyproj/crs/crs.py:53: FutureWarning: '+init=<authority>:<code>' syntax is deprecated. '<authority>:<code>' is the preferred initialization method. When making the change, be mindful of axis order changes: https://pyproj4.github.io/pyproj/stable/gotchas.html#axis-order-changes-in-proj-6\n",
      "  return _prepare_from_string(\" \".join(pjargs))\n",
      "/Users/chludwig/miniconda3/envs/advgeo37/lib/python3.7/site-packages/pyproj/crs/crs.py:294: FutureWarning: '+init=<authority>:<code>' syntax is deprecated. '<authority>:<code>' is the preferred initialization method. When making the change, be mindful of axis order changes: https://pyproj4.github.io/pyproj/stable/gotchas.html#axis-order-changes-in-proj-6\n",
      "  projstring = _prepare_from_string(\" \".join((projstring, projkwargs)))\n",
      "/Users/chludwig/miniconda3/envs/advgeo37/lib/python3.7/site-packages/ipykernel_launcher.py:7: DeprecationWarning: This function is deprecated. See: https://pyproj4.github.io/pyproj/stable/gotchas.html#upgrading-to-pyproj-2-from-pyproj-1\n",
      "  import sys\n",
      "/Users/chludwig/miniconda3/envs/advgeo37/lib/python3.7/site-packages/pyproj/crs/crs.py:53: FutureWarning: '+init=<authority>:<code>' syntax is deprecated. '<authority>:<code>' is the preferred initialization method. When making the change, be mindful of axis order changes: https://pyproj4.github.io/pyproj/stable/gotchas.html#axis-order-changes-in-proj-6\n",
      "  return _prepare_from_string(\" \".join(pjargs))\n",
      "/Users/chludwig/miniconda3/envs/advgeo37/lib/python3.7/site-packages/pyproj/crs/crs.py:294: FutureWarning: '+init=<authority>:<code>' syntax is deprecated. '<authority>:<code>' is the preferred initialization method. When making the change, be mindful of axis order changes: https://pyproj4.github.io/pyproj/stable/gotchas.html#axis-order-changes-in-proj-6\n",
      "  projstring = _prepare_from_string(\" \".join((projstring, projkwargs)))\n",
      "/Users/chludwig/miniconda3/envs/advgeo37/lib/python3.7/site-packages/pyproj/crs/crs.py:53: FutureWarning: '+init=<authority>:<code>' syntax is deprecated. '<authority>:<code>' is the preferred initialization method. When making the change, be mindful of axis order changes: https://pyproj4.github.io/pyproj/stable/gotchas.html#axis-order-changes-in-proj-6\n",
      "  return _prepare_from_string(\" \".join(pjargs))\n",
      "/Users/chludwig/miniconda3/envs/advgeo37/lib/python3.7/site-packages/pyproj/crs/crs.py:294: FutureWarning: '+init=<authority>:<code>' syntax is deprecated. '<authority>:<code>' is the preferred initialization method. When making the change, be mindful of axis order changes: https://pyproj4.github.io/pyproj/stable/gotchas.html#axis-order-changes-in-proj-6\n",
      "  projstring = _prepare_from_string(\" \".join((projstring, projkwargs)))\n",
      "/Users/chludwig/miniconda3/envs/advgeo37/lib/python3.7/site-packages/ipykernel_launcher.py:8: DeprecationWarning: This function is deprecated. See: https://pyproj4.github.io/pyproj/stable/gotchas.html#upgrading-to-pyproj-2-from-pyproj-1\n",
      "  \n"
     ]
    },
    {
     "name": "stdout",
     "output_type": "stream",
     "text": [
      "LC82050502020102\n"
     ]
    },
    {
     "name": "stderr",
     "output_type": "stream",
     "text": [
      "/Users/chludwig/miniconda3/envs/advgeo37/lib/python3.7/site-packages/pyproj/crs/crs.py:53: FutureWarning: '+init=<authority>:<code>' syntax is deprecated. '<authority>:<code>' is the preferred initialization method. When making the change, be mindful of axis order changes: https://pyproj4.github.io/pyproj/stable/gotchas.html#axis-order-changes-in-proj-6\n",
      "  return _prepare_from_string(\" \".join(pjargs))\n",
      "/Users/chludwig/miniconda3/envs/advgeo37/lib/python3.7/site-packages/pyproj/crs/crs.py:294: FutureWarning: '+init=<authority>:<code>' syntax is deprecated. '<authority>:<code>' is the preferred initialization method. When making the change, be mindful of axis order changes: https://pyproj4.github.io/pyproj/stable/gotchas.html#axis-order-changes-in-proj-6\n",
      "  projstring = _prepare_from_string(\" \".join((projstring, projkwargs)))\n",
      "/Users/chludwig/miniconda3/envs/advgeo37/lib/python3.7/site-packages/pyproj/crs/crs.py:53: FutureWarning: '+init=<authority>:<code>' syntax is deprecated. '<authority>:<code>' is the preferred initialization method. When making the change, be mindful of axis order changes: https://pyproj4.github.io/pyproj/stable/gotchas.html#axis-order-changes-in-proj-6\n",
      "  return _prepare_from_string(\" \".join(pjargs))\n",
      "/Users/chludwig/miniconda3/envs/advgeo37/lib/python3.7/site-packages/pyproj/crs/crs.py:294: FutureWarning: '+init=<authority>:<code>' syntax is deprecated. '<authority>:<code>' is the preferred initialization method. When making the change, be mindful of axis order changes: https://pyproj4.github.io/pyproj/stable/gotchas.html#axis-order-changes-in-proj-6\n",
      "  projstring = _prepare_from_string(\" \".join((projstring, projkwargs)))\n",
      "/Users/chludwig/miniconda3/envs/advgeo37/lib/python3.7/site-packages/ipykernel_launcher.py:7: DeprecationWarning: This function is deprecated. See: https://pyproj4.github.io/pyproj/stable/gotchas.html#upgrading-to-pyproj-2-from-pyproj-1\n",
      "  import sys\n",
      "/Users/chludwig/miniconda3/envs/advgeo37/lib/python3.7/site-packages/pyproj/crs/crs.py:53: FutureWarning: '+init=<authority>:<code>' syntax is deprecated. '<authority>:<code>' is the preferred initialization method. When making the change, be mindful of axis order changes: https://pyproj4.github.io/pyproj/stable/gotchas.html#axis-order-changes-in-proj-6\n",
      "  return _prepare_from_string(\" \".join(pjargs))\n",
      "/Users/chludwig/miniconda3/envs/advgeo37/lib/python3.7/site-packages/pyproj/crs/crs.py:294: FutureWarning: '+init=<authority>:<code>' syntax is deprecated. '<authority>:<code>' is the preferred initialization method. When making the change, be mindful of axis order changes: https://pyproj4.github.io/pyproj/stable/gotchas.html#axis-order-changes-in-proj-6\n",
      "  projstring = _prepare_from_string(\" \".join((projstring, projkwargs)))\n",
      "/Users/chludwig/miniconda3/envs/advgeo37/lib/python3.7/site-packages/pyproj/crs/crs.py:53: FutureWarning: '+init=<authority>:<code>' syntax is deprecated. '<authority>:<code>' is the preferred initialization method. When making the change, be mindful of axis order changes: https://pyproj4.github.io/pyproj/stable/gotchas.html#axis-order-changes-in-proj-6\n",
      "  return _prepare_from_string(\" \".join(pjargs))\n",
      "/Users/chludwig/miniconda3/envs/advgeo37/lib/python3.7/site-packages/pyproj/crs/crs.py:294: FutureWarning: '+init=<authority>:<code>' syntax is deprecated. '<authority>:<code>' is the preferred initialization method. When making the change, be mindful of axis order changes: https://pyproj4.github.io/pyproj/stable/gotchas.html#axis-order-changes-in-proj-6\n",
      "  projstring = _prepare_from_string(\" \".join((projstring, projkwargs)))\n",
      "/Users/chludwig/miniconda3/envs/advgeo37/lib/python3.7/site-packages/ipykernel_launcher.py:8: DeprecationWarning: This function is deprecated. See: https://pyproj4.github.io/pyproj/stable/gotchas.html#upgrading-to-pyproj-2-from-pyproj-1\n",
      "  \n"
     ]
    },
    {
     "name": "stdout",
     "output_type": "stream",
     "text": [
      "LC82050512020086\n"
     ]
    },
    {
     "name": "stderr",
     "output_type": "stream",
     "text": [
      "/Users/chludwig/miniconda3/envs/advgeo37/lib/python3.7/site-packages/pyproj/crs/crs.py:53: FutureWarning: '+init=<authority>:<code>' syntax is deprecated. '<authority>:<code>' is the preferred initialization method. When making the change, be mindful of axis order changes: https://pyproj4.github.io/pyproj/stable/gotchas.html#axis-order-changes-in-proj-6\n",
      "  return _prepare_from_string(\" \".join(pjargs))\n",
      "/Users/chludwig/miniconda3/envs/advgeo37/lib/python3.7/site-packages/pyproj/crs/crs.py:294: FutureWarning: '+init=<authority>:<code>' syntax is deprecated. '<authority>:<code>' is the preferred initialization method. When making the change, be mindful of axis order changes: https://pyproj4.github.io/pyproj/stable/gotchas.html#axis-order-changes-in-proj-6\n",
      "  projstring = _prepare_from_string(\" \".join((projstring, projkwargs)))\n",
      "/Users/chludwig/miniconda3/envs/advgeo37/lib/python3.7/site-packages/pyproj/crs/crs.py:53: FutureWarning: '+init=<authority>:<code>' syntax is deprecated. '<authority>:<code>' is the preferred initialization method. When making the change, be mindful of axis order changes: https://pyproj4.github.io/pyproj/stable/gotchas.html#axis-order-changes-in-proj-6\n",
      "  return _prepare_from_string(\" \".join(pjargs))\n",
      "/Users/chludwig/miniconda3/envs/advgeo37/lib/python3.7/site-packages/pyproj/crs/crs.py:294: FutureWarning: '+init=<authority>:<code>' syntax is deprecated. '<authority>:<code>' is the preferred initialization method. When making the change, be mindful of axis order changes: https://pyproj4.github.io/pyproj/stable/gotchas.html#axis-order-changes-in-proj-6\n",
      "  projstring = _prepare_from_string(\" \".join((projstring, projkwargs)))\n",
      "/Users/chludwig/miniconda3/envs/advgeo37/lib/python3.7/site-packages/ipykernel_launcher.py:7: DeprecationWarning: This function is deprecated. See: https://pyproj4.github.io/pyproj/stable/gotchas.html#upgrading-to-pyproj-2-from-pyproj-1\n",
      "  import sys\n",
      "/Users/chludwig/miniconda3/envs/advgeo37/lib/python3.7/site-packages/pyproj/crs/crs.py:53: FutureWarning: '+init=<authority>:<code>' syntax is deprecated. '<authority>:<code>' is the preferred initialization method. When making the change, be mindful of axis order changes: https://pyproj4.github.io/pyproj/stable/gotchas.html#axis-order-changes-in-proj-6\n",
      "  return _prepare_from_string(\" \".join(pjargs))\n",
      "/Users/chludwig/miniconda3/envs/advgeo37/lib/python3.7/site-packages/pyproj/crs/crs.py:294: FutureWarning: '+init=<authority>:<code>' syntax is deprecated. '<authority>:<code>' is the preferred initialization method. When making the change, be mindful of axis order changes: https://pyproj4.github.io/pyproj/stable/gotchas.html#axis-order-changes-in-proj-6\n",
      "  projstring = _prepare_from_string(\" \".join((projstring, projkwargs)))\n",
      "/Users/chludwig/miniconda3/envs/advgeo37/lib/python3.7/site-packages/pyproj/crs/crs.py:53: FutureWarning: '+init=<authority>:<code>' syntax is deprecated. '<authority>:<code>' is the preferred initialization method. When making the change, be mindful of axis order changes: https://pyproj4.github.io/pyproj/stable/gotchas.html#axis-order-changes-in-proj-6\n",
      "  return _prepare_from_string(\" \".join(pjargs))\n",
      "/Users/chludwig/miniconda3/envs/advgeo37/lib/python3.7/site-packages/pyproj/crs/crs.py:294: FutureWarning: '+init=<authority>:<code>' syntax is deprecated. '<authority>:<code>' is the preferred initialization method. When making the change, be mindful of axis order changes: https://pyproj4.github.io/pyproj/stable/gotchas.html#axis-order-changes-in-proj-6\n",
      "  projstring = _prepare_from_string(\" \".join((projstring, projkwargs)))\n",
      "/Users/chludwig/miniconda3/envs/advgeo37/lib/python3.7/site-packages/ipykernel_launcher.py:8: DeprecationWarning: This function is deprecated. See: https://pyproj4.github.io/pyproj/stable/gotchas.html#upgrading-to-pyproj-2-from-pyproj-1\n",
      "  \n"
     ]
    },
    {
     "name": "stdout",
     "output_type": "stream",
     "text": [
      "LC82050502020086\n"
     ]
    },
    {
     "name": "stderr",
     "output_type": "stream",
     "text": [
      "/Users/chludwig/miniconda3/envs/advgeo37/lib/python3.7/site-packages/pyproj/crs/crs.py:53: FutureWarning: '+init=<authority>:<code>' syntax is deprecated. '<authority>:<code>' is the preferred initialization method. When making the change, be mindful of axis order changes: https://pyproj4.github.io/pyproj/stable/gotchas.html#axis-order-changes-in-proj-6\n",
      "  return _prepare_from_string(\" \".join(pjargs))\n",
      "/Users/chludwig/miniconda3/envs/advgeo37/lib/python3.7/site-packages/pyproj/crs/crs.py:294: FutureWarning: '+init=<authority>:<code>' syntax is deprecated. '<authority>:<code>' is the preferred initialization method. When making the change, be mindful of axis order changes: https://pyproj4.github.io/pyproj/stable/gotchas.html#axis-order-changes-in-proj-6\n",
      "  projstring = _prepare_from_string(\" \".join((projstring, projkwargs)))\n",
      "/Users/chludwig/miniconda3/envs/advgeo37/lib/python3.7/site-packages/pyproj/crs/crs.py:53: FutureWarning: '+init=<authority>:<code>' syntax is deprecated. '<authority>:<code>' is the preferred initialization method. When making the change, be mindful of axis order changes: https://pyproj4.github.io/pyproj/stable/gotchas.html#axis-order-changes-in-proj-6\n",
      "  return _prepare_from_string(\" \".join(pjargs))\n",
      "/Users/chludwig/miniconda3/envs/advgeo37/lib/python3.7/site-packages/pyproj/crs/crs.py:294: FutureWarning: '+init=<authority>:<code>' syntax is deprecated. '<authority>:<code>' is the preferred initialization method. When making the change, be mindful of axis order changes: https://pyproj4.github.io/pyproj/stable/gotchas.html#axis-order-changes-in-proj-6\n",
      "  projstring = _prepare_from_string(\" \".join((projstring, projkwargs)))\n",
      "/Users/chludwig/miniconda3/envs/advgeo37/lib/python3.7/site-packages/ipykernel_launcher.py:7: DeprecationWarning: This function is deprecated. See: https://pyproj4.github.io/pyproj/stable/gotchas.html#upgrading-to-pyproj-2-from-pyproj-1\n",
      "  import sys\n",
      "/Users/chludwig/miniconda3/envs/advgeo37/lib/python3.7/site-packages/pyproj/crs/crs.py:53: FutureWarning: '+init=<authority>:<code>' syntax is deprecated. '<authority>:<code>' is the preferred initialization method. When making the change, be mindful of axis order changes: https://pyproj4.github.io/pyproj/stable/gotchas.html#axis-order-changes-in-proj-6\n",
      "  return _prepare_from_string(\" \".join(pjargs))\n",
      "/Users/chludwig/miniconda3/envs/advgeo37/lib/python3.7/site-packages/pyproj/crs/crs.py:294: FutureWarning: '+init=<authority>:<code>' syntax is deprecated. '<authority>:<code>' is the preferred initialization method. When making the change, be mindful of axis order changes: https://pyproj4.github.io/pyproj/stable/gotchas.html#axis-order-changes-in-proj-6\n",
      "  projstring = _prepare_from_string(\" \".join((projstring, projkwargs)))\n",
      "/Users/chludwig/miniconda3/envs/advgeo37/lib/python3.7/site-packages/pyproj/crs/crs.py:53: FutureWarning: '+init=<authority>:<code>' syntax is deprecated. '<authority>:<code>' is the preferred initialization method. When making the change, be mindful of axis order changes: https://pyproj4.github.io/pyproj/stable/gotchas.html#axis-order-changes-in-proj-6\n",
      "  return _prepare_from_string(\" \".join(pjargs))\n",
      "/Users/chludwig/miniconda3/envs/advgeo37/lib/python3.7/site-packages/pyproj/crs/crs.py:294: FutureWarning: '+init=<authority>:<code>' syntax is deprecated. '<authority>:<code>' is the preferred initialization method. When making the change, be mindful of axis order changes: https://pyproj4.github.io/pyproj/stable/gotchas.html#axis-order-changes-in-proj-6\n",
      "  projstring = _prepare_from_string(\" \".join((projstring, projkwargs)))\n",
      "/Users/chludwig/miniconda3/envs/advgeo37/lib/python3.7/site-packages/ipykernel_launcher.py:8: DeprecationWarning: This function is deprecated. See: https://pyproj4.github.io/pyproj/stable/gotchas.html#upgrading-to-pyproj-2-from-pyproj-1\n",
      "  \n"
     ]
    },
    {
     "name": "stdout",
     "output_type": "stream",
     "text": [
      "LC82050502020070\n"
     ]
    },
    {
     "name": "stderr",
     "output_type": "stream",
     "text": [
      "/Users/chludwig/miniconda3/envs/advgeo37/lib/python3.7/site-packages/pyproj/crs/crs.py:53: FutureWarning: '+init=<authority>:<code>' syntax is deprecated. '<authority>:<code>' is the preferred initialization method. When making the change, be mindful of axis order changes: https://pyproj4.github.io/pyproj/stable/gotchas.html#axis-order-changes-in-proj-6\n",
      "  return _prepare_from_string(\" \".join(pjargs))\n",
      "/Users/chludwig/miniconda3/envs/advgeo37/lib/python3.7/site-packages/pyproj/crs/crs.py:294: FutureWarning: '+init=<authority>:<code>' syntax is deprecated. '<authority>:<code>' is the preferred initialization method. When making the change, be mindful of axis order changes: https://pyproj4.github.io/pyproj/stable/gotchas.html#axis-order-changes-in-proj-6\n",
      "  projstring = _prepare_from_string(\" \".join((projstring, projkwargs)))\n",
      "/Users/chludwig/miniconda3/envs/advgeo37/lib/python3.7/site-packages/pyproj/crs/crs.py:53: FutureWarning: '+init=<authority>:<code>' syntax is deprecated. '<authority>:<code>' is the preferred initialization method. When making the change, be mindful of axis order changes: https://pyproj4.github.io/pyproj/stable/gotchas.html#axis-order-changes-in-proj-6\n",
      "  return _prepare_from_string(\" \".join(pjargs))\n",
      "/Users/chludwig/miniconda3/envs/advgeo37/lib/python3.7/site-packages/pyproj/crs/crs.py:294: FutureWarning: '+init=<authority>:<code>' syntax is deprecated. '<authority>:<code>' is the preferred initialization method. When making the change, be mindful of axis order changes: https://pyproj4.github.io/pyproj/stable/gotchas.html#axis-order-changes-in-proj-6\n",
      "  projstring = _prepare_from_string(\" \".join((projstring, projkwargs)))\n",
      "/Users/chludwig/miniconda3/envs/advgeo37/lib/python3.7/site-packages/ipykernel_launcher.py:7: DeprecationWarning: This function is deprecated. See: https://pyproj4.github.io/pyproj/stable/gotchas.html#upgrading-to-pyproj-2-from-pyproj-1\n",
      "  import sys\n",
      "/Users/chludwig/miniconda3/envs/advgeo37/lib/python3.7/site-packages/pyproj/crs/crs.py:53: FutureWarning: '+init=<authority>:<code>' syntax is deprecated. '<authority>:<code>' is the preferred initialization method. When making the change, be mindful of axis order changes: https://pyproj4.github.io/pyproj/stable/gotchas.html#axis-order-changes-in-proj-6\n",
      "  return _prepare_from_string(\" \".join(pjargs))\n",
      "/Users/chludwig/miniconda3/envs/advgeo37/lib/python3.7/site-packages/pyproj/crs/crs.py:294: FutureWarning: '+init=<authority>:<code>' syntax is deprecated. '<authority>:<code>' is the preferred initialization method. When making the change, be mindful of axis order changes: https://pyproj4.github.io/pyproj/stable/gotchas.html#axis-order-changes-in-proj-6\n",
      "  projstring = _prepare_from_string(\" \".join((projstring, projkwargs)))\n",
      "/Users/chludwig/miniconda3/envs/advgeo37/lib/python3.7/site-packages/pyproj/crs/crs.py:53: FutureWarning: '+init=<authority>:<code>' syntax is deprecated. '<authority>:<code>' is the preferred initialization method. When making the change, be mindful of axis order changes: https://pyproj4.github.io/pyproj/stable/gotchas.html#axis-order-changes-in-proj-6\n",
      "  return _prepare_from_string(\" \".join(pjargs))\n",
      "/Users/chludwig/miniconda3/envs/advgeo37/lib/python3.7/site-packages/pyproj/crs/crs.py:294: FutureWarning: '+init=<authority>:<code>' syntax is deprecated. '<authority>:<code>' is the preferred initialization method. When making the change, be mindful of axis order changes: https://pyproj4.github.io/pyproj/stable/gotchas.html#axis-order-changes-in-proj-6\n",
      "  projstring = _prepare_from_string(\" \".join((projstring, projkwargs)))\n",
      "/Users/chludwig/miniconda3/envs/advgeo37/lib/python3.7/site-packages/ipykernel_launcher.py:8: DeprecationWarning: This function is deprecated. See: https://pyproj4.github.io/pyproj/stable/gotchas.html#upgrading-to-pyproj-2-from-pyproj-1\n",
      "  \n"
     ]
    },
    {
     "name": "stdout",
     "output_type": "stream",
     "text": [
      "LC82050512020038\n"
     ]
    },
    {
     "name": "stderr",
     "output_type": "stream",
     "text": [
      "/Users/chludwig/miniconda3/envs/advgeo37/lib/python3.7/site-packages/pyproj/crs/crs.py:53: FutureWarning: '+init=<authority>:<code>' syntax is deprecated. '<authority>:<code>' is the preferred initialization method. When making the change, be mindful of axis order changes: https://pyproj4.github.io/pyproj/stable/gotchas.html#axis-order-changes-in-proj-6\n",
      "  return _prepare_from_string(\" \".join(pjargs))\n",
      "/Users/chludwig/miniconda3/envs/advgeo37/lib/python3.7/site-packages/pyproj/crs/crs.py:294: FutureWarning: '+init=<authority>:<code>' syntax is deprecated. '<authority>:<code>' is the preferred initialization method. When making the change, be mindful of axis order changes: https://pyproj4.github.io/pyproj/stable/gotchas.html#axis-order-changes-in-proj-6\n",
      "  projstring = _prepare_from_string(\" \".join((projstring, projkwargs)))\n",
      "/Users/chludwig/miniconda3/envs/advgeo37/lib/python3.7/site-packages/pyproj/crs/crs.py:53: FutureWarning: '+init=<authority>:<code>' syntax is deprecated. '<authority>:<code>' is the preferred initialization method. When making the change, be mindful of axis order changes: https://pyproj4.github.io/pyproj/stable/gotchas.html#axis-order-changes-in-proj-6\n",
      "  return _prepare_from_string(\" \".join(pjargs))\n",
      "/Users/chludwig/miniconda3/envs/advgeo37/lib/python3.7/site-packages/pyproj/crs/crs.py:294: FutureWarning: '+init=<authority>:<code>' syntax is deprecated. '<authority>:<code>' is the preferred initialization method. When making the change, be mindful of axis order changes: https://pyproj4.github.io/pyproj/stable/gotchas.html#axis-order-changes-in-proj-6\n",
      "  projstring = _prepare_from_string(\" \".join((projstring, projkwargs)))\n",
      "/Users/chludwig/miniconda3/envs/advgeo37/lib/python3.7/site-packages/ipykernel_launcher.py:7: DeprecationWarning: This function is deprecated. See: https://pyproj4.github.io/pyproj/stable/gotchas.html#upgrading-to-pyproj-2-from-pyproj-1\n",
      "  import sys\n",
      "/Users/chludwig/miniconda3/envs/advgeo37/lib/python3.7/site-packages/pyproj/crs/crs.py:53: FutureWarning: '+init=<authority>:<code>' syntax is deprecated. '<authority>:<code>' is the preferred initialization method. When making the change, be mindful of axis order changes: https://pyproj4.github.io/pyproj/stable/gotchas.html#axis-order-changes-in-proj-6\n",
      "  return _prepare_from_string(\" \".join(pjargs))\n",
      "/Users/chludwig/miniconda3/envs/advgeo37/lib/python3.7/site-packages/pyproj/crs/crs.py:294: FutureWarning: '+init=<authority>:<code>' syntax is deprecated. '<authority>:<code>' is the preferred initialization method. When making the change, be mindful of axis order changes: https://pyproj4.github.io/pyproj/stable/gotchas.html#axis-order-changes-in-proj-6\n",
      "  projstring = _prepare_from_string(\" \".join((projstring, projkwargs)))\n",
      "/Users/chludwig/miniconda3/envs/advgeo37/lib/python3.7/site-packages/pyproj/crs/crs.py:53: FutureWarning: '+init=<authority>:<code>' syntax is deprecated. '<authority>:<code>' is the preferred initialization method. When making the change, be mindful of axis order changes: https://pyproj4.github.io/pyproj/stable/gotchas.html#axis-order-changes-in-proj-6\n",
      "  return _prepare_from_string(\" \".join(pjargs))\n",
      "/Users/chludwig/miniconda3/envs/advgeo37/lib/python3.7/site-packages/pyproj/crs/crs.py:294: FutureWarning: '+init=<authority>:<code>' syntax is deprecated. '<authority>:<code>' is the preferred initialization method. When making the change, be mindful of axis order changes: https://pyproj4.github.io/pyproj/stable/gotchas.html#axis-order-changes-in-proj-6\n",
      "  projstring = _prepare_from_string(\" \".join((projstring, projkwargs)))\n",
      "/Users/chludwig/miniconda3/envs/advgeo37/lib/python3.7/site-packages/ipykernel_launcher.py:8: DeprecationWarning: This function is deprecated. See: https://pyproj4.github.io/pyproj/stable/gotchas.html#upgrading-to-pyproj-2-from-pyproj-1\n",
      "  \n"
     ]
    },
    {
     "name": "stdout",
     "output_type": "stream",
     "text": [
      "LC82050502020038\n"
     ]
    },
    {
     "name": "stderr",
     "output_type": "stream",
     "text": [
      "/Users/chludwig/miniconda3/envs/advgeo37/lib/python3.7/site-packages/pyproj/crs/crs.py:53: FutureWarning: '+init=<authority>:<code>' syntax is deprecated. '<authority>:<code>' is the preferred initialization method. When making the change, be mindful of axis order changes: https://pyproj4.github.io/pyproj/stable/gotchas.html#axis-order-changes-in-proj-6\n",
      "  return _prepare_from_string(\" \".join(pjargs))\n",
      "/Users/chludwig/miniconda3/envs/advgeo37/lib/python3.7/site-packages/pyproj/crs/crs.py:294: FutureWarning: '+init=<authority>:<code>' syntax is deprecated. '<authority>:<code>' is the preferred initialization method. When making the change, be mindful of axis order changes: https://pyproj4.github.io/pyproj/stable/gotchas.html#axis-order-changes-in-proj-6\n",
      "  projstring = _prepare_from_string(\" \".join((projstring, projkwargs)))\n",
      "/Users/chludwig/miniconda3/envs/advgeo37/lib/python3.7/site-packages/pyproj/crs/crs.py:53: FutureWarning: '+init=<authority>:<code>' syntax is deprecated. '<authority>:<code>' is the preferred initialization method. When making the change, be mindful of axis order changes: https://pyproj4.github.io/pyproj/stable/gotchas.html#axis-order-changes-in-proj-6\n",
      "  return _prepare_from_string(\" \".join(pjargs))\n",
      "/Users/chludwig/miniconda3/envs/advgeo37/lib/python3.7/site-packages/pyproj/crs/crs.py:294: FutureWarning: '+init=<authority>:<code>' syntax is deprecated. '<authority>:<code>' is the preferred initialization method. When making the change, be mindful of axis order changes: https://pyproj4.github.io/pyproj/stable/gotchas.html#axis-order-changes-in-proj-6\n",
      "  projstring = _prepare_from_string(\" \".join((projstring, projkwargs)))\n",
      "/Users/chludwig/miniconda3/envs/advgeo37/lib/python3.7/site-packages/ipykernel_launcher.py:7: DeprecationWarning: This function is deprecated. See: https://pyproj4.github.io/pyproj/stable/gotchas.html#upgrading-to-pyproj-2-from-pyproj-1\n",
      "  import sys\n",
      "/Users/chludwig/miniconda3/envs/advgeo37/lib/python3.7/site-packages/pyproj/crs/crs.py:53: FutureWarning: '+init=<authority>:<code>' syntax is deprecated. '<authority>:<code>' is the preferred initialization method. When making the change, be mindful of axis order changes: https://pyproj4.github.io/pyproj/stable/gotchas.html#axis-order-changes-in-proj-6\n",
      "  return _prepare_from_string(\" \".join(pjargs))\n",
      "/Users/chludwig/miniconda3/envs/advgeo37/lib/python3.7/site-packages/pyproj/crs/crs.py:294: FutureWarning: '+init=<authority>:<code>' syntax is deprecated. '<authority>:<code>' is the preferred initialization method. When making the change, be mindful of axis order changes: https://pyproj4.github.io/pyproj/stable/gotchas.html#axis-order-changes-in-proj-6\n",
      "  projstring = _prepare_from_string(\" \".join((projstring, projkwargs)))\n",
      "/Users/chludwig/miniconda3/envs/advgeo37/lib/python3.7/site-packages/pyproj/crs/crs.py:53: FutureWarning: '+init=<authority>:<code>' syntax is deprecated. '<authority>:<code>' is the preferred initialization method. When making the change, be mindful of axis order changes: https://pyproj4.github.io/pyproj/stable/gotchas.html#axis-order-changes-in-proj-6\n",
      "  return _prepare_from_string(\" \".join(pjargs))\n",
      "/Users/chludwig/miniconda3/envs/advgeo37/lib/python3.7/site-packages/pyproj/crs/crs.py:294: FutureWarning: '+init=<authority>:<code>' syntax is deprecated. '<authority>:<code>' is the preferred initialization method. When making the change, be mindful of axis order changes: https://pyproj4.github.io/pyproj/stable/gotchas.html#axis-order-changes-in-proj-6\n",
      "  projstring = _prepare_from_string(\" \".join((projstring, projkwargs)))\n",
      "/Users/chludwig/miniconda3/envs/advgeo37/lib/python3.7/site-packages/ipykernel_launcher.py:8: DeprecationWarning: This function is deprecated. See: https://pyproj4.github.io/pyproj/stable/gotchas.html#upgrading-to-pyproj-2-from-pyproj-1\n",
      "  \n"
     ]
    },
    {
     "name": "stdout",
     "output_type": "stream",
     "text": [
      "LC82050512020006\n"
     ]
    },
    {
     "name": "stderr",
     "output_type": "stream",
     "text": [
      "/Users/chludwig/miniconda3/envs/advgeo37/lib/python3.7/site-packages/pyproj/crs/crs.py:53: FutureWarning: '+init=<authority>:<code>' syntax is deprecated. '<authority>:<code>' is the preferred initialization method. When making the change, be mindful of axis order changes: https://pyproj4.github.io/pyproj/stable/gotchas.html#axis-order-changes-in-proj-6\n",
      "  return _prepare_from_string(\" \".join(pjargs))\n",
      "/Users/chludwig/miniconda3/envs/advgeo37/lib/python3.7/site-packages/pyproj/crs/crs.py:294: FutureWarning: '+init=<authority>:<code>' syntax is deprecated. '<authority>:<code>' is the preferred initialization method. When making the change, be mindful of axis order changes: https://pyproj4.github.io/pyproj/stable/gotchas.html#axis-order-changes-in-proj-6\n",
      "  projstring = _prepare_from_string(\" \".join((projstring, projkwargs)))\n",
      "/Users/chludwig/miniconda3/envs/advgeo37/lib/python3.7/site-packages/pyproj/crs/crs.py:53: FutureWarning: '+init=<authority>:<code>' syntax is deprecated. '<authority>:<code>' is the preferred initialization method. When making the change, be mindful of axis order changes: https://pyproj4.github.io/pyproj/stable/gotchas.html#axis-order-changes-in-proj-6\n",
      "  return _prepare_from_string(\" \".join(pjargs))\n",
      "/Users/chludwig/miniconda3/envs/advgeo37/lib/python3.7/site-packages/pyproj/crs/crs.py:294: FutureWarning: '+init=<authority>:<code>' syntax is deprecated. '<authority>:<code>' is the preferred initialization method. When making the change, be mindful of axis order changes: https://pyproj4.github.io/pyproj/stable/gotchas.html#axis-order-changes-in-proj-6\n",
      "  projstring = _prepare_from_string(\" \".join((projstring, projkwargs)))\n",
      "/Users/chludwig/miniconda3/envs/advgeo37/lib/python3.7/site-packages/ipykernel_launcher.py:7: DeprecationWarning: This function is deprecated. See: https://pyproj4.github.io/pyproj/stable/gotchas.html#upgrading-to-pyproj-2-from-pyproj-1\n",
      "  import sys\n",
      "/Users/chludwig/miniconda3/envs/advgeo37/lib/python3.7/site-packages/pyproj/crs/crs.py:53: FutureWarning: '+init=<authority>:<code>' syntax is deprecated. '<authority>:<code>' is the preferred initialization method. When making the change, be mindful of axis order changes: https://pyproj4.github.io/pyproj/stable/gotchas.html#axis-order-changes-in-proj-6\n",
      "  return _prepare_from_string(\" \".join(pjargs))\n",
      "/Users/chludwig/miniconda3/envs/advgeo37/lib/python3.7/site-packages/pyproj/crs/crs.py:294: FutureWarning: '+init=<authority>:<code>' syntax is deprecated. '<authority>:<code>' is the preferred initialization method. When making the change, be mindful of axis order changes: https://pyproj4.github.io/pyproj/stable/gotchas.html#axis-order-changes-in-proj-6\n",
      "  projstring = _prepare_from_string(\" \".join((projstring, projkwargs)))\n",
      "/Users/chludwig/miniconda3/envs/advgeo37/lib/python3.7/site-packages/pyproj/crs/crs.py:53: FutureWarning: '+init=<authority>:<code>' syntax is deprecated. '<authority>:<code>' is the preferred initialization method. When making the change, be mindful of axis order changes: https://pyproj4.github.io/pyproj/stable/gotchas.html#axis-order-changes-in-proj-6\n",
      "  return _prepare_from_string(\" \".join(pjargs))\n",
      "/Users/chludwig/miniconda3/envs/advgeo37/lib/python3.7/site-packages/pyproj/crs/crs.py:294: FutureWarning: '+init=<authority>:<code>' syntax is deprecated. '<authority>:<code>' is the preferred initialization method. When making the change, be mindful of axis order changes: https://pyproj4.github.io/pyproj/stable/gotchas.html#axis-order-changes-in-proj-6\n",
      "  projstring = _prepare_from_string(\" \".join((projstring, projkwargs)))\n",
      "/Users/chludwig/miniconda3/envs/advgeo37/lib/python3.7/site-packages/ipykernel_launcher.py:8: DeprecationWarning: This function is deprecated. See: https://pyproj4.github.io/pyproj/stable/gotchas.html#upgrading-to-pyproj-2-from-pyproj-1\n",
      "  \n"
     ]
    },
    {
     "name": "stdout",
     "output_type": "stream",
     "text": [
      "LC82050502020006\n"
     ]
    },
    {
     "name": "stderr",
     "output_type": "stream",
     "text": [
      "/Users/chludwig/miniconda3/envs/advgeo37/lib/python3.7/site-packages/pyproj/crs/crs.py:53: FutureWarning: '+init=<authority>:<code>' syntax is deprecated. '<authority>:<code>' is the preferred initialization method. When making the change, be mindful of axis order changes: https://pyproj4.github.io/pyproj/stable/gotchas.html#axis-order-changes-in-proj-6\n",
      "  return _prepare_from_string(\" \".join(pjargs))\n",
      "/Users/chludwig/miniconda3/envs/advgeo37/lib/python3.7/site-packages/pyproj/crs/crs.py:294: FutureWarning: '+init=<authority>:<code>' syntax is deprecated. '<authority>:<code>' is the preferred initialization method. When making the change, be mindful of axis order changes: https://pyproj4.github.io/pyproj/stable/gotchas.html#axis-order-changes-in-proj-6\n",
      "  projstring = _prepare_from_string(\" \".join((projstring, projkwargs)))\n",
      "/Users/chludwig/miniconda3/envs/advgeo37/lib/python3.7/site-packages/pyproj/crs/crs.py:53: FutureWarning: '+init=<authority>:<code>' syntax is deprecated. '<authority>:<code>' is the preferred initialization method. When making the change, be mindful of axis order changes: https://pyproj4.github.io/pyproj/stable/gotchas.html#axis-order-changes-in-proj-6\n",
      "  return _prepare_from_string(\" \".join(pjargs))\n",
      "/Users/chludwig/miniconda3/envs/advgeo37/lib/python3.7/site-packages/pyproj/crs/crs.py:294: FutureWarning: '+init=<authority>:<code>' syntax is deprecated. '<authority>:<code>' is the preferred initialization method. When making the change, be mindful of axis order changes: https://pyproj4.github.io/pyproj/stable/gotchas.html#axis-order-changes-in-proj-6\n",
      "  projstring = _prepare_from_string(\" \".join((projstring, projkwargs)))\n",
      "/Users/chludwig/miniconda3/envs/advgeo37/lib/python3.7/site-packages/ipykernel_launcher.py:7: DeprecationWarning: This function is deprecated. See: https://pyproj4.github.io/pyproj/stable/gotchas.html#upgrading-to-pyproj-2-from-pyproj-1\n",
      "  import sys\n",
      "/Users/chludwig/miniconda3/envs/advgeo37/lib/python3.7/site-packages/pyproj/crs/crs.py:53: FutureWarning: '+init=<authority>:<code>' syntax is deprecated. '<authority>:<code>' is the preferred initialization method. When making the change, be mindful of axis order changes: https://pyproj4.github.io/pyproj/stable/gotchas.html#axis-order-changes-in-proj-6\n",
      "  return _prepare_from_string(\" \".join(pjargs))\n",
      "/Users/chludwig/miniconda3/envs/advgeo37/lib/python3.7/site-packages/pyproj/crs/crs.py:294: FutureWarning: '+init=<authority>:<code>' syntax is deprecated. '<authority>:<code>' is the preferred initialization method. When making the change, be mindful of axis order changes: https://pyproj4.github.io/pyproj/stable/gotchas.html#axis-order-changes-in-proj-6\n",
      "  projstring = _prepare_from_string(\" \".join((projstring, projkwargs)))\n",
      "/Users/chludwig/miniconda3/envs/advgeo37/lib/python3.7/site-packages/pyproj/crs/crs.py:53: FutureWarning: '+init=<authority>:<code>' syntax is deprecated. '<authority>:<code>' is the preferred initialization method. When making the change, be mindful of axis order changes: https://pyproj4.github.io/pyproj/stable/gotchas.html#axis-order-changes-in-proj-6\n",
      "  return _prepare_from_string(\" \".join(pjargs))\n",
      "/Users/chludwig/miniconda3/envs/advgeo37/lib/python3.7/site-packages/pyproj/crs/crs.py:294: FutureWarning: '+init=<authority>:<code>' syntax is deprecated. '<authority>:<code>' is the preferred initialization method. When making the change, be mindful of axis order changes: https://pyproj4.github.io/pyproj/stable/gotchas.html#axis-order-changes-in-proj-6\n",
      "  projstring = _prepare_from_string(\" \".join((projstring, projkwargs)))\n",
      "/Users/chludwig/miniconda3/envs/advgeo37/lib/python3.7/site-packages/ipykernel_launcher.py:8: DeprecationWarning: This function is deprecated. See: https://pyproj4.github.io/pyproj/stable/gotchas.html#upgrading-to-pyproj-2-from-pyproj-1\n",
      "  \n"
     ]
    },
    {
     "name": "stdout",
     "output_type": "stream",
     "text": [
      "LC82050512019355\n"
     ]
    },
    {
     "name": "stderr",
     "output_type": "stream",
     "text": [
      "/Users/chludwig/miniconda3/envs/advgeo37/lib/python3.7/site-packages/pyproj/crs/crs.py:53: FutureWarning: '+init=<authority>:<code>' syntax is deprecated. '<authority>:<code>' is the preferred initialization method. When making the change, be mindful of axis order changes: https://pyproj4.github.io/pyproj/stable/gotchas.html#axis-order-changes-in-proj-6\n",
      "  return _prepare_from_string(\" \".join(pjargs))\n",
      "/Users/chludwig/miniconda3/envs/advgeo37/lib/python3.7/site-packages/pyproj/crs/crs.py:294: FutureWarning: '+init=<authority>:<code>' syntax is deprecated. '<authority>:<code>' is the preferred initialization method. When making the change, be mindful of axis order changes: https://pyproj4.github.io/pyproj/stable/gotchas.html#axis-order-changes-in-proj-6\n",
      "  projstring = _prepare_from_string(\" \".join((projstring, projkwargs)))\n",
      "/Users/chludwig/miniconda3/envs/advgeo37/lib/python3.7/site-packages/pyproj/crs/crs.py:53: FutureWarning: '+init=<authority>:<code>' syntax is deprecated. '<authority>:<code>' is the preferred initialization method. When making the change, be mindful of axis order changes: https://pyproj4.github.io/pyproj/stable/gotchas.html#axis-order-changes-in-proj-6\n",
      "  return _prepare_from_string(\" \".join(pjargs))\n",
      "/Users/chludwig/miniconda3/envs/advgeo37/lib/python3.7/site-packages/pyproj/crs/crs.py:294: FutureWarning: '+init=<authority>:<code>' syntax is deprecated. '<authority>:<code>' is the preferred initialization method. When making the change, be mindful of axis order changes: https://pyproj4.github.io/pyproj/stable/gotchas.html#axis-order-changes-in-proj-6\n",
      "  projstring = _prepare_from_string(\" \".join((projstring, projkwargs)))\n",
      "/Users/chludwig/miniconda3/envs/advgeo37/lib/python3.7/site-packages/ipykernel_launcher.py:7: DeprecationWarning: This function is deprecated. See: https://pyproj4.github.io/pyproj/stable/gotchas.html#upgrading-to-pyproj-2-from-pyproj-1\n",
      "  import sys\n",
      "/Users/chludwig/miniconda3/envs/advgeo37/lib/python3.7/site-packages/pyproj/crs/crs.py:53: FutureWarning: '+init=<authority>:<code>' syntax is deprecated. '<authority>:<code>' is the preferred initialization method. When making the change, be mindful of axis order changes: https://pyproj4.github.io/pyproj/stable/gotchas.html#axis-order-changes-in-proj-6\n",
      "  return _prepare_from_string(\" \".join(pjargs))\n",
      "/Users/chludwig/miniconda3/envs/advgeo37/lib/python3.7/site-packages/pyproj/crs/crs.py:294: FutureWarning: '+init=<authority>:<code>' syntax is deprecated. '<authority>:<code>' is the preferred initialization method. When making the change, be mindful of axis order changes: https://pyproj4.github.io/pyproj/stable/gotchas.html#axis-order-changes-in-proj-6\n",
      "  projstring = _prepare_from_string(\" \".join((projstring, projkwargs)))\n",
      "/Users/chludwig/miniconda3/envs/advgeo37/lib/python3.7/site-packages/pyproj/crs/crs.py:53: FutureWarning: '+init=<authority>:<code>' syntax is deprecated. '<authority>:<code>' is the preferred initialization method. When making the change, be mindful of axis order changes: https://pyproj4.github.io/pyproj/stable/gotchas.html#axis-order-changes-in-proj-6\n",
      "  return _prepare_from_string(\" \".join(pjargs))\n",
      "/Users/chludwig/miniconda3/envs/advgeo37/lib/python3.7/site-packages/pyproj/crs/crs.py:294: FutureWarning: '+init=<authority>:<code>' syntax is deprecated. '<authority>:<code>' is the preferred initialization method. When making the change, be mindful of axis order changes: https://pyproj4.github.io/pyproj/stable/gotchas.html#axis-order-changes-in-proj-6\n",
      "  projstring = _prepare_from_string(\" \".join((projstring, projkwargs)))\n",
      "/Users/chludwig/miniconda3/envs/advgeo37/lib/python3.7/site-packages/ipykernel_launcher.py:8: DeprecationWarning: This function is deprecated. See: https://pyproj4.github.io/pyproj/stable/gotchas.html#upgrading-to-pyproj-2-from-pyproj-1\n",
      "  \n"
     ]
    },
    {
     "name": "stdout",
     "output_type": "stream",
     "text": [
      "LC82050502019291\n"
     ]
    },
    {
     "name": "stderr",
     "output_type": "stream",
     "text": [
      "/Users/chludwig/miniconda3/envs/advgeo37/lib/python3.7/site-packages/pyproj/crs/crs.py:53: FutureWarning: '+init=<authority>:<code>' syntax is deprecated. '<authority>:<code>' is the preferred initialization method. When making the change, be mindful of axis order changes: https://pyproj4.github.io/pyproj/stable/gotchas.html#axis-order-changes-in-proj-6\n",
      "  return _prepare_from_string(\" \".join(pjargs))\n",
      "/Users/chludwig/miniconda3/envs/advgeo37/lib/python3.7/site-packages/pyproj/crs/crs.py:294: FutureWarning: '+init=<authority>:<code>' syntax is deprecated. '<authority>:<code>' is the preferred initialization method. When making the change, be mindful of axis order changes: https://pyproj4.github.io/pyproj/stable/gotchas.html#axis-order-changes-in-proj-6\n",
      "  projstring = _prepare_from_string(\" \".join((projstring, projkwargs)))\n",
      "/Users/chludwig/miniconda3/envs/advgeo37/lib/python3.7/site-packages/pyproj/crs/crs.py:53: FutureWarning: '+init=<authority>:<code>' syntax is deprecated. '<authority>:<code>' is the preferred initialization method. When making the change, be mindful of axis order changes: https://pyproj4.github.io/pyproj/stable/gotchas.html#axis-order-changes-in-proj-6\n",
      "  return _prepare_from_string(\" \".join(pjargs))\n",
      "/Users/chludwig/miniconda3/envs/advgeo37/lib/python3.7/site-packages/pyproj/crs/crs.py:294: FutureWarning: '+init=<authority>:<code>' syntax is deprecated. '<authority>:<code>' is the preferred initialization method. When making the change, be mindful of axis order changes: https://pyproj4.github.io/pyproj/stable/gotchas.html#axis-order-changes-in-proj-6\n",
      "  projstring = _prepare_from_string(\" \".join((projstring, projkwargs)))\n",
      "/Users/chludwig/miniconda3/envs/advgeo37/lib/python3.7/site-packages/ipykernel_launcher.py:7: DeprecationWarning: This function is deprecated. See: https://pyproj4.github.io/pyproj/stable/gotchas.html#upgrading-to-pyproj-2-from-pyproj-1\n",
      "  import sys\n",
      "/Users/chludwig/miniconda3/envs/advgeo37/lib/python3.7/site-packages/pyproj/crs/crs.py:53: FutureWarning: '+init=<authority>:<code>' syntax is deprecated. '<authority>:<code>' is the preferred initialization method. When making the change, be mindful of axis order changes: https://pyproj4.github.io/pyproj/stable/gotchas.html#axis-order-changes-in-proj-6\n",
      "  return _prepare_from_string(\" \".join(pjargs))\n",
      "/Users/chludwig/miniconda3/envs/advgeo37/lib/python3.7/site-packages/pyproj/crs/crs.py:294: FutureWarning: '+init=<authority>:<code>' syntax is deprecated. '<authority>:<code>' is the preferred initialization method. When making the change, be mindful of axis order changes: https://pyproj4.github.io/pyproj/stable/gotchas.html#axis-order-changes-in-proj-6\n",
      "  projstring = _prepare_from_string(\" \".join((projstring, projkwargs)))\n",
      "/Users/chludwig/miniconda3/envs/advgeo37/lib/python3.7/site-packages/pyproj/crs/crs.py:53: FutureWarning: '+init=<authority>:<code>' syntax is deprecated. '<authority>:<code>' is the preferred initialization method. When making the change, be mindful of axis order changes: https://pyproj4.github.io/pyproj/stable/gotchas.html#axis-order-changes-in-proj-6\n",
      "  return _prepare_from_string(\" \".join(pjargs))\n",
      "/Users/chludwig/miniconda3/envs/advgeo37/lib/python3.7/site-packages/pyproj/crs/crs.py:294: FutureWarning: '+init=<authority>:<code>' syntax is deprecated. '<authority>:<code>' is the preferred initialization method. When making the change, be mindful of axis order changes: https://pyproj4.github.io/pyproj/stable/gotchas.html#axis-order-changes-in-proj-6\n",
      "  projstring = _prepare_from_string(\" \".join((projstring, projkwargs)))\n",
      "/Users/chludwig/miniconda3/envs/advgeo37/lib/python3.7/site-packages/ipykernel_launcher.py:8: DeprecationWarning: This function is deprecated. See: https://pyproj4.github.io/pyproj/stable/gotchas.html#upgrading-to-pyproj-2-from-pyproj-1\n",
      "  \n"
     ]
    }
   ],
   "source": [
    "FILL_VALUE = 65535\n",
    "bands = []\n",
    "for item in items:\n",
    "    print(item)\n",
    "    band3_url = item.assets[\"B3\"][\"href\"]\n",
    "    band7_url = item.assets[\"B7\"][\"href\"]\n",
    "\n",
    "    window = get_window_for_scene(band3_url, bbox)\n",
    "\n",
    "    # Read metadata\n",
    "    mtl_file = item.download(\"MTL\", path=scene_dir)\n",
    "    with open(mtl_file) as src:\n",
    "        mtl = src.readlines()\n",
    "    \n",
    "    # Extract required parameters for conversion\n",
    "    parameters = parse_mtl(mtl)\n",
    "    band3_mult = parameters[reflectance_mult + \"3\"]\n",
    "    band3_add = parameters[reflectance_add + \"3\"]\n",
    "    band7_mult = parameters[reflectance_mult + \"7\"]\n",
    "    band7_add = parameters[reflectance_add + \"7\"]\n",
    "    \n",
    "    # Read green spectral band (band 3)\n",
    "    with rio.open(band3_url) as src:\n",
    "        green = src.read(1, window=window, boundless=True, fill_value=FILL_VALUE)\n",
    "        \n",
    "    # Read sort-wave infrared spectral band (band 7)\n",
    "    with rio.open(band7_url) as src:\n",
    "        swir = src.read(1, window=window, boundless=True, fill_value=FILL_VALUE)\n",
    "        \n",
    "    # Create a binary array indicating pixels which contain valid data\n",
    "    valid_pixels = np.where((green != FILL_VALUE) & (swir > 0) & (green > 0), True, False)\n",
    "\n",
    "    # perform toa conversion\n",
    "    green = to_toa(green, band3_add, band3_mult)\n",
    "    swir = to_toa(swir, band7_add, band7_mult)\n",
    "\n",
    "    # calculate ndwi\n",
    "    ndwi = calc_ndwi(green, swir)\n",
    "    \n",
    "    # convert invalid pixels to nan\n",
    "    ndwi = np.where(valid_pixels, ndwi, np.nan)\n",
    "    bands.append(ndwi)"
   ]
  },
  {
   "cell_type": "markdown",
   "metadata": {},
   "source": [
    "__E:__ Stack the NDWI images into a 3-dimensional array. Axis 0 should indicate the time axis."
   ]
  },
  {
   "cell_type": "code",
   "execution_count": null,
   "metadata": {},
   "outputs": [],
   "source": [
    "bands_arr = np.array(bands)"
   ]
  },
  {
   "cell_type": "markdown",
   "metadata": {},
   "source": [
    "### Calculate the water frequency\n",
    "The NDWI is an indicator for the presence of water. NDWI values above 0 indicate water, below 0 land. \n",
    "\n",
    "__E:__ Convert the NDWI array to an array holding binary water masks using the `np.where()` method. NDWI >= 0.3 should be classified as water (1), NDWI < 0.3 as no-water (0)."
   ]
  },
  {
   "cell_type": "code",
   "execution_count": null,
   "metadata": {},
   "outputs": [],
   "source": [
    "water_masks = np.where(bands_arr >= 0.3, 1, 0)"
   ]
  },
  {
   "cell_type": "markdown",
   "metadata": {},
   "source": [
    "__E:__ Calculate the number valid pixels (not nodata) along the time axis (axis=0)"
   ]
  },
  {
   "cell_type": "code",
   "execution_count": null,
   "metadata": {},
   "outputs": [],
   "source": [
    "valid_pixels = np.invert(np.isnan(bands)).sum(axis=0)"
   ]
  },
  {
   "cell_type": "markdown",
   "metadata": {},
   "source": [
    "__E:__ Calculate the number of water pixels along the time axis (axis=0). "
   ]
  },
  {
   "cell_type": "code",
   "execution_count": null,
   "metadata": {},
   "outputs": [],
   "source": [
    "water_frequency = water_masks.sum(axis=0) / valid_pixels "
   ]
  },
  {
   "cell_type": "markdown",
   "metadata": {},
   "source": [
    "__E:__ Plot the water frequency using `plt.imshow()`."
   ]
  },
  {
   "cell_type": "code",
   "execution_count": null,
   "metadata": {},
   "outputs": [],
   "source": [
    "fig, axes = plt.subplots(1,1,figsize=(10,10))\n",
    "water_freq_plot = axes.imshow(water_frequency, cmap=\"Blues\")\n",
    "plt.colorbar(mappable=water_freq_plot)"
   ]
  },
  {
   "cell_type": "markdown",
   "metadata": {},
   "source": [
    "We can still see some cloud artifacts over the ocean in the right lower corner. Lower the eo:cloudcov parameter to exclude clouded scenes. "
   ]
  },
  {
   "cell_type": "markdown",
   "metadata": {},
   "source": [
    "__E:__ Show the number of valid observations. "
   ]
  },
  {
   "cell_type": "code",
   "execution_count": null,
   "metadata": {},
   "outputs": [],
   "source": [
    "fig, axes = plt.subplots(1,1,figsize=(10,10))\n",
    "valid_obs_plot = axes.imshow(valid_pixels, cmap=\"Reds\")\n",
    "plt.colorbar(mappable=valid_obs_plot)"
   ]
  },
  {
   "cell_type": "markdown",
   "metadata": {},
   "source": [
    "Check out the full tutorial on the [sat-search github repo](https://github.com/sat-utils/sat-search) to learn about the full functionalities."
   ]
  },
  {
   "cell_type": "markdown",
   "metadata": {},
   "source": [
    "# Converting it to a python script for processing multiple regions"
   ]
  },
  {
   "cell_type": "markdown",
   "metadata": {},
   "source": [
    "Congratulations! You've set up a running processing chain. But if we want to apply this method to other, maybe larger or multiple areas, it would be easier if the code was in python scripts which can be run multiple times with different parameters in an automatized way.  \n",
    "\n",
    "So the last step of this assignment, is to convert the processing chain to a Python script \n",
    "\n",
    "The parameters for the satellite data search (bbox, time_period, cloud_cover) should be retrieved from a config_file, so it is always retracible which parameters you used for the data processing. \n",
    "\n",
    "See the files `calc_water_frequency.py` and `config.json` for templates. Fill the python file with the code from this notebook. Don't forget to apply the best-practices for scientific programming: \n",
    "\n",
    "* __Write tests:__ Check special cases. Satellite images often show no data values. What happens to them during the ToA conversion or when calculating the spectral index, when calculating the number valid pixels. \n",
    "* __Organize the code__ in functions and modules\n",
    "* Follow the PEP8 Style guide and refactore (rename) variables for better readability\n",
    "* Use git \n",
    "* ..\n"
   ]
  },
  {
   "cell_type": "code",
   "execution_count": null,
   "metadata": {},
   "outputs": [],
   "source": []
  }
 ],
 "metadata": {
  "kernelspec": {
   "display_name": "Python 3",
   "language": "python",
   "name": "python3"
  },
  "language_info": {
   "codemirror_mode": {
    "name": "ipython",
    "version": 3
   },
   "file_extension": ".py",
   "mimetype": "text/x-python",
   "name": "python",
   "nbconvert_exporter": "python",
   "pygments_lexer": "ipython3",
   "version": "3.7.8"
  }
 },
 "nbformat": 4,
 "nbformat_minor": 4
}
