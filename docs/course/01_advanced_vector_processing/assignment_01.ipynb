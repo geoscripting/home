{
 "cells": [
  {
   "cell_type": "markdown",
   "metadata": {},
   "source": [
    "# Assignment 1: Advanced Geo Data Processing"
   ]
  },
  {
   "cell_type": "markdown",
   "metadata": {},
   "source": [
    "## 1. Object-orientied programming "
   ]
  },
  {
   "cell_type": "code",
   "execution_count": 7,
   "metadata": {},
   "outputs": [],
   "source": [
    "import numpy as np\n",
    "import ogr"
   ]
  },
  {
   "cell_type": "markdown",
   "metadata": {},
   "source": [
    "1.1 Write a class called \"Polygon\" which represents a polygon geometry. It should have a function called \"envelope()\" which calculates the bounding box of the polygon. "
   ]
  },
  {
   "cell_type": "code",
   "execution_count": 135,
   "metadata": {},
   "outputs": [],
   "source": [
    "test_coordinates = [[1,1],[1,2],[2,2],[1,2],[1,1]]"
   ]
  },
  {
   "cell_type": "code",
   "execution_count": 136,
   "metadata": {},
   "outputs": [],
   "source": [
    "class Polygon():\n",
    "    \n",
    "    def __init__(self, coordinates):\n",
    "        self.coordinates = np.array(coordinates)\n",
    "        \n",
    "    def envelope(self):\n",
    "        xcoords = self.coordinates[:,0]\n",
    "        ycoords = self.coordinates[:,1]\n",
    "\n",
    "        minx = xcoords.min()\n",
    "        maxx = xcoords.max()\n",
    "        miny = ycoords.min()\n",
    "        maxy = ycoords.max()\n",
    "        \n",
    "        return [minx, miny, maxx, maxy]"
   ]
  },
  {
   "cell_type": "code",
   "execution_count": 137,
   "metadata": {},
   "outputs": [],
   "source": [
    "class Polygon_list():\n",
    "    \n",
    "    geom_type = \"Polygon\"\n",
    "    \n",
    "    def __init__(self, coordinates):\n",
    "        self.coordinates = coordinates\n",
    "        \n",
    "    def envelope(self):\n",
    "        \n",
    "        xcoords = [x for x, y in self.coordinates]\n",
    "        ycoords = [y for x, y in self.coordinates]\n",
    "        \n",
    "        minx = min(xcoords)\n",
    "        maxx = max(xcoords)\n",
    "        miny = min(ycoords)\n",
    "        maxy = max(ycoords)\n",
    "        \n",
    "        return [minx, miny, maxx, maxy]"
   ]
  },
  {
   "cell_type": "markdown",
   "metadata": {},
   "source": [
    "... using your python class"
   ]
  },
  {
   "cell_type": "code",
   "execution_count": 174,
   "metadata": {},
   "outputs": [
    {
     "name": "stdout",
     "output_type": "stream",
     "text": [
      "12.2 µs ± 406 ns per loop (mean ± std. dev. of 7 runs, 100000 loops each)\n"
     ]
    }
   ],
   "source": [
    "%%timeit\n",
    "poly_py = Polygon(test_coordinates)\n",
    "poly_py_env = poly_py.envelope()"
   ]
  },
  {
   "cell_type": "code",
   "execution_count": 140,
   "metadata": {},
   "outputs": [
    {
     "name": "stdout",
     "output_type": "stream",
     "text": [
      "minX: 1, minY: 1, maxX: 2, maxY: 2\n"
     ]
    }
   ],
   "source": [
    "print(\"minX: %d, minY: %d, maxX: %d, maxY: %d\" %(poly_py_env[0],poly_py_env[1],poly_py_env[2],poly_py_env[3]))"
   ]
  },
  {
   "cell_type": "markdown",
   "metadata": {},
   "source": [
    "... using only python data types "
   ]
  },
  {
   "cell_type": "code",
   "execution_count": 175,
   "metadata": {},
   "outputs": [
    {
     "name": "stdout",
     "output_type": "stream",
     "text": [
      "2.15 µs ± 57 ns per loop (mean ± std. dev. of 7 runs, 100000 loops each)\n"
     ]
    }
   ],
   "source": [
    "%%timeit\n",
    "poly_py_list = Polygon_list(test_coordinates)\n",
    "poly_py_env = poly_py_list.envelope()"
   ]
  },
  {
   "cell_type": "code",
   "execution_count": 146,
   "metadata": {},
   "outputs": [
    {
     "name": "stdout",
     "output_type": "stream",
     "text": [
      "minX: 1, minY: 1, maxX: 2, maxY: 2\n"
     ]
    }
   ],
   "source": [
    "poly_py_env = poly_py_list.envelope()\n",
    "print(\"minX: {0}, minY: {1}, maxX: {2}, maxY: {3}\".format(*poly_py_env))"
   ]
  },
  {
   "cell_type": "markdown",
   "metadata": {},
   "source": [
    "### Use OGR to do the same "
   ]
  },
  {
   "cell_type": "markdown",
   "metadata": {},
   "source": [
    "... using ogr"
   ]
  },
  {
   "cell_type": "code",
   "execution_count": 102,
   "metadata": {},
   "outputs": [
    {
     "data": {
      "text/plain": [
       "0"
      ]
     },
     "execution_count": 102,
     "metadata": {},
     "output_type": "execute_result"
    }
   ],
   "source": [
    "# Create ring\n",
    "ring = ogr.Geometry(ogr.wkbLinearRing)\n",
    "for c in test_coordinates:\n",
    "    ring.AddPoint(c[0], c[1])\n",
    "# Create polygon\n",
    "poly_ogr = ogr.Geometry(ogr.wkbPolygon)\n",
    "poly_ogr.AddGeometry(ring)"
   ]
  },
  {
   "cell_type": "code",
   "execution_count": 112,
   "metadata": {
    "scrolled": true
   },
   "outputs": [
    {
     "name": "stdout",
     "output_type": "stream",
     "text": [
      "minX: 1.0, minY: 1.0, maxX: 2.0, maxY: 2.0\n"
     ]
    }
   ],
   "source": [
    "poly_ogr_env = poly_ogr.GetEnvelope()\n",
    "print(\"minX: {0}, minY: {2}, maxX: {1}, maxY: {3}\".format(*poly_ogr_env))"
   ]
  },
  {
   "cell_type": "code",
   "execution_count": 173,
   "metadata": {},
   "outputs": [
    {
     "name": "stdout",
     "output_type": "stream",
     "text": [
      "15.4 µs ± 486 ns per loop (mean ± std. dev. of 7 runs, 100000 loops each)\n"
     ]
    }
   ],
   "source": [
    "%%timeit\n",
    "# Create ring\n",
    "ring = ogr.Geometry(ogr.wkbLinearRing)\n",
    "for c in test_coordinates:\n",
    "    ring.AddPoint(c[0], c[1])\n",
    "# Create polygon\n",
    "poly_ogr = ogr.Geometry(ogr.wkbPolygon)\n",
    "poly_ogr.AddGeometry(ring)\n",
    "poly_ogr_env = poly_ogr.GetEnvelope()"
   ]
  },
  {
   "cell_type": "markdown",
   "metadata": {},
   "source": [
    "### Use shapely to do the same"
   ]
  },
  {
   "cell_type": "code",
   "execution_count": 150,
   "metadata": {},
   "outputs": [],
   "source": [
    "import shapely"
   ]
  },
  {
   "cell_type": "code",
   "execution_count": 176,
   "metadata": {},
   "outputs": [
    {
     "name": "stdout",
     "output_type": "stream",
     "text": [
      "17.5 µs ± 90.9 ns per loop (mean ± std. dev. of 7 runs, 100000 loops each)\n"
     ]
    }
   ],
   "source": [
    "%%timeit\n",
    "poly_shapely = shapely.geometry.Polygon(test_coordinates)\n",
    "poly_shapely_env = poly_shapely.envelope"
   ]
  },
  {
   "cell_type": "code",
   "execution_count": 177,
   "metadata": {},
   "outputs": [
    {
     "name": "stdout",
     "output_type": "stream",
     "text": [
      "44.3 µs ± 698 ns per loop (mean ± std. dev. of 7 runs, 10000 loops each)\n"
     ]
    }
   ],
   "source": [
    "%%timeit\n",
    "poly_shapely = shapely.geometry.Polygon(test_coordinates)\n",
    "poly_shapely_env = poly_shapely.bounds"
   ]
  },
  {
   "cell_type": "code",
   "execution_count": 149,
   "metadata": {},
   "outputs": [
    {
     "name": "stdout",
     "output_type": "stream",
     "text": [
      "minX: 1.0, minY: 1.0, maxX:2.0, maxY: 2.0\n"
     ]
    }
   ],
   "source": [
    "print(\"minX: {}, minY: {}, maxX:{}, maxY: {}\".format(*poly_shapely.bounds))"
   ]
  },
  {
   "cell_type": "markdown",
   "metadata": {},
   "source": [
    "### __Discuss in groups:__ \n",
    "Why is the ogr implementation faster than the pure Python implementations? \n",
    "\n",
    "__Hint:__ Watch the first lecture video of \"Getting Started with Python I\" in the Geoscripting Course (starting at 14:45 min)"
   ]
  },
  {
   "cell_type": "markdown",
   "metadata": {},
   "source": [
    "Result:\n",
    "* Interpreted languages are slower than compiled languages\n",
    "* ogr relies on swig which is mainly in C, while shapely is mostly in Python\n",
    "* but ogr, is less Pythonic\n",
    "* Keep the overhead of creating python or C classes in mind. This might be important when you optimize code!"
   ]
  },
  {
   "cell_type": "markdown",
   "metadata": {},
   "source": [
    "### Bonus"
   ]
  },
  {
   "cell_type": "markdown",
   "metadata": {},
   "source": [
    "* add an __iter__ and __next__ class: use generator to yield coordinates\n",
    "* create a point class and a geometry class from which point and polygon inherit from \n",
    "* write abstract base class\n",
    "* Write a decorator function for the print coordinates function:\n",
    "* add a class attribute \"Polygon\"\n",
    "* add a __str__ mehdos"
   ]
  },
  {
   "cell_type": "markdown",
   "metadata": {},
   "source": [
    "## 2.2 More \"Pythonic\" modules for vector and raster data processing"
   ]
  },
  {
   "cell_type": "markdown",
   "metadata": {},
   "source": [
    "Why do we need more Pyhtonic code? For prototyping you should be able to write code fast. Only later on you optimize if necessary. Don't step into the the trap of premature optimization.\n",
    "\n",
    "s this really necessary? You will often read something like this:\n",
    "\n",
    "![gdal_vs_rasterio](img/gdal_vs_rasterio.png)\n",
    "\n",
    "[Source: GitHub Issue - rasterio vs python gdal #11](https://github.com/inbo/niche_vlaanderen/issues/11)"
   ]
  },
  {
   "cell_type": "markdown",
   "metadata": {},
   "source": [
    "https://rasterio.readthedocs.io/en/latest/intro.html\n",
    "    What is geospatial data abstraction? "
   ]
  },
  {
   "cell_type": "markdown",
   "metadata": {},
   "source": [
    "### Vector data: Fiona + shapely + geopandas vs OGR"
   ]
  },
  {
   "cell_type": "code",
   "execution_count": null,
   "metadata": {},
   "outputs": [],
   "source": []
  },
  {
   "cell_type": "markdown",
   "metadata": {},
   "source": [
    "### Raster data: rasterio vs GDAL"
   ]
  },
  {
   "cell_type": "code",
   "execution_count": null,
   "metadata": {},
   "outputs": [],
   "source": []
  },
  {
   "cell_type": "markdown",
   "metadata": {},
   "source": [
    "### References\n",
    "\n",
    "#### Object Oriented Programming \n",
    "[Python Tutorial](https://docs.python.org/3/tutorial/classes.html)\n",
    "[Abstract Classes](https://docs.python.org/3/library/abc.html#module-abc)\n",
    "\n",
    "https://www.toptal.com/python/computational-geometry-in-python-from-theory-to-implementation\n",
    "    \n",
    "#### Rasterio \n",
    "[Switching from GDAL to Rasterio](https://rasterio.readthedocs.io/en/latest/topics/switch.html)"
   ]
  },
  {
   "cell_type": "code",
   "execution_count": null,
   "metadata": {},
   "outputs": [],
   "source": []
  }
 ],
 "metadata": {
  "kernelspec": {
   "display_name": "Python 3",
   "language": "python",
   "name": "python3"
  },
  "language_info": {
   "codemirror_mode": {
    "name": "ipython",
    "version": 3
   },
   "file_extension": ".py",
   "mimetype": "text/x-python",
   "name": "python",
   "nbconvert_exporter": "python",
   "pygments_lexer": "ipython3",
   "version": "3.7.3"
  }
 },
 "nbformat": 4,
 "nbformat_minor": 2
}
