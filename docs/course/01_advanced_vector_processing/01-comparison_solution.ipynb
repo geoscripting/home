{
 "cells": [
  {
   "cell_type": "markdown",
   "metadata": {
    "slideshow": {
     "slide_type": "slide"
    }
   },
   "source": [
    "# Part 2: Why all these packages?\n",
    "\n",
    "In the first part of this assignment you learned about `shapely` and `fiona` to represent geospatial vector data and perform geometric operations. From the GeoScripting course you already know the `ogr` package which provides the same functionalities. "
   ]
  },
  {
   "cell_type": "markdown",
   "metadata": {
    "slideshow": {
     "slide_type": "slide"
    }
   },
   "source": [
    "## Python packages `ogr` and `gdal` enable vector and raster data processing"
   ]
  },
  {
   "cell_type": "markdown",
   "metadata": {
    "slideshow": {
     "slide_type": "fragment"
    }
   },
   "source": [
    "* `ogr` and `gdal` are automatically generated Python bindings (using SWIG) to the C libraries GDAL and OGR "
   ]
  },
  {
   "cell_type": "markdown",
   "metadata": {
    "slideshow": {
     "slide_type": "fragment"
    }
   },
   "source": [
    "* So when you use `ogr` and `gdal` classes in Python you are actually executing C code. "
   ]
  },
  {
   "cell_type": "markdown",
   "metadata": {
    "slideshow": {
     "slide_type": "fragment"
    }
   },
   "source": [
    "&rarr; Great! C is fast and we can use it from Python."
   ]
  },
  {
   "cell_type": "markdown",
   "metadata": {
    "slideshow": {
     "slide_type": "slide"
    }
   },
   "source": [
    "## So why would we need other Python packages for geo data processing? "
   ]
  },
  {
   "cell_type": "markdown",
   "metadata": {
    "slideshow": {
     "slide_type": "fragment"
    }
   },
   "source": [
    "In discussions about Python you will often read statements like this:\n",
    "\n",
    "![gdal_vs_rasterio](img/gdal_vs_rasterio.png)\n",
    "\n",
    "[Source: GitHub Issue - rasterio vs python gdal #11](https://github.com/inbo/niche_vlaanderen/issues/11)"
   ]
  },
  {
   "cell_type": "markdown",
   "metadata": {
    "slideshow": {
     "slide_type": "slide"
    }
   },
   "source": [
    "### In this assignment we will focus on the following questions: "
   ]
  },
  {
   "cell_type": "markdown",
   "metadata": {
    "slideshow": {
     "slide_type": "fragment"
    }
   },
   "source": [
    "1. What does _[Pythonic](https://docs.python-guide.org/writing/style/)_ mean? Why is it suitable for scientists?\n",
    "2. Why are `ogr` and `gdal` not _Pythonic_ enough? \n",
    "3. What are the advantages and disadvantages of using ogr, shapely or your own implementation? "
   ]
  },
  {
   "cell_type": "markdown",
   "metadata": {
    "slideshow": {
     "slide_type": "slide"
    }
   },
   "source": [
    "## Comparing ogr, shapely and pure Python"
   ]
  },
  {
   "cell_type": "markdown",
   "metadata": {
    "slideshow": {
     "slide_type": "slide"
    }
   },
   "source": [
    "In this first section of the assignment we will **compare three different ways of representing a polygon in Python.**\n",
    "\n",
    "1. A very simplified, **pure Python implementation** written by yourself.\n",
    "2. The **`Geometry` class provided by `ogr` package**.\n",
    "3. The **`Polygon` class provided by the `shapely` package.**"
   ]
  },
  {
   "cell_type": "markdown",
   "metadata": {
    "slideshow": {
     "slide_type": "fragment"
    }
   },
   "source": [
    "#### The three methods should be compared in regard to:\n",
    "* Execution time\n",
    "* Programming time (how long did it take to write the code)\n",
    "* Readability\n",
    "* Flexibility (how easily can you adapt it to your needs)"
   ]
  },
  {
   "cell_type": "markdown",
   "metadata": {
    "slideshow": {
     "slide_type": "slide"
    }
   },
   "source": [
    "### 1. Create your own `Polygon` class in Python"
   ]
  },
  {
   "cell_type": "markdown",
   "metadata": {},
   "source": [
    "__E 1.1:__ Write a class called `MyPolygon` which takes a list of tuples containing the coordinates of the polygon for initialization. The coordinates should be stored as an attribute of the instance called \"coordinates\". Use the `test_coordinates` below to test your class. "
   ]
  },
  {
   "cell_type": "code",
   "execution_count": 1,
   "metadata": {
    "slideshow": {
     "slide_type": "fragment"
    }
   },
   "outputs": [],
   "source": [
    "test_coordinates = [(1,1),(1,2),(2,2),(2,1),(1,1)]"
   ]
  },
  {
   "cell_type": "code",
   "execution_count": 2,
   "metadata": {
    "slideshow": {
     "slide_type": "fragment"
    }
   },
   "outputs": [],
   "source": [
    "class MyPolygon:\n",
    "        \n",
    "    def __init__(self, coordinates):\n",
    "        self.coordinates = coordinates\n",
    "        \n",
    "    def envelope(self):\n",
    "        pass"
   ]
  },
  {
   "cell_type": "code",
   "execution_count": 3,
   "metadata": {
    "slideshow": {
     "slide_type": "slide"
    }
   },
   "outputs": [],
   "source": [
    "my_poly = MyPolygon(test_coordinates)"
   ]
  },
  {
   "cell_type": "markdown",
   "metadata": {
    "slideshow": {
     "slide_type": "-"
    }
   },
   "source": [
    "Test whether the instance of class `Polygon` returns the right value. If there is not error message, everything's fine. "
   ]
  },
  {
   "cell_type": "code",
   "execution_count": 4,
   "metadata": {
    "slideshow": {
     "slide_type": "-"
    }
   },
   "outputs": [],
   "source": [
    "assert my_poly.coordinates == test_coordinates"
   ]
  },
  {
   "cell_type": "markdown",
   "metadata": {
    "slideshow": {
     "slide_type": "slide"
    }
   },
   "source": [
    "__E 1.2:__ Add a method `envelope` which calculates the bounding box of the polygon. The method should return the bounding box as a list containing the coordinates of the bounding box `[min_x, min_y, max_x, max_y]`.\n",
    "\n",
    "__Note:__ A bounding box is often reffered to as the envelope of a geometry."
   ]
  },
  {
   "cell_type": "code",
   "execution_count": 5,
   "metadata": {
    "slideshow": {
     "slide_type": "fragment"
    }
   },
   "outputs": [],
   "source": [
    "class MyPolygon():\n",
    "        \n",
    "    def __init__(self, coordinates):\n",
    "        self.coordinates = coordinates\n",
    "        \n",
    "    def envelope(self):\n",
    "        \"\"\"\n",
    "        Calculates the bounding box (or envelope) of the polygon.\n",
    "        \"\"\"\n",
    "        \n",
    "        xcoords = [x for x, y in self.coordinates]\n",
    "        ycoords = [y for x, y in self.coordinates]\n",
    "        \n",
    "        minx = min(xcoords)\n",
    "        maxx = max(xcoords)\n",
    "        miny = min(ycoords)\n",
    "        maxy = max(ycoords)\n",
    "        \n",
    "        return [minx, miny, maxx, maxy]"
   ]
  },
  {
   "cell_type": "code",
   "execution_count": 6,
   "metadata": {
    "slideshow": {
     "slide_type": "slide"
    }
   },
   "outputs": [],
   "source": [
    "my_poly = MyPolygon(test_coordinates)"
   ]
  },
  {
   "cell_type": "code",
   "execution_count": 7,
   "metadata": {
    "slideshow": {
     "slide_type": "-"
    }
   },
   "outputs": [
    {
     "name": "stdout",
     "output_type": "stream",
     "text": [
      "minX: 1, minY: 1, maxX: 2, maxY: 2\n"
     ]
    }
   ],
   "source": [
    "my_poly_env = my_poly.envelope()\n",
    "print(\"minX: {0}, minY: {1}, maxX: {2}, maxY: {3}\".format(*my_poly_env))"
   ]
  },
  {
   "cell_type": "markdown",
   "metadata": {
    "slideshow": {
     "slide_type": "slide"
    }
   },
   "source": [
    "Alternative using numpy:"
   ]
  },
  {
   "cell_type": "code",
   "execution_count": 8,
   "metadata": {
    "slideshow": {
     "slide_type": "-"
    }
   },
   "outputs": [],
   "source": [
    "import numpy as np"
   ]
  },
  {
   "cell_type": "code",
   "execution_count": 9,
   "metadata": {
    "slideshow": {
     "slide_type": "-"
    }
   },
   "outputs": [],
   "source": [
    "class MyPolygon():\n",
    "    \n",
    "    def __init__(self, coordinates):\n",
    "        self.coordinates = np.array(coordinates)\n",
    "        \n",
    "    def envelope(self):\n",
    "        \"\"\"\n",
    "        Calculates the bounding box (or envelope) of the polygon.\n",
    "        \"\"\"\n",
    "        xcoords = self.coordinates[:,0]\n",
    "        ycoords = self.coordinates[:,1]\n",
    "\n",
    "        minx = xcoords.min()\n",
    "        maxx = xcoords.max()\n",
    "        miny = ycoords.min()\n",
    "        maxy = ycoords.max()\n",
    "        \n",
    "        return [minx, miny, maxx, maxy]"
   ]
  },
  {
   "cell_type": "markdown",
   "metadata": {
    "slideshow": {
     "slide_type": "slide"
    }
   },
   "source": [
    "### 2. Calculate bounding box using  `ogr.Geometry`\n",
    "So you've created a very simple Polygon class in Python with just a few lines of code. Now let's compare your implementation to the one provided by the `ogr` package. "
   ]
  },
  {
   "cell_type": "markdown",
   "metadata": {
    "slideshow": {
     "slide_type": "slide"
    }
   },
   "source": [
    "__E 2.1:__ Use the `ogr` package to create a polygon object using the same `test_coordinates` as above."
   ]
  },
  {
   "cell_type": "code",
   "execution_count": 10,
   "metadata": {
    "slideshow": {
     "slide_type": "fragment"
    }
   },
   "outputs": [],
   "source": [
    "import ogr"
   ]
  },
  {
   "cell_type": "code",
   "execution_count": 11,
   "metadata": {
    "slideshow": {
     "slide_type": "fragment"
    }
   },
   "outputs": [
    {
     "data": {
      "text/plain": [
       "0"
      ]
     },
     "execution_count": 11,
     "metadata": {},
     "output_type": "execute_result"
    }
   ],
   "source": [
    "# Create ring\n",
    "ring = ogr.Geometry(ogr.wkbLinearRing)\n",
    "for c in test_coordinates:\n",
    "    ring.AddPoint(c[0], c[1])\n",
    "# Create polygon\n",
    "ogr_poly = ogr.Geometry(ogr.wkbPolygon)\n",
    "ogr_poly.AddGeometry(ring)"
   ]
  },
  {
   "cell_type": "markdown",
   "metadata": {
    "slideshow": {
     "slide_type": "slide"
    }
   },
   "source": [
    "__E 2.2:__ Calculate the envelope of the polygon."
   ]
  },
  {
   "cell_type": "code",
   "execution_count": 12,
   "metadata": {
    "slideshow": {
     "slide_type": "fragment"
    }
   },
   "outputs": [
    {
     "name": "stdout",
     "output_type": "stream",
     "text": [
      "minX: 1.0, minY: 1.0, maxX: 2.0, maxY: 2.0\n"
     ]
    }
   ],
   "source": [
    "ogr_poly_env = ogr_poly.GetEnvelope()\n",
    "print(\"minX: {0}, minY: {2}, maxX: {1}, maxY: {3}\".format(*ogr_poly_env))"
   ]
  },
  {
   "cell_type": "markdown",
   "metadata": {
    "slideshow": {
     "slide_type": "fragment"
    }
   },
   "source": [
    "Are the results from your class and the ogr class the same? If not check your code.\n",
    "\n",
    "__Note:__ Remember that the order of the coordinates of the bounding box returned by `ogr` method is  `[min_x, max_x, min_y, max_y]`. "
   ]
  },
  {
   "cell_type": "markdown",
   "metadata": {
    "slideshow": {
     "slide_type": "slide"
    }
   },
   "source": [
    "### 3. Calculate the bounding box using `shapely` \n",
    "\n",
    "Those were a lot of lines just for creating a simple polygon. For this reason, `shapely` was developed. Creating a geometry using shapely works the same way as for our Python implementation. "
   ]
  },
  {
   "cell_type": "markdown",
   "metadata": {},
   "source": [
    "__E 3.1:__ Use `shapely` package to create a polygon object using the same `test_coordinates` as above."
   ]
  },
  {
   "cell_type": "code",
   "execution_count": 13,
   "metadata": {
    "slideshow": {
     "slide_type": "fragment"
    }
   },
   "outputs": [],
   "source": [
    "from shapely.geometry import Polygon"
   ]
  },
  {
   "cell_type": "code",
   "execution_count": 14,
   "metadata": {
    "scrolled": true,
    "slideshow": {
     "slide_type": "fragment"
    }
   },
   "outputs": [
    {
     "data": {
      "image/svg+xml": [
       "<svg xmlns=\"http://www.w3.org/2000/svg\" xmlns:xlink=\"http://www.w3.org/1999/xlink\" width=\"100.0\" height=\"100.0\" viewBox=\"0.96 0.96 1.08 1.08\" preserveAspectRatio=\"xMinYMin meet\"><g transform=\"matrix(1,0,0,-1,0,3.0)\"><path fill-rule=\"evenodd\" fill=\"#66cc99\" stroke=\"#555555\" stroke-width=\"0.0216\" opacity=\"0.6\" d=\"M 1.0,1.0 L 1.0,2.0 L 2.0,2.0 L 2.0,1.0 L 1.0,1.0 z\" /></g></svg>"
      ],
      "text/plain": [
       "<shapely.geometry.polygon.Polygon at 0x7fe5f50a5f40>"
      ]
     },
     "execution_count": 14,
     "metadata": {},
     "output_type": "execute_result"
    }
   ],
   "source": [
    "shapely_poly = Polygon(test_coordinates)\n",
    "shapely_poly"
   ]
  },
  {
   "cell_type": "markdown",
   "metadata": {
    "slideshow": {
     "slide_type": "slide"
    }
   },
   "source": [
    "__E 3.2:__ Calculate the bounding box of the shapely polygon using the method `bounds()`."
   ]
  },
  {
   "cell_type": "code",
   "execution_count": 15,
   "metadata": {
    "slideshow": {
     "slide_type": "fragment"
    }
   },
   "outputs": [
    {
     "name": "stdout",
     "output_type": "stream",
     "text": [
      "minX: 1.0, minY: 1.0, maxX:2.0, maxY: 2.0\n"
     ]
    }
   ],
   "source": [
    "print(\"minX: {}, minY: {}, maxX:{}, maxY: {}\".format(*shapely_poly.bounds))"
   ]
  },
  {
   "cell_type": "markdown",
   "metadata": {
    "slideshow": {
     "slide_type": "slide"
    }
   },
   "source": [
    "### 4. Comparison of execution time\n",
    "Compare the exectution times of both methods using the magic command `%%timeit`. This function will execute the cell multiple times to get a good estimate of the execution time. "
   ]
  },
  {
   "cell_type": "markdown",
   "metadata": {},
   "source": [
    "#### Exection time of bounding box calculation\n",
    "__E 4.1:__ Compare the exection times of the calculation of the bounding box of all three methods. "
   ]
  },
  {
   "cell_type": "code",
   "execution_count": 16,
   "metadata": {
    "slideshow": {
     "slide_type": "fragment"
    }
   },
   "outputs": [
    {
     "name": "stdout",
     "output_type": "stream",
     "text": [
      "1.88 µs ± 52.4 ns per loop (mean ± std. dev. of 7 runs, 100000 loops each)\n"
     ]
    }
   ],
   "source": [
    "%%timeit\n",
    "my_poly.envelope()"
   ]
  },
  {
   "cell_type": "code",
   "execution_count": 17,
   "metadata": {
    "slideshow": {
     "slide_type": "fragment"
    }
   },
   "outputs": [
    {
     "name": "stdout",
     "output_type": "stream",
     "text": [
      "591 ns ± 22 ns per loop (mean ± std. dev. of 7 runs, 1000000 loops each)\n"
     ]
    }
   ],
   "source": [
    "%%timeit\n",
    "ogr_poly.GetEnvelope()"
   ]
  },
  {
   "cell_type": "code",
   "execution_count": 19,
   "metadata": {
    "scrolled": true,
    "slideshow": {
     "slide_type": "fragment"
    }
   },
   "outputs": [
    {
     "name": "stdout",
     "output_type": "stream",
     "text": [
      "35.1 µs ± 2.05 µs per loop (mean ± std. dev. of 7 runs, 10000 loops each)\n"
     ]
    }
   ],
   "source": [
    "%%timeit\n",
    "shapely_poly.bounds"
   ]
  },
  {
   "cell_type": "markdown",
   "metadata": {
    "slideshow": {
     "slide_type": "fragment"
    }
   },
   "source": [
    "__Question:__ What do you observe when you compre the execution times of all three methods? Can you explain the difference in execution times?"
   ]
  },
  {
   "cell_type": "markdown",
   "metadata": {
    "slideshow": {
     "slide_type": "fragment"
    }
   },
   "source": [
    "__Answer:__ "
   ]
  },
  {
   "cell_type": "markdown",
   "metadata": {
    "slideshow": {
     "slide_type": "slide"
    }
   },
   "source": [
    "#### Comparison bounding box creation and object creation\n",
    "\n",
    "When choosing the most efficient way to calculate something, we also need to consider the _overhead_ of the calculation. The _overhead_ contains all the processing steps that need to be taken as a preparation before the execution of the desired calculation. Depending on the implementation, this can change your decision.  "
   ]
  },
  {
   "cell_type": "markdown",
   "metadata": {
    "slideshow": {
     "slide_type": "slide"
    }
   },
   "source": [
    "__E 4.2:__ Measure the execution times of all three implementations including the object createion."
   ]
  },
  {
   "cell_type": "code",
   "execution_count": 20,
   "metadata": {
    "slideshow": {
     "slide_type": "fragment"
    }
   },
   "outputs": [
    {
     "name": "stdout",
     "output_type": "stream",
     "text": [
      "14.3 µs ± 859 ns per loop (mean ± std. dev. of 7 runs, 100000 loops each)\n"
     ]
    }
   ],
   "source": [
    "%%timeit\n",
    "my_poly = MyPolygon(test_coordinates)\n",
    "my_poly_env = my_poly.envelope()"
   ]
  },
  {
   "cell_type": "code",
   "execution_count": 21,
   "metadata": {
    "slideshow": {
     "slide_type": "fragment"
    }
   },
   "outputs": [
    {
     "name": "stdout",
     "output_type": "stream",
     "text": [
      "14.2 µs ± 29.5 ns per loop (mean ± std. dev. of 7 runs, 100000 loops each)\n"
     ]
    }
   ],
   "source": [
    "%%timeit\n",
    "# Create ring\n",
    "ring = ogr.Geometry(ogr.wkbLinearRing)\n",
    "for c in test_coordinates:\n",
    "    ring.AddPoint(c[0], c[1])\n",
    "# Create polygon\n",
    "poly_ogr = ogr.Geometry(ogr.wkbPolygon)\n",
    "poly_ogr.AddGeometry(ring)\n",
    "poly_ogr_env = poly_ogr.GetEnvelope()"
   ]
  },
  {
   "cell_type": "code",
   "execution_count": 24,
   "metadata": {
    "slideshow": {
     "slide_type": "fragment"
    }
   },
   "outputs": [
    {
     "name": "stdout",
     "output_type": "stream",
     "text": [
      "45.2 µs ± 4.1 µs per loop (mean ± std. dev. of 7 runs, 10000 loops each)\n"
     ]
    }
   ],
   "source": [
    "%%timeit\n",
    "shapely_poly = Polygon(shell=test_coordinates)\n",
    "shapely_poly.bounds"
   ]
  },
  {
   "cell_type": "markdown",
   "metadata": {
    "slideshow": {
     "slide_type": "slide"
    }
   },
   "source": [
    "__Question:__ What do you observe when you compre the execution times and the object creation of all three polygon implementations? Can you explain the difference in execution times?"
   ]
  },
  {
   "cell_type": "markdown",
   "metadata": {
    "slideshow": {
     "slide_type": "-"
    }
   },
   "source": [
    "__Your Answer:__"
   ]
  },
  {
   "cell_type": "markdown",
   "metadata": {
    "slideshow": {
     "slide_type": "slide"
    }
   },
   "source": [
    "### 5. Questions for Discussion"
   ]
  },
  {
   "cell_type": "markdown",
   "metadata": {
    "slideshow": {
     "slide_type": "slide"
    }
   },
   "source": [
    "__Q1:__ Based on your results of the exercises, evaluate the three methods in the table below. (Double click the cell, to edit it)"
   ]
  },
  {
   "cell_type": "markdown",
   "metadata": {
    "slideshow": {
     "slide_type": "fragment"
    }
   },
   "source": [
    "\n",
    "|            | Execution time <br> (fast - slow)| Programming time <br> (fast - slow)| Readability <br> (high - low) | Flexibility  <br> (high - low)       |\n",
    "|------------|----------------|------------------|-------------|-------------------|\n",
    "| __DIY Python__ | fast           | slow             | high        | high              |\n",
    "| __OGR__        | very fast      | medium             | low         | mostly sufficient |\n",
    "| __Shapely__    | quite slow     | fast             | high        | mostly sufficient |"
   ]
  },
  {
   "cell_type": "markdown",
   "metadata": {
    "slideshow": {
     "slide_type": "slide"
    }
   },
   "source": [
    "__Q2:__ Answer the questions from the beginning of the notebook. \n",
    "\n",
    "1. First, try to answer them on your own. \n",
    "2. Then, discuss them in groups or pairs with your peers. \n",
    "3. We will discuss the results in the course at the end of today's session. \n",
    "\n",
    "Please provide your answers below."
   ]
  },
  {
   "cell_type": "markdown",
   "metadata": {},
   "source": [
    "1. What does _[Pythonic](https://docs.python-guide.org/writing/style/)_ mean? Why is it suitable for scientists?\n",
    "2. Why are `ogr` and `gdal` not _Pythonic_ enough? \n",
    "3. What are the advantages and disadvantages of using ogr, shapely or your own implementation for vector data processing? "
   ]
  },
  {
   "cell_type": "markdown",
   "metadata": {},
   "source": [
    "__Your answers:__"
   ]
  },
  {
   "cell_type": "markdown",
   "metadata": {
    "slideshow": {
     "slide_type": "slide"
    }
   },
   "source": [
    "### Summary:\n",
    "\n",
    "* There are different ways to perform geometric manipulations in Python. \n",
    "* However, when we do complex spatial analysis, we will need to apply these operations to whole layers and not just single features. \n",
    "* To make such analyses possible the `pandas` and `geopandas` packages are used. \n",
    "\n",
    "In the last part of the assignment, we will look at the `pandas` an `geopandas` packages to perform more complex spatial analyses. \n",
    "\n",
    "&rarr; Continue with [Part 3: Vector Data Analysis using GeoPandas](./02-geopandas.ipynb)"
   ]
  },
  {
   "cell_type": "markdown",
   "metadata": {
    "slideshow": {
     "slide_type": "slide"
    }
   },
   "source": [
    "## References\n",
    "\n",
    "If you would like to take a deeper look at object oriented programming in Python take a look at the following resources: \n",
    "\n",
    "* [Object Oriented Programming in Python](https://github.com/TheDigitalCatOnline/thedigitalcatonline.github.com/tree/master/notebooks)\n",
    "* [Python Tutorial](https://docs.python.org/3/tutorial/classes.html)\n",
    "* [Abstract Classes](https://docs.python.org/3/library/abc.html#module-abc)\n",
    "* [Computational Geometry in Python: From Theory to Application](https://www.toptal.com/python/computational-geometry-in-python-from-theory-to-implementation\n",
    ")\n",
    "\n",
    "    \n"
   ]
  },
  {
   "cell_type": "code",
   "execution_count": null,
   "metadata": {},
   "outputs": [],
   "source": []
  }
 ],
 "metadata": {
  "celltoolbar": "Slideshow",
  "kernelspec": {
   "display_name": "Python 3",
   "language": "python",
   "name": "python3"
  },
  "language_info": {
   "codemirror_mode": {
    "name": "ipython",
    "version": 3
   },
   "file_extension": ".py",
   "mimetype": "text/x-python",
   "name": "python",
   "nbconvert_exporter": "python",
   "pygments_lexer": "ipython3",
   "version": "3.7.3"
  },
  "toc": {
   "base_numbering": 1,
   "nav_menu": {},
   "number_sections": true,
   "sideBar": true,
   "skip_h1_title": false,
   "title_cell": "Table of Contents",
   "title_sidebar": "Contents",
   "toc_cell": false,
   "toc_position": {},
   "toc_section_display": true,
   "toc_window_display": false
  }
 },
 "nbformat": 4,
 "nbformat_minor": 2
}
