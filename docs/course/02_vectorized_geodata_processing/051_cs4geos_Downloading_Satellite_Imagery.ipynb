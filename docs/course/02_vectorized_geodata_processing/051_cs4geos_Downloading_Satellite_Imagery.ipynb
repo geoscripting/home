{
 "cells": [
  {
   "cell_type": "markdown",
   "metadata": {},
   "source": [
    "# Advanced Raster Data Processing"
   ]
  },
  {
   "cell_type": "markdown",
   "metadata": {},
   "source": [
    "The study area of the assignment is the [Delta de Saloum](https://rsis.ramsar.org/ris/288), a Ramsar protect wetland at the coast of Senegal. We will use multi-temporal satellite imagery to monitor the changing water levels of the wetland over time."
   ]
  },
  {
   "cell_type": "markdown",
   "metadata": {},
   "source": [
    "In this assignment we will practice working with raster data in Python using _rasterio_ and _numpy_. We will use the _sat-search_ package to search for suitable satellite imagery from the [Amazon AWS Open Data Registry](https://registry.opendata.aws/) . The os package is usually needed and pyproj for reprojecting coordinates. "
   ]
  },
  {
   "cell_type": "code",
   "execution_count": 2,
   "metadata": {},
   "outputs": [],
   "source": [
    "import os\n",
    "import numpy as np\n",
    "import rasterio as rio\n",
    "import pyproj\n",
    "from satsearch import Search\n",
    "import matplotlib.pyplot as plt"
   ]
  },
  {
   "cell_type": "markdown",
   "metadata": {},
   "source": [
    "Please refer to the following sources for information on the usage of the packages (or google it): \n",
    "* [Rasterio Python Quickstart](https://rasterio.readthedocs.io/en/latest/quickstart.html)\n",
    "* [sat-search Quickstart](https://github.com/sat-utils/sat-search)\n",
    "* [sat-search Python Tutorial](https://github.com/sat-utils/sat-search/blob/master/tutorial-1.ipynb)"
   ]
  },
  {
   "cell_type": "markdown",
   "metadata": {},
   "source": [
    "This analysis will include the following steps:\n",
    "    1. Search suitable satillite imagery\n",
    "    2. Download satellite imagery\n",
    "    3. Preprocess satellite imagery\n",
    "    4. Calculate Water Index\n",
    "    5. Calculate water frequency"
   ]
  },
  {
   "cell_type": "markdown",
   "metadata": {},
   "source": [
    "## Step 1: Searching for satellite imagery "
   ]
  },
  {
   "cell_type": "markdown",
   "metadata": {},
   "source": [
    "In the first step, we will use the package [sat-search](https://github.com/sat-utils/sat-search) to search for suitable satellite scenes within our study area and [rasterio](https://rasterio.readthedocs.io/en/latest/quickstart.html) to load the data into Python. The search is based on the Spatio-Temporal Asset Catalogs (STAC) format which should make it easier to search and query satellite imagery.  \n",
    "\n",
    "__FYI:__ [sat-search](https://github.com/sat-utils/sat-search) is developed by [Development Seed](https://developmentseed.org/). Check out their [sat-utils on GitHub](https://github.com/sat-utils)."
   ]
  },
  {
   "cell_type": "markdown",
   "metadata": {},
   "source": [
    "#### Installation of sat-search:\n",
    "\n",
    "Before you start you need to install the `sat-search` Python package using `conda install sat-search`."
   ]
  },
  {
   "cell_type": "markdown",
   "metadata": {},
   "source": [
    "Let's perform a search for satellite scenes for the area of Heidelberg. You can get metadata about all scenes using the `items()` method."
   ]
  },
  {
   "cell_type": "markdown",
   "metadata": {},
   "source": [
    "#### Define search parameters\n",
    "\n",
    "Let's define some input parameters for our search. The bounding box is already setup correctily using geographic coordinates."
   ]
  },
  {
   "cell_type": "code",
   "execution_count": 3,
   "metadata": {},
   "outputs": [],
   "source": [
    "bbox = [-16.811, 13.627, -16.356, 14.14] # [minx, miny, maxx, maxy]"
   ]
  },
  {
   "cell_type": "markdown",
   "metadata": {},
   "source": [
    "Now we need to specify which scenes are suitable:\n",
    "* We are interested in all scenes within the year **2019**. \n",
    "* **Only Landsat 8 scenes**, since these are easily downloadable via Amazon AWS. \n",
    "* **Maximum cloud coverage of 2%** so we get mostly cloud free scenes. \n",
    "\n",
    "All parameters of the query are stored in a dictionary. "
   ]
  },
  {
   "cell_type": "code",
   "execution_count": 4,
   "metadata": {},
   "outputs": [],
   "source": [
    "time_period = '2014-01-01/2019-01-01'"
   ]
  },
  {
   "cell_type": "code",
   "execution_count": 5,
   "metadata": {},
   "outputs": [],
   "source": [
    "query = {\n",
    "    \"eo:cloud_cover\": {\n",
    "        \"lt\": 5\n",
    "    },\n",
    "    \"collection\": {\n",
    "        \"eq\": \"landsat-8-l1\"\n",
    "    },\n",
    "    #\"time\": time_period\n",
    "}"
   ]
  },
  {
   "cell_type": "code",
   "execution_count": 6,
   "metadata": {},
   "outputs": [],
   "source": [
    "qq = {\n",
    "  \"bbox\": bbox,\n",
    "  \"time\": \"2018-02-12T00:00:00Z/2018-03-18T12:31:12Z\",\n",
    "  \"query\": {\n",
    "    \"eo:cloud_cover\": {\n",
    "      \"lt\": 10\n",
    "    }\n",
    "  },\n",
    "  \"sort\": [\n",
    "    {\n",
    "      \"field\": \"eo:cloud_cover\",\n",
    "      \"direction\": \"desc\"\n",
    "    }\n",
    "  ]\n",
    "}"
   ]
  },
  {
   "cell_type": "markdown",
   "metadata": {},
   "source": [
    "#### Execute the search!"
   ]
  },
  {
   "cell_type": "code",
   "execution_count": 7,
   "metadata": {},
   "outputs": [],
   "source": [
    "search_result = Search.search(collection='landsat-8-l1', property=[\"eo:cloud_cover<5\"], bbox=bbox, time=time_period)"
   ]
  },
  {
   "cell_type": "code",
   "execution_count": 8,
   "metadata": {},
   "outputs": [
    {
     "data": {
      "text/plain": [
       "0"
      ]
     },
     "execution_count": 8,
     "metadata": {},
     "output_type": "execute_result"
    }
   ],
   "source": [
    "search_result.found()"
   ]
  },
  {
   "cell_type": "code",
   "execution_count": 9,
   "metadata": {},
   "outputs": [],
   "source": [
    "items = search_result.items()"
   ]
  },
  {
   "cell_type": "code",
   "execution_count": 10,
   "metadata": {},
   "outputs": [],
   "source": [
    "search_result = Search(bbox=bbox, query=query, time=time_period)"
   ]
  },
  {
   "cell_type": "code",
   "execution_count": 19,
   "metadata": {},
   "outputs": [
    {
     "name": "stdout",
     "output_type": "stream",
     "text": [
      "362 items\n",
      "362 items\n",
      "6 collections\n",
      "[landsat-8-l1, cbers4-pan5m, sentinel-2-l1c, cbers4-pan10m, cbers4-mux, cbers4-awfi]\n",
      "S2B_28PBA_20200805_0\n",
      "S2B_28PCA_20200805_0\n",
      "S2A_28PBA_20200731_0\n",
      "S2A_28PCA_20200731_0\n",
      "S2B_28PBA_20200726_0\n",
      "S2B_28PCA_20200726_0\n",
      "S2A_28PBA_20200721_0\n",
      "S2A_28PCA_20200721_0\n",
      "S2B_28PBA_20200716_0\n",
      "S2B_28PCA_20200716_0\n",
      "LC82050512020198\n",
      "LC82050502020198\n",
      "S2A_28PBA_20200711_0\n",
      "S2A_28PCA_20200711_0\n",
      "S2B_28PBA_20200706_0\n",
      "S2B_28PCA_20200706_0\n",
      "S2A_28PBA_20200701_0\n",
      "S2A_28PCA_20200701_0\n",
      "LC82050512020182\n",
      "LC82050502020182\n",
      "S2B_28PBA_20200626_0\n",
      "S2B_28PCA_20200626_0\n",
      "S2A_28PBA_20200621_0\n",
      "S2A_28PCA_20200621_0\n",
      "S2B_28PBA_20200616_0\n",
      "S2B_28PCA_20200616_0\n",
      "LC82050512020166\n",
      "LC82050502020166\n",
      "S2A_28PBA_20200611_0\n",
      "S2A_28PCA_20200611_0\n",
      "S2B_28PBA_20200606_0\n",
      "S2B_28PCA_20200606_0\n",
      "S2A_28PBA_20200601_0\n",
      "S2A_28PCA_20200601_0\n",
      "LC82050512020150\n",
      "LC82050502020150\n",
      "S2B_28PBA_20200527_0\n",
      "S2B_28PCA_20200527_0\n",
      "S2A_28PBA_20200522_0\n",
      "S2A_28PCA_20200522_0\n",
      "S2B_28PBA_20200517_0\n",
      "S2B_28PCA_20200517_0\n",
      "LC82050512020134\n",
      "LC82050502020134\n",
      "S2A_28PBA_20200512_0\n",
      "S2A_28PCA_20200512_0\n",
      "S2B_28PBA_20200507_0\n",
      "S2B_28PCA_20200507_0\n",
      "S2A_28PBA_20200502_0\n",
      "S2A_28PCA_20200502_0\n",
      "S2B_28PBA_20200427_0\n",
      "S2B_28PCA_20200427_0\n",
      "LC82050512020118\n",
      "LC82050502020118\n",
      "S2A_28PBA_20200422_0\n",
      "S2A_28PCA_20200422_0\n",
      "S2B_28PBA_20200417_0\n",
      "S2B_28PCA_20200417_0\n",
      "S2A_28PBA_20200412_0\n",
      "S2A_28PCA_20200412_0\n",
      "LC82050512020102\n",
      "LC82050502020102\n",
      "S2B_28PBA_20200407_0\n",
      "S2B_28PCA_20200407_0\n",
      "S2A_28PBA_20200402_0\n",
      "S2A_28PCA_20200402_0\n",
      "S2B_28PBA_20200328_0\n",
      "S2B_28PCA_20200328_0\n",
      "LC82050512020086\n",
      "LC82050502020086\n",
      "S2A_28PBA_20200323_0\n",
      "S2A_28PCA_20200323_0\n",
      "S2B_28PBA_20200318_0\n",
      "S2B_28PCA_20200318_0\n",
      "S2A_28PBA_20200313_0\n",
      "S2A_28PCA_20200313_0\n",
      "LC82050512020070\n",
      "LC82050502020070\n",
      "S2B_28PBA_20200308_0\n",
      "S2B_28PCA_20200308_0\n",
      "S2A_28PBA_20200303_0\n",
      "S2A_28PCA_20200303_0\n",
      "S2B_28PBA_20200227_0\n",
      "S2B_28PCA_20200227_0\n",
      "LC82050512020054\n",
      "S2A_28PBA_20200222_0\n",
      "S2A_28PCA_20200222_0\n",
      "S2B_28PBA_20200217_0\n",
      "S2B_28PCA_20200217_0\n",
      "S2A_28PBA_20200212_0\n",
      "S2A_28PCA_20200212_0\n",
      "S2B_28PBA_20200207_0\n",
      "S2B_28PCA_20200207_0\n",
      "LC82050512020038\n",
      "LC82050502020038\n",
      "S2A_28PBA_20200202_0\n",
      "S2A_28PCA_20200202_0\n",
      "S2B_28PBA_20200128_0\n",
      "S2B_28PCA_20200128_0\n",
      "S2A_28PBA_20200123_0\n",
      "S2A_28PCA_20200123_0\n",
      "LC82050512020022\n",
      "LC82050502020022\n",
      "S2B_28PBA_20200118_0\n",
      "S2B_28PCA_20200118_0\n",
      "S2A_28PBA_20200113_0\n",
      "S2A_28PCA_20200113_0\n",
      "S2B_28PBA_20200108_0\n",
      "S2B_28PCA_20200108_0\n",
      "LC82050512020006\n",
      "LC82050502020006\n",
      "S2A_28PBA_20200103_0\n",
      "S2A_28PCA_20200103_0\n",
      "S2B_28PBA_20191229_0\n",
      "S2B_28PCA_20191229_0\n",
      "S2A_28PBA_20191224_0\n",
      "S2A_28PCA_20191224_0\n",
      "LC82050512019355\n",
      "LC82050502019355\n",
      "S2B_28PBA_20191219_0\n",
      "S2B_28PCA_20191219_0\n",
      "S2A_28PBA_20191214_0\n",
      "S2A_28PCA_20191214_0\n",
      "S2B_28PBA_20191209_0\n",
      "S2B_28PCA_20191209_0\n",
      "LC82050512019339\n",
      "LC82050502019339\n",
      "S2A_28PBA_20191204_0\n",
      "S2A_28PCA_20191204_0\n",
      "S2B_28PBA_20191129_0\n",
      "S2B_28PCA_20191129_0\n",
      "S2A_28PBA_20191124_0\n",
      "S2A_28PCA_20191124_0\n",
      "S2B_28PBA_20191119_0\n",
      "S2B_28PCA_20191119_0\n",
      "LC82050512019323\n",
      "LC82050502019323\n",
      "S2A_28PBA_20191114_0\n",
      "S2A_28PCA_20191114_0\n",
      "S2B_28PBA_20191109_0\n",
      "S2B_28PCA_20191109_0\n",
      "S2A_28PBA_20191104_0\n",
      "S2A_28PCA_20191104_0\n",
      "LC82050512019307\n",
      "LC82050502019307\n",
      "S2B_28PBA_20191030_0\n",
      "S2B_28PCA_20191030_0\n",
      "S2A_28PBA_20191025_0\n",
      "S2A_28PCA_20191025_0\n",
      "S2B_28PBA_20191020_0\n",
      "S2B_28PCA_20191020_0\n",
      "LC82050512019291\n",
      "LC82050502019291\n",
      "S2A_28PBA_20191015_0\n",
      "S2A_28PCA_20191015_0\n",
      "S2B_28PBA_20191010_0\n",
      "S2B_28PCA_20191010_0\n",
      "S2A_28PBA_20191005_0\n",
      "S2A_28PCA_20191005_0\n",
      "LC82050512019275\n",
      "LC82050502019275\n",
      "S2B_28PBA_20190930_0\n",
      "S2B_28PCA_20190930_0\n",
      "S2A_28PBA_20190925_0\n",
      "S2A_28PCA_20190925_0\n",
      "S2B_28PBA_20190920_0\n",
      "S2B_28PCA_20190920_0\n",
      "LC82050512019259\n",
      "LC82050502019259\n",
      "S2A_28PBA_20190915_0\n",
      "S2A_28PCA_20190915_0\n",
      "S2B_28PBA_20190910_0\n",
      "S2B_28PCA_20190910_0\n",
      "S2A_28PBA_20190905_0\n",
      "S2A_28PCA_20190905_0\n",
      "S2B_28PBA_20190831_1\n",
      "S2B_28PCA_20190831_1\n",
      "LC82050512019243\n",
      "LC82050502019243\n",
      "S2A_28PBA_20190826_0\n",
      "S2A_28PCA_20190826_0\n",
      "S2B_28PBA_20190821_0\n",
      "S2B_28PCA_20190821_0\n",
      "S2A_28PBA_20190816_0\n",
      "S2A_28PCA_20190816_0\n",
      "LC82050512019227\n",
      "LC82050502019227\n",
      "S2B_28PBA_20190811_0\n",
      "S2B_28PCA_20190811_0\n",
      "S2A_28PBA_20190806_0\n",
      "S2A_28PCA_20190806_0\n",
      "S2B_28PBA_20190801_0\n",
      "S2B_28PCA_20190801_0\n",
      "LC82050512019211\n",
      "LC82050502019211\n",
      "S2A_28PBA_20190727_0\n",
      "S2A_28PCA_20190727_0\n",
      "S2B_28PBA_20190722_0\n",
      "S2B_28PCA_20190722_0\n",
      "S2A_28PBA_20190717_0\n",
      "S2A_28PCA_20190717_0\n",
      "LC82050512019195\n",
      "LC82050502019195\n",
      "S2B_28PBA_20190712_0\n",
      "S2B_28PCA_20190712_0\n",
      "S2A_28PBA_20190707_0\n",
      "S2A_28PCA_20190707_0\n",
      "S2B_28PBA_20190702_0\n",
      "S2B_28PCA_20190702_0\n",
      "LC82050512019179\n",
      "LC82050502019179\n",
      "S2A_28PBA_20190627_0\n",
      "S2A_28PCA_20190627_0\n",
      "S2B_28PBA_20190622_0\n",
      "S2B_28PCA_20190622_0\n",
      "S2A_28PBA_20190617_0\n",
      "S2A_28PCA_20190617_0\n",
      "LC82050512019163\n",
      "LC82050502019163\n",
      "S2A_28PBA_20190607_0\n",
      "S2A_28PCA_20190607_0\n",
      "S2B_28PBA_20190602_0\n",
      "S2B_28PCA_20190602_0\n",
      "S2A_28PBA_20190528_0\n",
      "S2A_28PCA_20190528_0\n",
      "LC82050512019147\n",
      "LC82050502019147\n",
      "S2B_28PBA_20190523_1\n",
      "S2B_28PCA_20190523_1\n",
      "S2A_28PBA_20190518_0\n",
      "S2A_28PCA_20190518_0\n",
      "S2B_28PBA_20190513_0\n",
      "S2B_28PCA_20190513_0\n",
      "LC82050512019131\n",
      "LC82050502019131\n",
      "S2A_28PBA_20190508_0\n",
      "S2A_28PCA_20190508_0\n",
      "S2B_28PBA_20190503_0\n",
      "S2B_28PCA_20190503_0\n",
      "S2A_28PBA_20190428_0\n",
      "S2A_28PCA_20190428_0\n",
      "LC82050512019115\n",
      "LC82050502019115\n",
      "S2B_28PCA_20190423_0\n",
      "S2B_28PBA_20190423_0\n",
      "S2A_28PBA_20190418_0\n",
      "S2A_28PCA_20190418_0\n",
      "S2B_28PCA_20190413_0\n",
      "S2B_28PBA_20190413_0\n",
      "LC82050512019099\n",
      "LC82050502019099\n",
      "S2B_28PBA_20170920_0\n",
      "S2B_28PCA_20170920_0\n",
      "CBERS_4_AWFI_20170518_128_087_L4\n",
      "CBERS_4_AWFI_20170512_130_081_L4\n",
      "CBERS_4_AWFI_20170509_131_087_L4\n",
      "CBERS_4_AWFI_20170509_131_081_L4\n",
      "CBERS_4_AWFI_20170506_132_087_L4\n",
      "CBERS_4_PAN10M_20170506_132_085_L2\n",
      "CBERS_4_PAN5M_20170506_132_085_L2\n",
      "CBERS_4_PAN10M_20170506_132_084_L2\n",
      "CBERS_4_MUX_20170506_132_084_L4\n",
      "CBERS_4_PAN5M_20170506_132_084_L2\n",
      "CBERS_4_AWFI_20170506_132_081_L4\n",
      "CBERS_4_AWFI_20170503_133_087_L2\n",
      "CBERS_4_AWFI_20170503_133_081_L4\n",
      "CBERS_4_AWFI_20170422_128_087_L4\n",
      "CBERS_4_AWFI_20170419_129_087_L4\n",
      "CBERS_4_AWFI_20170419_129_081_L4\n",
      "CBERS_4_AWFI_20170416_130_087_L4\n",
      "CBERS_4_AWFI_20170416_130_081_L4\n",
      "CBERS_4_AWFI_20170413_131_087_L4\n",
      "CBERS_4_AWFI_20170413_131_081_L4\n",
      "CBERS_4_AWFI_20170410_132_087_L4\n",
      "CBERS_4_PAN10M_20170410_132_085_L2\n",
      "CBERS_4_MUX_20170410_132_085_L4\n",
      "CBERS_4_PAN5M_20170410_132_085_L2\n",
      "CBERS_4_PAN10M_20170410_132_084_L2\n",
      "CBERS_4_MUX_20170410_132_084_L4\n",
      "CBERS_4_PAN5M_20170410_132_084_L2\n",
      "CBERS_4_AWFI_20170324_129_087_L4\n",
      "CBERS_4_AWFI_20170318_131_087_L4\n",
      "CBERS_4_AWFI_20170318_131_081_L4\n",
      "CBERS_4_AWFI_20170315_132_087_L4\n",
      "CBERS_4_PAN10M_20170315_132_085_L2\n",
      "CBERS_4_PAN5M_20170315_132_085_L2\n",
      "CBERS_4_MUX_20170315_132_085_L4\n",
      "CBERS_4_PAN10M_20170315_132_084_L2\n",
      "CBERS_4_PAN5M_20170315_132_084_L2\n",
      "CBERS_4_AWFI_20170315_132_081_L4\n",
      "CBERS_4_AWFI_20170312_133_087_L2\n",
      "CBERS_4_MUX_20170312_133_084_L2\n",
      "CBERS_4_AWFI_20170312_133_081_L4\n",
      "CBERS_4_AWFI_20170301_128_087_L4\n",
      "CBERS_4_AWFI_20170223_130_087_L4\n",
      "CBERS_4_AWFI_20170220_131_087_L4\n",
      "CBERS_4_AWFI_20170220_131_081_L4\n",
      "CBERS_4_AWFI_20170217_132_087_L4\n",
      "CBERS_4_PAN10M_20170217_132_085_L2\n",
      "CBERS_4_MUX_20170217_132_085_L4\n",
      "CBERS_4_PAN5M_20170217_132_085_L2\n",
      "CBERS_4_PAN10M_20170217_132_084_L2\n",
      "CBERS_4_MUX_20170217_132_084_L4\n",
      "CBERS_4_PAN5M_20170217_132_084_L2\n",
      "CBERS_4_AWFI_20170217_132_081_L4\n",
      "CBERS_4_AWFI_20170214_133_087_L2\n",
      "CBERS_4_MUX_20170214_133_084_L2\n",
      "CBERS_4_AWFI_20170214_133_081_L4\n",
      "CBERS_4_AWFI_20170203_128_087_L4\n",
      "CBERS_4_AWFI_20170131_129_087_L4\n",
      "CBERS_4_AWFI_20170128_130_087_L4\n",
      "CBERS_4_AWFI_20170128_130_081_L4\n",
      "CBERS_4_AWFI_20170125_131_087_L4\n",
      "CBERS_4_PAN10M_20170122_132_085_L2\n",
      "CBERS_4_PAN5M_20170122_132_085_L2\n",
      "CBERS_4_MUX_20170122_132_085_L4\n",
      "CBERS_4_PAN10M_20170122_132_084_L2\n",
      "CBERS_4_MUX_20170122_132_084_L4\n",
      "CBERS_4_PAN5M_20170122_132_084_L2\n",
      "CBERS_4_AWFI_20170119_133_087_L2\n",
      "CBERS_4_MUX_20170119_133_084_L2\n",
      "CBERS_4_AWFI_20170119_133_081_L4\n",
      "CBERS_4_AWFI_20170105_129_087_L4\n",
      "CBERS_4_AWFI_20170105_129_081_L4\n",
      "CBERS_4_AWFI_20170102_130_087_L4\n",
      "CBERS_4_AWFI_20161230_131_087_L4\n",
      "CBERS_4_AWFI_20161230_131_081_L4\n",
      "CBERS_4_AWFI_20161227_132_087_L4\n",
      "CBERS_4_MUX_20161227_132_085_L4\n",
      "CBERS_4_PAN10M_20161227_132_085_L2\n",
      "CBERS_4_PAN5M_20161227_132_085_L2\n",
      "CBERS_4_MUX_20161227_132_084_L4\n",
      "CBERS_4_PAN10M_20161227_132_084_L2\n",
      "CBERS_4_PAN5M_20161227_132_084_L2\n",
      "CBERS_4_AWFI_20161227_132_081_L4\n",
      "CBERS_4_AWFI_20161224_133_087_L2\n",
      "CBERS_4_PAN10M_20161224_133_084_L2\n",
      "CBERS_4_MUX_20161224_133_084_L2\n",
      "CBERS_4_PAN5M_20161224_133_084_L2\n",
      "CBERS_4_AWFI_20161224_133_081_L4\n",
      "CBERS_4_AWFI_20161213_128_087_L4\n",
      "CBERS_4_AWFI_20161210_129_087_L4\n",
      "CBERS_4_AWFI_20161210_129_081_L4\n",
      "CBERS_4_AWFI_20161201_132_087_L4\n",
      "CBERS_4_PAN5M_20161201_132_085_L2\n",
      "CBERS_4_PAN5M_20161201_132_084_L2\n",
      "CBERS_4_AWFI_20161201_132_081_L4\n",
      "CBERS_4_AWFI_20161128_133_087_L2\n",
      "CBERS_4_MUX_20161128_133_084_L2\n",
      "CBERS_4_AWFI_20161128_133_081_L4\n",
      "CBERS_4_AWFI_20161117_128_087_L4\n",
      "CBERS_4_AWFI_20161111_130_087_L4\n",
      "CBERS_4_AWFI_20161111_130_081_L4\n",
      "CBERS_4_AWFI_20161108_131_087_L4\n",
      "CBERS_4_AWFI_20161108_131_081_L4\n",
      "CBERS_4_PAN10M_20161105_132_085_L2\n",
      "CBERS_4_MUX_20161105_132_085_L2\n",
      "CBERS_4_PAN10M_20161105_132_084_L2\n",
      "CBERS_4_MUX_20161105_132_084_L2\n",
      "CBERS_4_AWFI_20161102_133_087_L2\n",
      "CBERS_4_MUX_20161102_133_084_L2\n",
      "CBERS_4_AWFI_20161102_133_081_L4\n"
     ]
    }
   ],
   "source": [
    "search = Search(bbox=bbox)\n",
    "print('%s items' % search.found())\n",
    "\n",
    "items = search.items()\n",
    "print('%s items' % len(items))\n",
    "print('%s collections' % len(items._collections))\n",
    "print(items._collections)\n",
    "\n",
    "for item in items:\n",
    "    print(item)"
   ]
  },
  {
   "cell_type": "code",
   "execution_count": 24,
   "metadata": {},
   "outputs": [
    {
     "name": "stdout",
     "output_type": "stream",
     "text": [
      "                              2016                              \n",
      "\n",
      "      October               November              December      \n",
      "Mo Tu We Th Fr Sa Su  Mo Tu We Th Fr Sa Su  Mo Tu We Th Fr Sa Su\n",
      "                1  2      1 \u001b[41m 2\u001b[0m  3  4 \u001b[41m 5\u001b[0m  6           \u001b[41m 1\u001b[0m  2  3  4  \n",
      " 3  4  5  6  7  8  9   7 \u001b[41m 8\u001b[0m  9 10 \u001b[41m11\u001b[0m 12 13   5  6  7  8  9 \u001b[41m10\u001b[0m 11  \n",
      "10 11 12 13 14 15 16  14 15 16 \u001b[41m17\u001b[0m 18 19 20  12 \u001b[41m13\u001b[0m 14 15 16 17 18  \n",
      "17 18 19 20 21 22 23  21 22 23 24 25 26 27  19 20 21 22 23 \u001b[41m24\u001b[0m 25  \n",
      "24 25 26 27 28 29 30  \u001b[41m28\u001b[0m 29 30              26 \u001b[41m27\u001b[0m 28 29 \u001b[41m30\u001b[0m 31     \n",
      "31                                                                \n",
      "\n",
      "                              2017                              \n",
      "\n",
      "      January               February               March        \n",
      "Mo Tu We Th Fr Sa Su  Mo Tu We Th Fr Sa Su  Mo Tu We Th Fr Sa Su\n",
      "                   1         1  2 \u001b[41m 3\u001b[0m  4  5        \u001b[41m 1\u001b[0m  2  3  4  5  \n",
      "\u001b[41m 2\u001b[0m  3  4 \u001b[41m 5\u001b[0m  6  7  8   6  7  8  9 10 11 12   6  7  8  9 10 11 \u001b[41m12\u001b[0m  \n",
      " 9 10 11 12 13 14 15  13 \u001b[41m14\u001b[0m 15 16 \u001b[41m17\u001b[0m 18 19  13 14 \u001b[41m15\u001b[0m 16 17 \u001b[41m18\u001b[0m 19  \n",
      "16 17 18 \u001b[41m19\u001b[0m 20 21 \u001b[41m22\u001b[0m  \u001b[41m20\u001b[0m 21 22 \u001b[41m23\u001b[0m 24 25 26  20 21 22 23 \u001b[41m24\u001b[0m 25 26  \n",
      "23 24 \u001b[41m25\u001b[0m 26 27 \u001b[41m28\u001b[0m 29  27 28                 27 28 29 30 31        \n",
      "30 \u001b[41m31\u001b[0m                                                             \n",
      "\n",
      "       April                  May                   June        \n",
      "Mo Tu We Th Fr Sa Su  Mo Tu We Th Fr Sa Su  Mo Tu We Th Fr Sa Su\n",
      "                1  2   1  2 \u001b[41m 3\u001b[0m  4  5 \u001b[41m 6\u001b[0m  7            1  2  3  4  \n",
      " 3  4  5  6  7  8  9   8 \u001b[41m 9\u001b[0m 10 11 \u001b[41m12\u001b[0m 13 14   5  6  7  8  9 10 11  \n",
      "\u001b[41m10\u001b[0m 11 12 \u001b[41m13\u001b[0m 14 15 \u001b[41m16\u001b[0m  15 16 17 \u001b[41m18\u001b[0m 19 20 21  12 13 14 15 16 17 18  \n",
      "17 18 \u001b[41m19\u001b[0m 20 21 \u001b[41m22\u001b[0m 23  22 23 24 25 26 27 28  19 20 21 22 23 24 25  \n",
      "24 25 26 27 28 29 30  29 30 31              26 27 28 29 30        \n",
      "\n",
      "        July                 August              September      \n",
      "Mo Tu We Th Fr Sa Su  Mo Tu We Th Fr Sa Su  Mo Tu We Th Fr Sa Su\n",
      "                1  2      1  2  3  4  5  6               1  2  3  \n",
      " 3  4  5  6  7  8  9   7  8  9 10 11 12 13   4  5  6  7  8  9 10  \n",
      "10 11 12 13 14 15 16  14 15 16 17 18 19 20  11 12 13 14 15 16 17  \n",
      "17 18 19 20 21 22 23  21 22 23 24 25 26 27  18 19 \u001b[41m20\u001b[0m 21 22 23 24  \n",
      "24 25 26 27 28 29 30  28 29 30 31           25 26 27 28 29 30     \n",
      "31                                                                \n",
      "\n",
      "      October               November              December      \n",
      "Mo Tu We Th Fr Sa Su  Mo Tu We Th Fr Sa Su  Mo Tu We Th Fr Sa Su\n",
      "                   1         1  2  3  4  5               1  2  3  \n",
      " 2  3  4  5  6  7  8   6  7  8  9 10 11 12   4  5  6  7  8  9 10  \n",
      " 9 10 11 12 13 14 15  13 14 15 16 17 18 19  11 12 13 14 15 16 17  \n",
      "16 17 18 19 20 21 22  20 21 22 23 24 25 26  18 19 20 21 22 23 24  \n",
      "23 24 25 26 27 28 29  27 28 29 30           25 26 27 28 29 30 31  \n",
      "30 31                                                             \n",
      "\n",
      "                              2018                              \n",
      "\n",
      "      January               February               March        \n",
      "Mo Tu We Th Fr Sa Su  Mo Tu We Th Fr Sa Su  Mo Tu We Th Fr Sa Su\n",
      " 1  2  3  4  5  6  7            1  2  3  4            1  2  3  4  \n",
      " 8  9 10 11 12 13 14   5  6  7  8  9 10 11   5  6  7  8  9 10 11  \n",
      "15 16 17 18 19 20 21  12 13 14 15 16 17 18  12 13 14 15 16 17 18  \n",
      "22 23 24 25 26 27 28  19 20 21 22 23 24 25  19 20 21 22 23 24 25  \n",
      "29 30 31              26 27 28              26 27 28 29 30 31     \n",
      "\n",
      "       April                  May                   June        \n",
      "Mo Tu We Th Fr Sa Su  Mo Tu We Th Fr Sa Su  Mo Tu We Th Fr Sa Su\n",
      "                   1      1  2  3  4  5  6               1  2  3  \n",
      " 2  3  4  5  6  7  8   7  8  9 10 11 12 13   4  5  6  7  8  9 10  \n",
      " 9 10 11 12 13 14 15  14 15 16 17 18 19 20  11 12 13 14 15 16 17  \n",
      "16 17 18 19 20 21 22  21 22 23 24 25 26 27  18 19 20 21 22 23 24  \n",
      "23 24 25 26 27 28 29  28 29 30 31           25 26 27 28 29 30     \n",
      "30                                                                \n",
      "\n",
      "        July                 August              September      \n",
      "Mo Tu We Th Fr Sa Su  Mo Tu We Th Fr Sa Su  Mo Tu We Th Fr Sa Su\n",
      "                   1         1  2  3  4  5                  1  2  \n",
      " 2  3  4  5  6  7  8   6  7  8  9 10 11 12   3  4  5  6  7  8  9  \n",
      " 9 10 11 12 13 14 15  13 14 15 16 17 18 19  10 11 12 13 14 15 16  \n",
      "16 17 18 19 20 21 22  20 21 22 23 24 25 26  17 18 19 20 21 22 23  \n",
      "23 24 25 26 27 28 29  27 28 29 30 31        24 25 26 27 28 29 30  \n",
      "30 31                                                             \n",
      "\n",
      "      October               November              December      \n",
      "Mo Tu We Th Fr Sa Su  Mo Tu We Th Fr Sa Su  Mo Tu We Th Fr Sa Su\n",
      " 1  2  3  4  5  6  7            1  2  3  4                  1  2  \n",
      " 8  9 10 11 12 13 14   5  6  7  8  9 10 11   3  4  5  6  7  8  9  \n",
      "15 16 17 18 19 20 21  12 13 14 15 16 17 18  10 11 12 13 14 15 16  \n",
      "22 23 24 25 26 27 28  19 20 21 22 23 24 25  17 18 19 20 21 22 23  \n",
      "29 30 31              26 27 28 29 30        24 25 26 27 28 29 30  \n",
      "\n",
      "                              2019                              \n",
      "\n",
      "      January               February               March        \n",
      "Mo Tu We Th Fr Sa Su  Mo Tu We Th Fr Sa Su  Mo Tu We Th Fr Sa Su\n",
      "    1  2  3  4  5  6               1  2  3               1  2  3  \n",
      " 7  8  9 10 11 12 13   4  5  6  7  8  9 10   4  5  6  7  8  9 10  \n",
      "14 15 16 17 18 19 20  11 12 13 14 15 16 17  11 12 13 14 15 16 17  \n",
      "21 22 23 24 25 26 27  18 19 20 21 22 23 24  18 19 20 21 22 23 24  \n",
      "28 29 30 31           25 26 27 28           25 26 27 28 29 30 31  \n",
      "\n",
      "       April                  May                   June        \n",
      "Mo Tu We Th Fr Sa Su  Mo Tu We Th Fr Sa Su  Mo Tu We Th Fr Sa Su\n",
      " 1  2  3  4  5  6  7         1  2 \u001b[41m 3\u001b[0m  4  5                  1 \u001b[41m 2\u001b[0m  \n",
      " 8 \u001b[41m 9\u001b[0m 10 11 12 \u001b[41m13\u001b[0m 14   6  7 \u001b[41m 8\u001b[0m  9 10 \u001b[41m11\u001b[0m 12   3  4  5  6 \u001b[41m 7\u001b[0m  8  9  \n",
      "15 16 17 \u001b[41m18\u001b[0m 19 20 21  \u001b[41m13\u001b[0m 14 15 16 17 \u001b[41m18\u001b[0m 19  10 11 \u001b[41m12\u001b[0m 13 14 15 16  \n",
      "22 \u001b[41m23\u001b[0m 24 \u001b[41m25\u001b[0m 26 27 \u001b[41m28\u001b[0m  20 21 22 \u001b[41m23\u001b[0m 24 25 26  \u001b[41m17\u001b[0m 18 19 20 21 \u001b[41m22\u001b[0m 23  \n",
      "29 30                 \u001b[41m27\u001b[0m \u001b[41m28\u001b[0m 29 30 31        24 25 26 \u001b[41m27\u001b[0m \u001b[41m28\u001b[0m 29 30  \n",
      "\n",
      "        July                 August              September      \n",
      "Mo Tu We Th Fr Sa Su  Mo Tu We Th Fr Sa Su  Mo Tu We Th Fr Sa Su\n",
      " 1 \u001b[41m 2\u001b[0m  3  4  5  6 \u001b[41m 7\u001b[0m           \u001b[41m 1\u001b[0m  2  3  4                     1  \n",
      " 8  9 10 11 \u001b[41m12\u001b[0m 13 \u001b[41m14\u001b[0m   5 \u001b[41m 6\u001b[0m  7  8  9 10 \u001b[41m11\u001b[0m   2  3  4 \u001b[41m 5\u001b[0m  6  7  8  \n",
      "15 16 \u001b[41m17\u001b[0m 18 19 20 21  12 13 14 \u001b[41m15\u001b[0m \u001b[41m16\u001b[0m 17 18   9 \u001b[41m10\u001b[0m 11 12 13 14 \u001b[41m15\u001b[0m  \n",
      "\u001b[41m22\u001b[0m 23 24 25 26 \u001b[41m27\u001b[0m 28  19 20 \u001b[41m21\u001b[0m 22 23 24 25  \u001b[41m16\u001b[0m 17 18 19 \u001b[41m20\u001b[0m 21 22  \n",
      "29 \u001b[41m30\u001b[0m 31              \u001b[41m26\u001b[0m 27 28 29 30 \u001b[41m31\u001b[0m     23 24 \u001b[41m25\u001b[0m 26 27 28 29  \n",
      "\n",
      "      October               November              December      \n",
      "Mo Tu We Th Fr Sa Su  Mo Tu We Th Fr Sa Su  Mo Tu We Th Fr Sa Su\n",
      "    1 \u001b[41m 2\u001b[0m  3  4 \u001b[41m 5\u001b[0m  6               1  2 \u001b[41m 3\u001b[0m                     1  \n",
      " 7  8  9 \u001b[41m10\u001b[0m 11 12 13  \u001b[41m 4\u001b[0m  5  6  7  8 \u001b[41m 9\u001b[0m 10   2  3 \u001b[41m 4\u001b[0m \u001b[41m 5\u001b[0m  6  7  8  \n",
      "14 \u001b[41m15\u001b[0m 16 17 \u001b[41m18\u001b[0m 19 \u001b[41m20\u001b[0m  11 12 13 \u001b[41m14\u001b[0m 15 16 17  \u001b[41m 9\u001b[0m 10 11 12 13 \u001b[41m14\u001b[0m 15  \n",
      "21 22 23 24 \u001b[41m25\u001b[0m 26 27  18 \u001b[41m19\u001b[0m 20 21 22 23 \u001b[41m24\u001b[0m  16 17 18 \u001b[41m19\u001b[0m 20 \u001b[41m21\u001b[0m 22  \n",
      "28 29 \u001b[41m30\u001b[0m 31           25 26 27 28 \u001b[41m29\u001b[0m 30     23 \u001b[41m24\u001b[0m 25 26 27 28 \u001b[41m29\u001b[0m  \n",
      "\n",
      "                              2020                              \n",
      "\n",
      "      January               February               March        \n",
      "Mo Tu We Th Fr Sa Su  Mo Tu We Th Fr Sa Su  Mo Tu We Th Fr Sa Su\n",
      "       1  2 \u001b[41m 3\u001b[0m  4  5                  1 \u001b[41m 2\u001b[0m                     1  \n",
      "\u001b[41m 6\u001b[0m  7 \u001b[41m 8\u001b[0m  9 10 11 12   3  4  5  6 \u001b[41m 7\u001b[0m  8  9   2 \u001b[41m 3\u001b[0m  4  5  6  7 \u001b[41m 8\u001b[0m  \n",
      "\u001b[41m13\u001b[0m 14 15 16 17 \u001b[41m18\u001b[0m 19  10 11 \u001b[41m12\u001b[0m 13 14 15 16   9 \u001b[41m10\u001b[0m 11 12 \u001b[41m13\u001b[0m 14 15  \n",
      "20 21 \u001b[41m22\u001b[0m \u001b[41m23\u001b[0m 24 25 26  \u001b[41m17\u001b[0m 18 19 20 21 \u001b[41m22\u001b[0m \u001b[41m23\u001b[0m  16 17 \u001b[41m18\u001b[0m 19 20 21 22  \n",
      "27 \u001b[41m28\u001b[0m 29 30 31        24 25 26 \u001b[41m27\u001b[0m 28 29     \u001b[41m23\u001b[0m 24 25 \u001b[41m26\u001b[0m 27 \u001b[41m28\u001b[0m 29  \n",
      "\n",
      "       April                  May                   June        \n",
      "Mo Tu We Th Fr Sa Su  Mo Tu We Th Fr Sa Su  Mo Tu We Th Fr Sa Su\n",
      "       1 \u001b[41m 2\u001b[0m  3  4  5               1 \u001b[41m 2\u001b[0m  3  \u001b[41m 1\u001b[0m  2  3  4  5 \u001b[41m 6\u001b[0m  7  \n",
      " 6 \u001b[41m 7\u001b[0m  8  9 10 \u001b[41m11\u001b[0m \u001b[41m12\u001b[0m   4  5  6 \u001b[41m 7\u001b[0m  8  9 10   8  9 10 \u001b[41m11\u001b[0m 12 13 \u001b[41m14\u001b[0m  \n",
      "13 14 15 16 \u001b[41m17\u001b[0m 18 19  11 \u001b[41m12\u001b[0m \u001b[41m13\u001b[0m 14 15 16 \u001b[41m17\u001b[0m  15 \u001b[41m16\u001b[0m 17 18 19 20 \u001b[41m21\u001b[0m  \n",
      "20 21 \u001b[41m22\u001b[0m 23 24 25 26  18 19 20 21 \u001b[41m22\u001b[0m 23 24  22 23 24 25 \u001b[41m26\u001b[0m 27 28  \n",
      "\u001b[41m27\u001b[0m 28 29 30           25 26 \u001b[41m27\u001b[0m 28 \u001b[41m29\u001b[0m 30 31  29 \u001b[41m30\u001b[0m                 \n",
      "\n",
      "        July                 August              September      \n",
      "Mo Tu We Th Fr Sa Su  Mo Tu We Th Fr Sa Su  Mo Tu We Th Fr Sa Su\n",
      "      \u001b[41m 1\u001b[0m  2  3  4  5                  1  2      1  2  3  4  5  6  \n",
      "\u001b[41m 6\u001b[0m  7  8  9 10 \u001b[41m11\u001b[0m 12   3  4 \u001b[41m 5\u001b[0m  6  7  8  9   7  8  9 10 11 12 13  \n",
      "13 14 15 \u001b[41m16\u001b[0m 17 18 19  10 11 12 13 14 15 16  14 15 16 17 18 19 20  \n",
      "20 \u001b[41m21\u001b[0m 22 23 24 25 \u001b[41m26\u001b[0m  17 18 19 20 21 22 23  21 22 23 24 25 26 27  \n",
      "27 28 29 30 \u001b[41m31\u001b[0m        24 25 26 27 28 29 30  28 29 30              \n",
      "\n",
      "\u001b[41mNone (1)\u001b[0m\n",
      "161 total dates\n"
     ]
    }
   ],
   "source": [
    "print(search.items().calendar())"
   ]
  },
  {
   "cell_type": "code",
   "execution_count": 60,
   "metadata": {},
   "outputs": [
    {
     "name": "stdout",
     "output_type": "stream",
     "text": [
      "cloud_cover search: 1657458 items\n"
     ]
    }
   ],
   "source": [
    "search = Search(query={'eo:cloud_cover': {'lt': 10}})\n",
    "print('cloud_cover search: %s items' % search.found())"
   ]
  },
  {
   "cell_type": "markdown",
   "metadata": {
    "heading_collapsed": true
   },
   "source": [
    "#### So what did we find? "
   ]
  },
  {
   "cell_type": "markdown",
   "metadata": {
    "hidden": true
   },
   "source": [
    "The object `search_result` is of type `satsearch.search.Search` and has a method `.items()`. Execute it to get the metadata to all scenes found during the search. \n",
    "\n",
    "__Tipp:__ When you are working with unfamiliar classes, use frequently use the `type()` and `dir()` functions to learn about how the class works and what it can do."
   ]
  },
  {
   "cell_type": "code",
   "execution_count": 25,
   "metadata": {
    "hidden": true
   },
   "outputs": [],
   "source": [
    "items = search_result.items()"
   ]
  },
  {
   "cell_type": "markdown",
   "metadata": {
    "hidden": true
   },
   "source": [
    "Explore the scenes object for a bit to find out which attributes and methods it contains. Place your curser next to the dot after the object name and press  `TAB` to get a list of available methods and attributes (see below). If you want to see the doc string of a method, place your cursor on the method name and press `SHIFT` + `TAB`. \n",
    "\n",
    "<img src=\"./img/search_methods.png\" width=\"300\">\n",
    "<img src=\"./img/docstring.png\" width=\"500\">\n",
    "\n",
    "\n"
   ]
  },
  {
   "cell_type": "code",
   "execution_count": 45,
   "metadata": {
    "hidden": true,
    "scrolled": true
   },
   "outputs": [
    {
     "name": "stdout",
     "output_type": "stream",
     "text": [
      "Items (16):\n",
      "date                      id                        \n",
      "2020-05-29                LC82050502020150          \n",
      "2020-05-13                LC82050502020134          \n",
      "2020-04-27                LC82050512020118          \n",
      "2020-04-27                LC82050502020118          \n",
      "2020-04-11                LC82050502020102          \n",
      "2020-03-26                LC82050512020086          \n",
      "2020-03-26                LC82050502020086          \n",
      "2020-03-10                LC82050502020070          \n",
      "2020-02-07                LC82050512020038          \n",
      "2020-02-07                LC82050502020038          \n",
      "2020-01-06                LC82050512020006          \n",
      "2020-01-06                LC82050502020006          \n",
      "2019-04-25                LC82050512019115          \n",
      "2019-04-25                LC82050502019115          \n",
      "2019-04-09                LC82050512019099          \n",
      "2019-04-09                LC82050502019099          \n",
      "\n"
     ]
    }
   ],
   "source": [
    "print(items.summary())"
   ]
  },
  {
   "cell_type": "markdown",
   "metadata": {
    "hidden": true
   },
   "source": [
    "__E:__ Answer the following questions using methods from the `scenes` object:\n",
    "* How many scenes were found?\n",
    "* On which dates were the scenes captured? (hint: \"print the calendar\")"
   ]
  },
  {
   "cell_type": "code",
   "execution_count": 21,
   "metadata": {
    "hidden": true
   },
   "outputs": [
    {
     "data": {
      "text/plain": [
       "[]"
      ]
     },
     "execution_count": 21,
     "metadata": {},
     "output_type": "execute_result"
    }
   ],
   "source": [
    "items.dates()"
   ]
  },
  {
   "cell_type": "code",
   "execution_count": 14,
   "metadata": {
    "hidden": true,
    "scrolled": true
   },
   "outputs": [
    {
     "name": "stdout",
     "output_type": "stream",
     "text": [
      "                              2019                              \n",
      "\n",
      "       April                  May                   June        \n",
      "Mo Tu We Th Fr Sa Su  Mo Tu We Th Fr Sa Su  Mo Tu We Th Fr Sa Su\n",
      " 1  2  3  4  5  6  7         1  2  3  4  5                  1  2  \n",
      " 8 \u001b[41m 9\u001b[0m 10 11 12 13 14   6  7  8  9 10 \u001b[41m11\u001b[0m 12   3  4  5  6  7  8  9  \n",
      "15 16 17 18 19 20 21  13 14 15 16 17 18 19  10 11 12 13 14 15 16  \n",
      "22 23 24 \u001b[41m25\u001b[0m 26 27 28  20 21 22 23 24 25 26  17 18 19 20 21 22 23  \n",
      "29 30                 \u001b[41m27\u001b[0m 28 29 30 31        24 25 26 27 28 29 30  \n",
      "\n",
      "        July                 August              September      \n",
      "Mo Tu We Th Fr Sa Su  Mo Tu We Th Fr Sa Su  Mo Tu We Th Fr Sa Su\n",
      " 1  2  3  4  5  6  7            1  2  3  4                     1  \n",
      " 8  9 10 11 12 13 14   5  6  7  8  9 10 11   2  3  4  5  6  7  8  \n",
      "15 16 17 18 19 20 21  12 13 14 15 16 17 18   9 10 11 12 13 14 15  \n",
      "22 23 24 25 26 27 28  19 20 21 22 23 24 25  16 17 18 19 20 21 22  \n",
      "29 \u001b[41m30\u001b[0m 31              26 27 28 29 30 31     23 24 25 26 27 28 29  \n",
      "\n",
      "      October               November              December      \n",
      "Mo Tu We Th Fr Sa Su  Mo Tu We Th Fr Sa Su  Mo Tu We Th Fr Sa Su\n",
      "    1 \u001b[41m 2\u001b[0m  3  4  5  6               1  2  3                     1  \n",
      " 7  8  9 10 11 12 13   4  5  6  7  8  9 10   2  3  4 \u001b[41m 5\u001b[0m  6  7  8  \n",
      "14 15 16 17 \u001b[41m18\u001b[0m 19 20  11 12 13 14 15 16 17   9 10 11 12 13 14 15  \n",
      "21 22 23 24 25 26 27  18 19 20 21 22 23 24  16 17 18 19 20 \u001b[41m21\u001b[0m 22  \n",
      "28 29 30 31           25 26 27 28 29 30     23 24 25 26 27 28 29  \n",
      "\n",
      "\u001b[41mNone (1)\u001b[0m\n",
      "9 total dates\n"
     ]
    }
   ],
   "source": [
    "print(items.calendar())"
   ]
  },
  {
   "cell_type": "code",
   "execution_count": 16,
   "metadata": {
    "hidden": true
   },
   "outputs": [
    {
     "name": "stdout",
     "output_type": "stream",
     "text": [
      "13 scenes were found.\n"
     ]
    }
   ],
   "source": [
    "n_items = len(items)# your code here\n",
    "print(\"{} scenes were found.\".format(n_items))"
   ]
  },
  {
   "cell_type": "markdown",
   "metadata": {
    "hidden": true
   },
   "source": [
    "Since is some kind of collection let's iterate over it to find out more details about the individual `scenes`."
   ]
  },
  {
   "cell_type": "code",
   "execution_count": 19,
   "metadata": {
    "hidden": true
   },
   "outputs": [
    {
     "data": {
      "text/plain": [
       "satstac.itemcollection.ItemCollection"
      ]
     },
     "execution_count": 19,
     "metadata": {},
     "output_type": "execute_result"
    }
   ],
   "source": [
    "type(items)"
   ]
  },
  {
   "cell_type": "code",
   "execution_count": 186,
   "metadata": {
    "hidden": true,
    "scrolled": true
   },
   "outputs": [
    {
     "name": "stdout",
     "output_type": "stream",
     "text": [
      "051\n",
      "050\n",
      "050\n",
      "050\n",
      "050\n",
      "051\n",
      "050\n",
      "051\n",
      "050\n",
      "051\n",
      "050\n",
      "051\n",
      "050\n"
     ]
    }
   ],
   "source": [
    "for item in items:\n",
    "    print(item.properties[\"eo:row\"])"
   ]
  },
  {
   "cell_type": "markdown",
   "metadata": {
    "hidden": true
   },
   "source": [
    "__E:__ Explore one of the items in more detail. \n",
    "\n",
    "* Using the `.properties` attribute, what is the cloud cover of the Landsat scene?\n",
    "* Using the `.properties` attribute, what is the coordinate reference system of the scene?\n",
    "* How many bands does the item (scene) have?\n",
    "* Which band numbers are the near-infrared (nir) and the short wave infrared band (swir22)?\n",
    "* Print the assets of the item. What does asset mean in this case? "
   ]
  },
  {
   "cell_type": "markdown",
   "metadata": {
    "hidden": true
   },
   "source": [
    "We will implement the whole processing chain using one of the scenes as an example. When the processing chain is up and running we will apply it to all Landsat scenes. "
   ]
  },
  {
   "cell_type": "code",
   "execution_count": 172,
   "metadata": {
    "hidden": true
   },
   "outputs": [],
   "source": [
    "test_item = items[0]"
   ]
  },
  {
   "cell_type": "markdown",
   "metadata": {
    "hidden": true
   },
   "source": [
    "`.properties` attribute shows the metadata of the scene."
   ]
  },
  {
   "cell_type": "code",
   "execution_count": 102,
   "metadata": {
    "hidden": true
   },
   "outputs": [
    {
     "data": {
      "text/plain": [
       "{'collection': 'landsat-8-l1',\n",
       " 'eo:gsd': 15,\n",
       " 'eo:platform': 'landsat-8',\n",
       " 'eo:instrument': 'OLI_TIRS',\n",
       " 'eo:off_nadir': 0,\n",
       " 'eo:bands': [{'name': 'B1',\n",
       "   'common_name': 'coastal',\n",
       "   'gsd': 30,\n",
       "   'center_wavelength': 0.44,\n",
       "   'full_width_half_max': 0.02},\n",
       "  {'name': 'B2',\n",
       "   'common_name': 'blue',\n",
       "   'gsd': 30,\n",
       "   'center_wavelength': 0.48,\n",
       "   'full_width_half_max': 0.06},\n",
       "  {'name': 'B3',\n",
       "   'common_name': 'green',\n",
       "   'gsd': 30,\n",
       "   'center_wavelength': 0.56,\n",
       "   'full_width_half_max': 0.06},\n",
       "  {'name': 'B4',\n",
       "   'common_name': 'red',\n",
       "   'gsd': 30,\n",
       "   'center_wavelength': 0.65,\n",
       "   'full_width_half_max': 0.04},\n",
       "  {'name': 'B5',\n",
       "   'common_name': 'nir',\n",
       "   'gsd': 30,\n",
       "   'center_wavelength': 0.86,\n",
       "   'full_width_half_max': 0.03},\n",
       "  {'name': 'B6',\n",
       "   'common_name': 'swir16',\n",
       "   'gsd': 30,\n",
       "   'center_wavelength': 1.6,\n",
       "   'full_width_half_max': 0.08},\n",
       "  {'name': 'B7',\n",
       "   'common_name': 'swir22',\n",
       "   'gsd': 30,\n",
       "   'center_wavelength': 2.2,\n",
       "   'full_width_half_max': 0.2},\n",
       "  {'name': 'B8',\n",
       "   'common_name': 'pan',\n",
       "   'gsd': 15,\n",
       "   'center_wavelength': 0.59,\n",
       "   'full_width_half_max': 0.18},\n",
       "  {'name': 'B9',\n",
       "   'common_name': 'cirrus',\n",
       "   'gsd': 30,\n",
       "   'center_wavelength': 1.37,\n",
       "   'full_width_half_max': 0.02},\n",
       "  {'name': 'B10',\n",
       "   'common_name': 'lwir11',\n",
       "   'gsd': 100,\n",
       "   'center_wavelength': 10.9,\n",
       "   'full_width_half_max': 0.8},\n",
       "  {'name': 'B11',\n",
       "   'common_name': 'lwir12',\n",
       "   'gsd': 100,\n",
       "   'center_wavelength': 12,\n",
       "   'full_width_half_max': 1}],\n",
       " 'datetime': '2019-12-21T11:28:08.472733+00:00',\n",
       " 'eo:sun_azimuth': 146.64009615,\n",
       " 'eo:sun_elevation': 46.43282219,\n",
       " 'eo:cloud_cover': 6,\n",
       " 'eo:row': '051',\n",
       " 'eo:column': '205',\n",
       " 'landsat:product_id': 'LC08_L1TP_205051_20191221_20191222_01_RT',\n",
       " 'landsat:scene_id': 'LC82050512019355LGN00',\n",
       " 'landsat:processing_level': 'L1TP',\n",
       " 'landsat:tier': 'RT',\n",
       " 'landsat:revision': '00',\n",
       " 'eo:epsg': 32628}"
      ]
     },
     "execution_count": 102,
     "metadata": {},
     "output_type": "execute_result"
    }
   ],
   "source": [
    "item1.properties"
   ]
  },
  {
   "cell_type": "markdown",
   "metadata": {
    "hidden": true
   },
   "source": [
    "Using `.assets` you can explore the availabel bands of the scene"
   ]
  },
  {
   "cell_type": "code",
   "execution_count": 534,
   "metadata": {
    "hidden": true
   },
   "outputs": [],
   "source": [
    "#item1.assets"
   ]
  },
  {
   "cell_type": "markdown",
   "metadata": {
    "heading_collapsed": true
   },
   "source": [
    "## 2. Downloading the satellite data"
   ]
  },
  {
   "cell_type": "markdown",
   "metadata": {
    "hidden": true
   },
   "source": [
    "First, let's create a folder to store the data. "
   ]
  },
  {
   "cell_type": "code",
   "execution_count": null,
   "metadata": {
    "hidden": true
   },
   "outputs": [],
   "source": []
  },
  {
   "cell_type": "code",
   "execution_count": 24,
   "metadata": {
    "hidden": true
   },
   "outputs": [],
   "source": [
    "scene_dir = \"./scenes\""
   ]
  },
  {
   "cell_type": "markdown",
   "metadata": {
    "hidden": true
   },
   "source": [
    "The `os` package can help us with interactiong wiht the file system. For example, it can check whether the folder exisits. If not it will create it. "
   ]
  },
  {
   "cell_type": "code",
   "execution_count": 25,
   "metadata": {
    "hidden": true
   },
   "outputs": [],
   "source": [
    "import os"
   ]
  },
  {
   "cell_type": "code",
   "execution_count": 26,
   "metadata": {
    "hidden": true
   },
   "outputs": [],
   "source": [
    "if not os.path.exists(scene_dir):\n",
    "    os.mkdir(scene_dir)"
   ]
  },
  {
   "cell_type": "markdown",
   "metadata": {
    "hidden": true
   },
   "source": [
    "### Option 1: Download using sat-search"
   ]
  },
  {
   "cell_type": "markdown",
   "metadata": {
    "hidden": true
   },
   "source": [
    "Using sat-search you can download the data. For example, let's download all metadata files. The os package can take care of the correct file path."
   ]
  },
  {
   "cell_type": "code",
   "execution_count": 125,
   "metadata": {
    "hidden": true
   },
   "outputs": [],
   "source": [
    "filenames = items.download('MTL', path=os.path.join(scene_dir, \"${date}\"))"
   ]
  },
  {
   "cell_type": "markdown",
   "metadata": {
    "hidden": true
   },
   "source": [
    "Your `scene_dir` should contain several folders for each Landsat scene containing the MTL file. "
   ]
  },
  {
   "cell_type": "markdown",
   "metadata": {
    "hidden": true
   },
   "source": [
    "__E:__ Download the band \"B1\" of the first item."
   ]
  },
  {
   "cell_type": "code",
   "execution_count": 130,
   "metadata": {
    "hidden": true
   },
   "outputs": [
    {
     "data": {
      "text/plain": [
       "'./scenes/2019-12-21/LC82050512019355_B1.TIF'"
      ]
     },
     "execution_count": 130,
     "metadata": {},
     "output_type": "execute_result"
    }
   ],
   "source": [
    "item1.download(\"B1\", path=os.path.join(scene_dir, \"${date}\"))"
   ]
  },
  {
   "cell_type": "markdown",
   "metadata": {
    "hidden": true
   },
   "source": [
    "### Option 2: Download using rasterio"
   ]
  },
  {
   "cell_type": "markdown",
   "metadata": {
    "hidden": true
   },
   "source": [
    "In the last notebook we learned that rasterio can download images as well. The advantage using rasterio is that we can even specify which spatial extent of the image we want to download using a `window`. This can be very useful when you want to test your method in a small test region with many images, so you don't have to download all the data."
   ]
  },
  {
   "cell_type": "markdown",
   "metadata": {
    "hidden": true
   },
   "source": [
    "#### 1. Image URL\n",
    "Each spectral band has a unique URL through which we can download it. This information is stored in the `item.assets`. Since these are stored as a dictionary, so we can access this information using the right keys."
   ]
  },
  {
   "cell_type": "code",
   "execution_count": 27,
   "metadata": {
    "hidden": true
   },
   "outputs": [
    {
     "data": {
      "text/plain": [
       "'https://landsat-pds.s3.amazonaws.com/c1/L8/205/050/LC08_L1TP_205050_20190409_20190422_01_T1/LC08_L1TP_205050_20190409_20190422_01_T1_B3.TIF'"
      ]
     },
     "execution_count": 27,
     "metadata": {},
     "output_type": "execute_result"
    }
   ],
   "source": [
    "band5_url = item.assets[\"B3\"][\"href\"]\n",
    "band5_url"
   ]
  },
  {
   "cell_type": "markdown",
   "metadata": {
    "code_folding": [],
    "hidden": true
   },
   "source": [
    "#### 2. Convert bounding box in image coordinates"
   ]
  },
  {
   "cell_type": "markdown",
   "metadata": {
    "hidden": true
   },
   "source": [
    "in the last notebook you've learned that the window has to be defined using image coordinates. However, our bounding box is in geogrpahic coordisntes. When we continue using rasterio we will probably need to do this kind of conversion regularly. So it would be worth writing a function for it. :) "
   ]
  },
  {
   "cell_type": "markdown",
   "metadata": {
    "hidden": true
   },
   "source": [
    "__E:__ Write a function which takes a bounding box with geographic coordinates as a list (same as `bbox`) and the path to the image which we would like to read. The function should return a list containing the the upper left image coordinates and the number of rows and columns. \n",
    "\n",
    "__hint:__ The bounding box is given in geographic coordinates. The Landsat scene has a UTM projection. And the window needs image coordinates. So you need to go from geographic coordinates to UTM to image coordinates. `pyproj.transform` can convert point coordinates from one crs to another. In order to convert from crs to image use the functions from the last notebook. \n"
   ]
  },
  {
   "cell_type": "code",
   "execution_count": 28,
   "metadata": {
    "hidden": true
   },
   "outputs": [],
   "source": [
    "def geogr_2_image(affine,x, y):\n",
    "    return ~affine * (x, y)"
   ]
  },
  {
   "cell_type": "code",
   "execution_count": 29,
   "metadata": {
    "hidden": true
   },
   "outputs": [],
   "source": [
    "def image_2_geogr(affine,x, y):\n",
    "    return affine * (x, y)"
   ]
  },
  {
   "cell_type": "code",
   "execution_count": 30,
   "metadata": {
    "hidden": true
   },
   "outputs": [],
   "source": [
    "import math"
   ]
  },
  {
   "cell_type": "code",
   "execution_count": 86,
   "metadata": {
    "code_folding": [
     0
    ],
    "hidden": true
   },
   "outputs": [],
   "source": [
    "def get_window_for_scene(band, bbox):\n",
    "    \n",
    "    with rio.open(band) as src:\n",
    "        affine = src.transform\n",
    "        crs = src.crs\n",
    "        \n",
    "    ul_x, ul_y = pyproj.transform(pyproj.Proj(init='epsg:4326'), pyproj.Proj(init=str(crs)), bbox[0], bbox[3])\n",
    "    lr_x, lr_y = pyproj.transform(pyproj.Proj(init='epsg:4326'), pyproj.Proj(init=str(crs)), bbox[2], bbox[1])\n",
    "    \n",
    "    ul_row, ul_col = geogr_2_image(affine, ul_x, ul_y)\n",
    "    lr_row, lr_col = geogr_2_image(affine, lr_x, lr_y)\n",
    "    \n",
    "    ul_row = math.floor(ul_row)\n",
    "    ul_col = math.floor(ul_col)\n",
    "    lr_row = math.floor(lr_row)\n",
    "    lr_col = math.floor(lr_col)\n",
    "    rows = math.floor(lr_row - ul_row)\n",
    "    cols = math.floor(lr_col - ul_col)\n",
    "    \n",
    "    return rio.windows.Window(ul_row, ul_col, rows, cols)"
   ]
  },
  {
   "cell_type": "markdown",
   "metadata": {
    "hidden": true
   },
   "source": [
    "#### Download the data using rasterio"
   ]
  },
  {
   "cell_type": "code",
   "execution_count": 103,
   "metadata": {
    "hidden": true
   },
   "outputs": [],
   "source": [
    "with rio.open(band5_url) as src:\n",
    "    band = src.read(1, window=win)\n",
    "    profile = src.profile"
   ]
  },
  {
   "cell_type": "code",
   "execution_count": 105,
   "metadata": {
    "hidden": true
   },
   "outputs": [
    {
     "data": {
      "text/plain": [
       "{'collection': 'landsat-8-l1',\n",
       " 'eo:gsd': 15,\n",
       " 'eo:platform': 'landsat-8',\n",
       " 'eo:instrument': 'OLI_TIRS',\n",
       " 'eo:off_nadir': 0,\n",
       " 'eo:bands': [{'name': 'B1',\n",
       "   'common_name': 'coastal',\n",
       "   'gsd': 30,\n",
       "   'center_wavelength': 0.44,\n",
       "   'full_width_half_max': 0.02},\n",
       "  {'name': 'B2',\n",
       "   'common_name': 'blue',\n",
       "   'gsd': 30,\n",
       "   'center_wavelength': 0.48,\n",
       "   'full_width_half_max': 0.06},\n",
       "  {'name': 'B3',\n",
       "   'common_name': 'green',\n",
       "   'gsd': 30,\n",
       "   'center_wavelength': 0.56,\n",
       "   'full_width_half_max': 0.06},\n",
       "  {'name': 'B4',\n",
       "   'common_name': 'red',\n",
       "   'gsd': 30,\n",
       "   'center_wavelength': 0.65,\n",
       "   'full_width_half_max': 0.04},\n",
       "  {'name': 'B5',\n",
       "   'common_name': 'nir',\n",
       "   'gsd': 30,\n",
       "   'center_wavelength': 0.86,\n",
       "   'full_width_half_max': 0.03},\n",
       "  {'name': 'B6',\n",
       "   'common_name': 'swir16',\n",
       "   'gsd': 30,\n",
       "   'center_wavelength': 1.6,\n",
       "   'full_width_half_max': 0.08},\n",
       "  {'name': 'B7',\n",
       "   'common_name': 'swir22',\n",
       "   'gsd': 30,\n",
       "   'center_wavelength': 2.2,\n",
       "   'full_width_half_max': 0.2},\n",
       "  {'name': 'B8',\n",
       "   'common_name': 'pan',\n",
       "   'gsd': 15,\n",
       "   'center_wavelength': 0.59,\n",
       "   'full_width_half_max': 0.18},\n",
       "  {'name': 'B9',\n",
       "   'common_name': 'cirrus',\n",
       "   'gsd': 30,\n",
       "   'center_wavelength': 1.37,\n",
       "   'full_width_half_max': 0.02},\n",
       "  {'name': 'B10',\n",
       "   'common_name': 'lwir11',\n",
       "   'gsd': 100,\n",
       "   'center_wavelength': 10.9,\n",
       "   'full_width_half_max': 0.8},\n",
       "  {'name': 'B11',\n",
       "   'common_name': 'lwir12',\n",
       "   'gsd': 100,\n",
       "   'center_wavelength': 12,\n",
       "   'full_width_half_max': 1}],\n",
       " 'datetime': '2019-04-09T11:26:58.188362+00:00',\n",
       " 'eo:sun_azimuth': 102.77872139,\n",
       " 'eo:sun_elevation': 64.21727393,\n",
       " 'eo:cloud_cover': 0,\n",
       " 'eo:row': '050',\n",
       " 'eo:column': '205',\n",
       " 'landsat:product_id': 'LC08_L1TP_205050_20190409_20190422_01_T1',\n",
       " 'landsat:scene_id': 'LC82050502019099LGN00',\n",
       " 'landsat:processing_level': 'L1TP',\n",
       " 'landsat:tier': 'T1',\n",
       " 'landsat:revision': '00',\n",
       " 'eo:epsg': 32628}"
      ]
     },
     "execution_count": 105,
     "metadata": {},
     "output_type": "execute_result"
    }
   ],
   "source": [
    "item.properties"
   ]
  },
  {
   "cell_type": "code",
   "execution_count": 104,
   "metadata": {
    "hidden": true,
    "scrolled": true
   },
   "outputs": [
    {
     "data": {
      "text/plain": [
       "<matplotlib.image.AxesImage at 0x7ff944214860>"
      ]
     },
     "execution_count": 104,
     "metadata": {},
     "output_type": "execute_result"
    },
    {
     "data": {
      "image/png": "[encoded data removed]",
      "text/plain": [
       "<Figure size 432x288 with 1 Axes>"
      ]
     },
     "metadata": {
      "needs_background": "light"
     },
     "output_type": "display_data"
    }
   ],
   "source": [
    "plt.imshow(band)"
   ]
  },
  {
   "cell_type": "markdown",
   "metadata": {
    "hidden": true
   },
   "source": [
    "#### Save image to file"
   ]
  },
  {
   "cell_type": "code",
   "execution_count": 97,
   "metadata": {
    "hidden": true
   },
   "outputs": [],
   "source": [
    "outfile = os.path.join(scene_dir, str(item.date), os.path.basename(band5_url))\n",
    "with rio.open(outfile, \"w\", **profile) as dst:\n",
    "    dst.write(band, 1)"
   ]
  },
  {
   "cell_type": "markdown",
   "metadata": {
    "hidden": true
   },
   "source": [
    "#### 4. Download the green and swir2 band for each scene and save them in the `scene_dir`."
   ]
  },
  {
   "cell_type": "code",
   "execution_count": 101,
   "metadata": {
    "hidden": true
   },
   "outputs": [],
   "source": [
    "for item in items:\n",
    "    \n",
    "    print(item)\n",
    "    band3_url = item.assets[\"B3\"][\"href\"]\n",
    "    band7_url = item.assets[\"B7\"][\"href\"]\n",
    "\n",
    "    win = get_window_for_scene(band3_url, bbox)\n",
    "    \n",
    "    # band 5 \n",
    "    with rio.open(band3_url) as src:\n",
    "        band5 = src.read(1, window=win)\n",
    "        profile = src.profile\n",
    "        \n",
    "    outfile = os.path.join(scene_dir, str(item.date), os.path.basename(band3_url))\n",
    "    with rio.open(outfile, \"w\", **profile) as dst:\n",
    "        dst.write(band, 1)\n",
    "        \n",
    "    # band 7 \n",
    "    with rio.open(band7_url) as src:\n",
    "        band7 = src.read(1, window=win)\n",
    "        profile = src.profile\n",
    "        \n",
    "    outfile = os.path.join(scene_dir, str(item.date), os.path.basename(band7_url))\n",
    "    with rio.open(outfile, \"w\", **profile) as dst:\n",
    "        dst.write(band, 1)"
   ]
  },
  {
   "cell_type": "markdown",
   "metadata": {
    "heading_collapsed": true
   },
   "source": [
    "## 3. Conversion of raw image to reflectance"
   ]
  },
  {
   "cell_type": "markdown",
   "metadata": {
    "hidden": true
   },
   "source": [
    "\n",
    "The spectral bands are still in raw format. Their unit is DN (digital number). But what we need to calculate the NDWI is reflectence values, i.e.  the amount of radiation which has been reflected by the surface at the wavelength of the repective band. Therefore, we need to perform the conversion from DN to reflectance. \n",
    "\n",
    "The conversion is performed using a linear function: (see [USGS Documentation](https://www.usgs.gov/land-resources/nli/landsat/using-usgs-landsat-level-1-data-product)\n",
    ")\n",
    "\n",
    "$L_{\\lambda} = M_L Q_{cal} + A_L$\n",
    "\n",
    "$L_\\lambda$ = TOA spectral radiance (Watts/( m2 * srad * μm))\n",
    "\n",
    "$M_L$ = Band-specific multiplicative rescaling factor from the metadata (RADIANCE_MULT_BAND_x, where x is the band number)\n",
    "\n",
    "$A_L$ = Band-specific additive rescaling factor from the metadata (RADIANCE_ADD_BAND_x, where x is the band number)\n",
    "\n",
    "$Q_{cal}$ =  Quantized and calibrated standard product pixel values (DN)     \n",
    "\n",
    "\n",
    "\n"
   ]
  },
  {
   "cell_type": "markdown",
   "metadata": {
    "hidden": true
   },
   "source": [
    "To perform this conversion we need to: \n",
    "1. Download the metadata files\n",
    "2. Parse the metadata files in Python and extract the reuqired parameters.\n",
    "3. Perform the conversion of the spectral bands. "
   ]
  },
  {
   "cell_type": "markdown",
   "metadata": {
    "hidden": true
   },
   "source": [
    "### 1. Downloading the metadata files"
   ]
  },
  {
   "cell_type": "markdown",
   "metadata": {
    "hidden": true
   },
   "source": [
    "We've actually already done this above using"
   ]
  },
  {
   "cell_type": "code",
   "execution_count": 110,
   "metadata": {
    "hidden": true
   },
   "outputs": [],
   "source": [
    "meta_files = items.download('MTL', path=os.path.join(scene_dir, \"${date}\"))"
   ]
  },
  {
   "cell_type": "markdown",
   "metadata": {
    "hidden": true
   },
   "source": [
    "### 2. Reading the metadata files in Python\n",
    "Let's try reading one of the metadata files using the standard `readlines()` method."
   ]
  },
  {
   "cell_type": "code",
   "execution_count": 146,
   "metadata": {
    "hidden": true
   },
   "outputs": [],
   "source": [
    "with open(meta_files[0]) as src:\n",
    "    metadata = src.readlines()"
   ]
  },
  {
   "cell_type": "code",
   "execution_count": 147,
   "metadata": {
    "hidden": true
   },
   "outputs": [
    {
     "data": {
      "text/plain": [
       "['GROUP = L1_METADATA_FILE\\n',\n",
       " '  GROUP = METADATA_FILE_INFO\\n',\n",
       " '    ORIGIN = \"Image courtesy of the U.S. Geological Survey\"\\n',\n",
       " '    REQUEST_ID = \"0501912211717_00004\"\\n',\n",
       " '    LANDSAT_SCENE_ID = \"LC82050512019355LGN00\"\\n',\n",
       " '    LANDSAT_PRODUCT_ID = \"LC08_L1TP_205051_20191221_20191222_01_RT\"\\n',\n",
       " '    COLLECTION_NUMBER = 01\\n',\n",
       " '    FILE_DATE = 2019-12-22T04:55:32Z\\n',\n",
       " '    STATION_ID = \"LGN\"\\n',\n",
       " '    PROCESSING_SOFTWARE_VERSION = \"LPGS_13.1.0\"\\n',\n",
       " '  END_GROUP = METADATA_FILE_INFO\\n',\n",
       " '  GROUP = PRODUCT_METADATA\\n',\n",
       " '    DATA_TYPE = \"L1TP\"\\n',\n",
       " '    COLLECTION_CATEGORY = \"RT\"\\n',\n",
       " '    ELEVATION_SOURCE = \"GLS2000\"\\n',\n",
       " '    OUTPUT_FORMAT = \"GEOTIFF\"\\n',\n",
       " '    SPACECRAFT_ID = \"LANDSAT_8\"\\n',\n",
       " '    SENSOR_ID = \"OLI_TIRS\"\\n',\n",
       " '    WRS_PATH = 205\\n',\n",
       " '    WRS_ROW = 51\\n',\n",
       " '    NADIR_OFFNADIR = \"NADIR\"\\n',\n",
       " '    TARGET_WRS_PATH = 205\\n',\n",
       " '    TARGET_WRS_ROW = 51\\n',\n",
       " '    DATE_ACQUIRED = 2019-12-21\\n',\n",
       " '    SCENE_CENTER_TIME = \"11:28:08.4727330Z\"\\n',\n",
       " '    CORNER_UL_LAT_PRODUCT = 14.05403\\n',\n",
       " '    CORNER_UL_LON_PRODUCT = -18.02657\\n',\n",
       " '    CORNER_UR_LAT_PRODUCT = 14.07130\\n',\n",
       " '    CORNER_UR_LON_PRODUCT = -15.90773\\n',\n",
       " '    CORNER_LL_LAT_PRODUCT = 11.94369\\n',\n",
       " '    CORNER_LL_LON_PRODUCT = -18.00108\\n',\n",
       " '    CORNER_LR_LAT_PRODUCT = 11.95828\\n',\n",
       " '    CORNER_LR_LON_PRODUCT = -15.90007\\n',\n",
       " '    CORNER_UL_PROJECTION_X_PRODUCT = 173100.000\\n',\n",
       " '    CORNER_UL_PROJECTION_Y_PRODUCT = 1555800.000\\n',\n",
       " '    CORNER_UR_PROJECTION_X_PRODUCT = 402000.000\\n',\n",
       " '    CORNER_UR_PROJECTION_Y_PRODUCT = 1555800.000\\n',\n",
       " '    CORNER_LL_PROJECTION_X_PRODUCT = 173100.000\\n',\n",
       " '    CORNER_LL_PROJECTION_Y_PRODUCT = 1322100.000\\n',\n",
       " '    CORNER_LR_PROJECTION_X_PRODUCT = 402000.000\\n',\n",
       " '    CORNER_LR_PROJECTION_Y_PRODUCT = 1322100.000\\n',\n",
       " '    PANCHROMATIC_LINES = 15581\\n',\n",
       " '    PANCHROMATIC_SAMPLES = 15261\\n',\n",
       " '    REFLECTIVE_LINES = 7791\\n',\n",
       " '    REFLECTIVE_SAMPLES = 7631\\n',\n",
       " '    THERMAL_LINES = 7791\\n',\n",
       " '    THERMAL_SAMPLES = 7631\\n',\n",
       " '    FILE_NAME_BAND_1 = \"LC08_L1TP_205051_20191221_20191222_01_RT_B1.TIF\"\\n',\n",
       " '    FILE_NAME_BAND_2 = \"LC08_L1TP_205051_20191221_20191222_01_RT_B2.TIF\"\\n',\n",
       " '    FILE_NAME_BAND_3 = \"LC08_L1TP_205051_20191221_20191222_01_RT_B3.TIF\"\\n',\n",
       " '    FILE_NAME_BAND_4 = \"LC08_L1TP_205051_20191221_20191222_01_RT_B4.TIF\"\\n',\n",
       " '    FILE_NAME_BAND_5 = \"LC08_L1TP_205051_20191221_20191222_01_RT_B5.TIF\"\\n',\n",
       " '    FILE_NAME_BAND_6 = \"LC08_L1TP_205051_20191221_20191222_01_RT_B6.TIF\"\\n',\n",
       " '    FILE_NAME_BAND_7 = \"LC08_L1TP_205051_20191221_20191222_01_RT_B7.TIF\"\\n',\n",
       " '    FILE_NAME_BAND_8 = \"LC08_L1TP_205051_20191221_20191222_01_RT_B8.TIF\"\\n',\n",
       " '    FILE_NAME_BAND_9 = \"LC08_L1TP_205051_20191221_20191222_01_RT_B9.TIF\"\\n',\n",
       " '    FILE_NAME_BAND_10 = \"LC08_L1TP_205051_20191221_20191222_01_RT_B10.TIF\"\\n',\n",
       " '    FILE_NAME_BAND_11 = \"LC08_L1TP_205051_20191221_20191222_01_RT_B11.TIF\"\\n',\n",
       " '    FILE_NAME_BAND_QUALITY = \"LC08_L1TP_205051_20191221_20191222_01_RT_BQA.TIF\"\\n',\n",
       " '    ANGLE_COEFFICIENT_FILE_NAME = \"LC08_L1TP_205051_20191221_20191222_01_RT_ANG.txt\"\\n',\n",
       " '    METADATA_FILE_NAME = \"LC08_L1TP_205051_20191221_20191222_01_RT_MTL.txt\"\\n',\n",
       " '    CPF_NAME = \"LC08CPF_20191001_20191231_01.02\"\\n',\n",
       " '    BPF_NAME_OLI = \"LO8BPF20191221111357_20191221115725.01\"\\n',\n",
       " '    BPF_NAME_TIRS = \"LT8BPF20191221034439_20191221041639.01\"\\n',\n",
       " '    RLUT_FILE_NAME = \"LC08RLUT_20150303_20431231_01_12.h5\"\\n',\n",
       " '  END_GROUP = PRODUCT_METADATA\\n',\n",
       " '  GROUP = IMAGE_ATTRIBUTES\\n',\n",
       " '    CLOUD_COVER = 6.56\\n',\n",
       " '    CLOUD_COVER_LAND = 7.26\\n',\n",
       " '    IMAGE_QUALITY_OLI = 9\\n',\n",
       " '    IMAGE_QUALITY_TIRS = 5\\n',\n",
       " '    TIRS_SSM_MODEL = \"PRELIMINARY\"\\n',\n",
       " '    TIRS_SSM_POSITION_STATUS = \"ESTIMATED\"\\n',\n",
       " '    TIRS_STRAY_LIGHT_CORRECTION_SOURCE = \"TIRS\"\\n',\n",
       " '    ROLL_ANGLE = -0.001\\n',\n",
       " '    SUN_AZIMUTH = 146.64009615\\n',\n",
       " '    SUN_ELEVATION = 46.43282219\\n',\n",
       " '    EARTH_SUN_DISTANCE = 0.9837502\\n',\n",
       " '    SATURATION_BAND_1 = \"N\"\\n',\n",
       " '    SATURATION_BAND_2 = \"N\"\\n',\n",
       " '    SATURATION_BAND_3 = \"N\"\\n',\n",
       " '    SATURATION_BAND_4 = \"N\"\\n',\n",
       " '    SATURATION_BAND_5 = \"N\"\\n',\n",
       " '    SATURATION_BAND_6 = \"Y\"\\n',\n",
       " '    SATURATION_BAND_7 = \"Y\"\\n',\n",
       " '    SATURATION_BAND_8 = \"N\"\\n',\n",
       " '    SATURATION_BAND_9 = \"N\"\\n',\n",
       " '    GROUND_CONTROL_POINTS_VERSION = 4\\n',\n",
       " '    GROUND_CONTROL_POINTS_MODEL = 255\\n',\n",
       " '    GEOMETRIC_RMSE_MODEL = 7.232\\n',\n",
       " '    GEOMETRIC_RMSE_MODEL_Y = 4.547\\n',\n",
       " '    GEOMETRIC_RMSE_MODEL_X = 5.624\\n',\n",
       " '    GROUND_CONTROL_POINTS_VERIFY = 96\\n',\n",
       " '    GEOMETRIC_RMSE_VERIFY = 3.524\\n',\n",
       " '    TRUNCATION_OLI = \"UPPER\"\\n',\n",
       " '  END_GROUP = IMAGE_ATTRIBUTES\\n',\n",
       " '  GROUP = MIN_MAX_RADIANCE\\n',\n",
       " '    RADIANCE_MAXIMUM_BAND_1 = 785.37970\\n',\n",
       " '    RADIANCE_MINIMUM_BAND_1 = -64.85691\\n',\n",
       " '    RADIANCE_MAXIMUM_BAND_2 = 804.23840\\n',\n",
       " '    RADIANCE_MINIMUM_BAND_2 = -66.41427\\n',\n",
       " '    RADIANCE_MAXIMUM_BAND_3 = 741.09882\\n',\n",
       " '    RADIANCE_MINIMUM_BAND_3 = -61.20018\\n',\n",
       " '    RADIANCE_MAXIMUM_BAND_4 = 624.93628\\n',\n",
       " '    RADIANCE_MINIMUM_BAND_4 = -51.60744\\n',\n",
       " '    RADIANCE_MAXIMUM_BAND_5 = 382.42984\\n',\n",
       " '    RADIANCE_MINIMUM_BAND_5 = -31.58118\\n',\n",
       " '    RADIANCE_MAXIMUM_BAND_6 = 95.10682\\n',\n",
       " '    RADIANCE_MINIMUM_BAND_6 = -7.85395\\n',\n",
       " '    RADIANCE_MAXIMUM_BAND_7 = 32.05609\\n',\n",
       " '    RADIANCE_MINIMUM_BAND_7 = -2.64720\\n',\n",
       " '    RADIANCE_MAXIMUM_BAND_8 = 707.25586\\n',\n",
       " '    RADIANCE_MINIMUM_BAND_8 = -58.40542\\n',\n",
       " '    RADIANCE_MAXIMUM_BAND_9 = 149.46225\\n',\n",
       " '    RADIANCE_MINIMUM_BAND_9 = -12.34264\\n',\n",
       " '    RADIANCE_MAXIMUM_BAND_10 = 22.00180\\n',\n",
       " '    RADIANCE_MINIMUM_BAND_10 = 0.10033\\n',\n",
       " '    RADIANCE_MAXIMUM_BAND_11 = 22.00180\\n',\n",
       " '    RADIANCE_MINIMUM_BAND_11 = 0.10033\\n',\n",
       " '  END_GROUP = MIN_MAX_RADIANCE\\n',\n",
       " '  GROUP = MIN_MAX_REFLECTANCE\\n',\n",
       " '    REFLECTANCE_MAXIMUM_BAND_1 = 1.210700\\n',\n",
       " '    REFLECTANCE_MINIMUM_BAND_1 = -0.099980\\n',\n",
       " '    REFLECTANCE_MAXIMUM_BAND_2 = 1.210700\\n',\n",
       " '    REFLECTANCE_MINIMUM_BAND_2 = -0.099980\\n',\n",
       " '    REFLECTANCE_MAXIMUM_BAND_3 = 1.210700\\n',\n",
       " '    REFLECTANCE_MINIMUM_BAND_3 = -0.099980\\n',\n",
       " '    REFLECTANCE_MAXIMUM_BAND_4 = 1.210700\\n',\n",
       " '    REFLECTANCE_MINIMUM_BAND_4 = -0.099980\\n',\n",
       " '    REFLECTANCE_MAXIMUM_BAND_5 = 1.210700\\n',\n",
       " '    REFLECTANCE_MINIMUM_BAND_5 = -0.099980\\n',\n",
       " '    REFLECTANCE_MAXIMUM_BAND_6 = 1.210700\\n',\n",
       " '    REFLECTANCE_MINIMUM_BAND_6 = -0.099980\\n',\n",
       " '    REFLECTANCE_MAXIMUM_BAND_7 = 1.210700\\n',\n",
       " '    REFLECTANCE_MINIMUM_BAND_7 = -0.099980\\n',\n",
       " '    REFLECTANCE_MAXIMUM_BAND_8 = 1.210700\\n',\n",
       " '    REFLECTANCE_MINIMUM_BAND_8 = -0.099980\\n',\n",
       " '    REFLECTANCE_MAXIMUM_BAND_9 = 1.210700\\n',\n",
       " '    REFLECTANCE_MINIMUM_BAND_9 = -0.099980\\n',\n",
       " '  END_GROUP = MIN_MAX_REFLECTANCE\\n',\n",
       " '  GROUP = MIN_MAX_PIXEL_VALUE\\n',\n",
       " '    QUANTIZE_CAL_MAX_BAND_1 = 65535\\n',\n",
       " '    QUANTIZE_CAL_MIN_BAND_1 = 1\\n',\n",
       " '    QUANTIZE_CAL_MAX_BAND_2 = 65535\\n',\n",
       " '    QUANTIZE_CAL_MIN_BAND_2 = 1\\n',\n",
       " '    QUANTIZE_CAL_MAX_BAND_3 = 65535\\n',\n",
       " '    QUANTIZE_CAL_MIN_BAND_3 = 1\\n',\n",
       " '    QUANTIZE_CAL_MAX_BAND_4 = 65535\\n',\n",
       " '    QUANTIZE_CAL_MIN_BAND_4 = 1\\n',\n",
       " '    QUANTIZE_CAL_MAX_BAND_5 = 65535\\n',\n",
       " '    QUANTIZE_CAL_MIN_BAND_5 = 1\\n',\n",
       " '    QUANTIZE_CAL_MAX_BAND_6 = 65535\\n',\n",
       " '    QUANTIZE_CAL_MIN_BAND_6 = 1\\n',\n",
       " '    QUANTIZE_CAL_MAX_BAND_7 = 65535\\n',\n",
       " '    QUANTIZE_CAL_MIN_BAND_7 = 1\\n',\n",
       " '    QUANTIZE_CAL_MAX_BAND_8 = 65535\\n',\n",
       " '    QUANTIZE_CAL_MIN_BAND_8 = 1\\n',\n",
       " '    QUANTIZE_CAL_MAX_BAND_9 = 65535\\n',\n",
       " '    QUANTIZE_CAL_MIN_BAND_9 = 1\\n',\n",
       " '    QUANTIZE_CAL_MAX_BAND_10 = 65535\\n',\n",
       " '    QUANTIZE_CAL_MIN_BAND_10 = 1\\n',\n",
       " '    QUANTIZE_CAL_MAX_BAND_11 = 65535\\n',\n",
       " '    QUANTIZE_CAL_MIN_BAND_11 = 1\\n',\n",
       " '  END_GROUP = MIN_MAX_PIXEL_VALUE\\n',\n",
       " '  GROUP = RADIOMETRIC_RESCALING\\n',\n",
       " '    RADIANCE_MULT_BAND_1 = 1.2974E-02\\n',\n",
       " '    RADIANCE_MULT_BAND_2 = 1.3286E-02\\n',\n",
       " '    RADIANCE_MULT_BAND_3 = 1.2242E-02\\n',\n",
       " '    RADIANCE_MULT_BAND_4 = 1.0324E-02\\n',\n",
       " '    RADIANCE_MULT_BAND_5 = 6.3175E-03\\n',\n",
       " '    RADIANCE_MULT_BAND_6 = 1.5711E-03\\n',\n",
       " '    RADIANCE_MULT_BAND_7 = 5.2955E-04\\n',\n",
       " '    RADIANCE_MULT_BAND_8 = 1.1683E-02\\n',\n",
       " '    RADIANCE_MULT_BAND_9 = 2.4690E-03\\n',\n",
       " '    RADIANCE_MULT_BAND_10 = 3.3420E-04\\n',\n",
       " '    RADIANCE_MULT_BAND_11 = 3.3420E-04\\n',\n",
       " '    RADIANCE_ADD_BAND_1 = -64.86989\\n',\n",
       " '    RADIANCE_ADD_BAND_2 = -66.42756\\n',\n",
       " '    RADIANCE_ADD_BAND_3 = -61.21242\\n',\n",
       " '    RADIANCE_ADD_BAND_4 = -51.61776\\n',\n",
       " '    RADIANCE_ADD_BAND_5 = -31.58750\\n',\n",
       " '    RADIANCE_ADD_BAND_6 = -7.85552\\n',\n",
       " '    RADIANCE_ADD_BAND_7 = -2.64773\\n',\n",
       " '    RADIANCE_ADD_BAND_8 = -58.41710\\n',\n",
       " '    RADIANCE_ADD_BAND_9 = -12.34511\\n',\n",
       " '    RADIANCE_ADD_BAND_10 = 0.10000\\n',\n",
       " '    RADIANCE_ADD_BAND_11 = 0.10000\\n',\n",
       " '    REFLECTANCE_MULT_BAND_1 = 2.0000E-05\\n',\n",
       " '    REFLECTANCE_MULT_BAND_2 = 2.0000E-05\\n',\n",
       " '    REFLECTANCE_MULT_BAND_3 = 2.0000E-05\\n',\n",
       " '    REFLECTANCE_MULT_BAND_4 = 2.0000E-05\\n',\n",
       " '    REFLECTANCE_MULT_BAND_5 = 2.0000E-05\\n',\n",
       " '    REFLECTANCE_MULT_BAND_6 = 2.0000E-05\\n',\n",
       " '    REFLECTANCE_MULT_BAND_7 = 2.0000E-05\\n',\n",
       " '    REFLECTANCE_MULT_BAND_8 = 2.0000E-05\\n',\n",
       " '    REFLECTANCE_MULT_BAND_9 = 2.0000E-05\\n',\n",
       " '    REFLECTANCE_ADD_BAND_1 = -0.100000\\n',\n",
       " '    REFLECTANCE_ADD_BAND_2 = -0.100000\\n',\n",
       " '    REFLECTANCE_ADD_BAND_3 = -0.100000\\n',\n",
       " '    REFLECTANCE_ADD_BAND_4 = -0.100000\\n',\n",
       " '    REFLECTANCE_ADD_BAND_5 = -0.100000\\n',\n",
       " '    REFLECTANCE_ADD_BAND_6 = -0.100000\\n',\n",
       " '    REFLECTANCE_ADD_BAND_7 = -0.100000\\n',\n",
       " '    REFLECTANCE_ADD_BAND_8 = -0.100000\\n',\n",
       " '    REFLECTANCE_ADD_BAND_9 = -0.100000\\n',\n",
       " '  END_GROUP = RADIOMETRIC_RESCALING\\n',\n",
       " '  GROUP = TIRS_THERMAL_CONSTANTS\\n',\n",
       " '    K1_CONSTANT_BAND_10 = 774.8853\\n',\n",
       " '    K2_CONSTANT_BAND_10 = 1321.0789\\n',\n",
       " '    K1_CONSTANT_BAND_11 = 480.8883\\n',\n",
       " '    K2_CONSTANT_BAND_11 = 1201.1442\\n',\n",
       " '  END_GROUP = TIRS_THERMAL_CONSTANTS\\n',\n",
       " '  GROUP = PROJECTION_PARAMETERS\\n',\n",
       " '    MAP_PROJECTION = \"UTM\"\\n',\n",
       " '    DATUM = \"WGS84\"\\n',\n",
       " '    ELLIPSOID = \"WGS84\"\\n',\n",
       " '    UTM_ZONE = 28\\n',\n",
       " '    GRID_CELL_SIZE_PANCHROMATIC = 15.00\\n',\n",
       " '    GRID_CELL_SIZE_REFLECTIVE = 30.00\\n',\n",
       " '    GRID_CELL_SIZE_THERMAL = 30.00\\n',\n",
       " '    ORIENTATION = \"NORTH_UP\"\\n',\n",
       " '    RESAMPLING_OPTION = \"CUBIC_CONVOLUTION\"\\n',\n",
       " '  END_GROUP = PROJECTION_PARAMETERS\\n',\n",
       " 'END_GROUP = L1_METADATA_FILE\\n',\n",
       " 'END\\n']"
      ]
     },
     "execution_count": 147,
     "metadata": {},
     "output_type": "execute_result"
    }
   ],
   "source": [
    "metadata"
   ]
  },
  {
   "cell_type": "markdown",
   "metadata": {
    "hidden": true
   },
   "source": [
    "### 3. Parsing the metadata files"
   ]
  },
  {
   "cell_type": "markdown",
   "metadata": {
    "hidden": true
   },
   "source": [
    "uh, this looks really messy. Let's try to parse the data so that it fits nicely into a `pandas.DataFrame`."
   ]
  },
  {
   "cell_type": "code",
   "execution_count": 114,
   "metadata": {
    "hidden": true
   },
   "outputs": [],
   "source": [
    "radiance_mult = \"REFLECTANCE_MULT_BAND_\"\n",
    "radiance_add = \"REFLECTANCE_ADD_BAND_\""
   ]
  },
  {
   "cell_type": "markdown",
   "metadata": {
    "hidden": true
   },
   "source": [
    "__E:__ Write a function which takes the metadata (a list of tuples) and returns them as a dictionary where the keys are the parameter names and the values are the parameters values. Try to convert the values to float. If that is not possible, catch the exception with a `try: catch:` clause."
   ]
  },
  {
   "cell_type": "code",
   "execution_count": 154,
   "metadata": {
    "hidden": true
   },
   "outputs": [],
   "source": [
    "def parse_mtl(metadata):\n",
    "    params = {}\n",
    "    for x in metadata:\n",
    "        entry = x.strip().split(\"=\")\n",
    "        if len(entry) == 2:\n",
    "            key = entry[0].strip()\n",
    "            value = entry[1].strip()\n",
    "            try: \n",
    "                value = float(value)\n",
    "            except:\n",
    "                pass\n",
    "            params[key] = value\n",
    "    return params"
   ]
  },
  {
   "cell_type": "markdown",
   "metadata": {
    "hidden": true
   },
   "source": [
    "The more complicated pandas version"
   ]
  },
  {
   "cell_type": "code",
   "execution_count": 150,
   "metadata": {
    "hidden": true
   },
   "outputs": [],
   "source": [
    "def parse_mtl(match, mtl):\n",
    "    add_params = list(filter(lambda x: match in x, mtl))\n",
    "    add_params2 = [x.strip().split(\"=\") for x in add_params]\n",
    "    params_df = pd.DataFrame().from_records(add_params2)\n",
    "    params_df.columns = [match, \"value\"]\n",
    "    params_df[\"value\"] = params_df[\"value\"].map(lambda x: float(x.strip())).astype(\"float\")\n",
    "    params_df[\"band\"] = params_df.apply(lambda x: x[match][x[match].find(\"BAND_\") + 5:], axis=1).astype(\"int\")\n",
    "    return params_df.set_index(\"band\")"
   ]
  },
  {
   "cell_type": "markdown",
   "metadata": {
    "hidden": true
   },
   "source": [
    "Check whether your function is working correctly by executing the following code:"
   ]
  },
  {
   "cell_type": "code",
   "execution_count": 159,
   "metadata": {
    "hidden": true
   },
   "outputs": [
    {
     "data": {
      "text/plain": [
       "2e-05"
      ]
     },
     "execution_count": 159,
     "metadata": {},
     "output_type": "execute_result"
    }
   ],
   "source": [
    "parameters = parse_mtl(metadata)\n",
    "parameters[radiance_mult + str(3)] "
   ]
  },
  {
   "cell_type": "markdown",
   "metadata": {
    "hidden": true
   },
   "source": [
    "### 4. Conversion to reflectance\n",
    "Now we that we have the parameters, we can write a function which will perform the conversion. "
   ]
  },
  {
   "cell_type": "code",
   "execution_count": 163,
   "metadata": {
    "hidden": true
   },
   "outputs": [],
   "source": [
    "def to_toa(val, add, mult):\n",
    "    return val * mult + add"
   ]
  },
  {
   "cell_type": "markdown",
   "metadata": {},
   "source": [
    "## 4. Calculate water index"
   ]
  },
  {
   "cell_type": "markdown",
   "metadata": {},
   "source": [
    "We will use the Normalized Difference Water Index (NDWI) defined by McFeeters as an indicator for the presence of surface water.\n",
    "\n",
    "$NDWI = \\frac{L_{NIR} - L_{SWIR}}{L_{NIR} + L_{SWIR}}$\n",
    "\n",
    "__E:__ Write a function which calculate the NDWI based on the nir and swir bands. \n"
   ]
  },
  {
   "cell_type": "code",
   "execution_count": 169,
   "metadata": {},
   "outputs": [],
   "source": [
    "def calc_ndwi(nir, swir):\n",
    "    return (nir - swir) / (nir + swir)"
   ]
  },
  {
   "cell_type": "markdown",
   "metadata": {
    "heading_collapsed": true
   },
   "source": [
    "## 5. Multi-temporal Analysis"
   ]
  },
  {
   "cell_type": "markdown",
   "metadata": {
    "hidden": true
   },
   "source": [
    "Great! Almost there! Now let's put everything together in a for loop which iterates through all the Landsat scenes. We don't need the nir and swir bands for the further analysis, so we can just delete them and only store the numpy array containing the NDWI."
   ]
  },
  {
   "cell_type": "code",
   "execution_count": 201,
   "metadata": {
    "hidden": true
   },
   "outputs": [],
   "source": [
    "sub_scenes = []\n",
    "for item in items:\n",
    "    if item.properties[\"eo:row\"] == \"050\":\n",
    "        sub_scenes.append(item)"
   ]
  },
  {
   "cell_type": "code",
   "execution_count": 202,
   "metadata": {
    "hidden": true
   },
   "outputs": [
    {
     "name": "stdout",
     "output_type": "stream",
     "text": [
      "LC82050502019291\n",
      "LC82050502019211\n",
      "LC82050502019115\n",
      "LC82050502019099\n"
     ]
    }
   ],
   "source": [
    "bands = []\n",
    "for item in sub_scenes:\n",
    "    print(item)\n",
    "    band3_url = item.assets[\"B3\"][\"href\"]\n",
    "    band7_url = item.assets[\"B7\"][\"href\"]\n",
    "\n",
    "    window = get_window_for_scene(band3_url, bbox)\n",
    "\n",
    "    # Read metadata for toa conversion\n",
    "    mtl_file = item.download(\"MTL\", path=scene_dir)\n",
    "    with open(mtl_file) as src:\n",
    "        mtl = src.readlines()\n",
    "    \n",
    "    # Extract required parameters\n",
    "    parameters = parse_mtl(mtl)\n",
    "    band3_mult = parameters[radiance_mult + \"3\"]\n",
    "    band3_add = parameters[radiance_add + \"3\"]\n",
    "    band7_mult = parameters[radiance_mult + \"7\"]\n",
    "    band7_add = parameters[radiance_add + \"7\"]\n",
    "    \n",
    "    # Read green spectral band (band 3)\n",
    "    with rio.open(band3_url) as src:\n",
    "        #affine = src.transform\n",
    "        nir = src.read(1, window=window)\n",
    "        nir = to_toa(nir, band3_add, band3_mult)\n",
    "        \n",
    "    # Read sort-wave infrared spectral band (band 7)\n",
    "    with rio.open(band7_url) as src:\n",
    "        #affine = src.transform\n",
    "        swir = src.read(1, window=window)\n",
    "        swir = to_toa(swir, band7_add, band7_mult)\n",
    "\n",
    "    ndwi = calc_ndwi(nir, swir)\n",
    "    bands.append(ndwi)"
   ]
  },
  {
   "cell_type": "markdown",
   "metadata": {
    "hidden": true
   },
   "source": [
    "__E:__ Stack the NDWI images in a 3-dimensional array. Axis 0 should indicate the time axis."
   ]
  },
  {
   "cell_type": "code",
   "execution_count": 204,
   "metadata": {
    "hidden": true
   },
   "outputs": [],
   "source": [
    "bands_arr = np.array(bands)"
   ]
  },
  {
   "cell_type": "code",
   "execution_count": 205,
   "metadata": {
    "hidden": true
   },
   "outputs": [
    {
     "data": {
      "text/plain": [
       "[(1903, 1626), (1903, 1626), (1903, 1626), (1903, 1626)]"
      ]
     },
     "execution_count": 205,
     "metadata": {},
     "output_type": "execute_result"
    }
   ],
   "source": [
    "[b.shape for b in bands_arr]"
   ]
  },
  {
   "cell_type": "markdown",
   "metadata": {
    "hidden": true
   },
   "source": [
    "Finally, let's look at the data."
   ]
  },
  {
   "cell_type": "markdown",
   "metadata": {
    "hidden": true
   },
   "source": [
    "### Calculate the water frequency\n",
    "The NDWI is an indicator for the presence of water. NDWI values above 0 indicate water, below 0 land. \n",
    "\n",
    "__E:__ Convert the NDWI array to an array holding binary water masks using the `np.where()` method. 1 should indicate water, 0 no water."
   ]
  },
  {
   "cell_type": "code",
   "execution_count": 206,
   "metadata": {
    "hidden": true
   },
   "outputs": [],
   "source": [
    "water_masks = np.where(bands_arr > 0.3, 1, 0)"
   ]
  },
  {
   "cell_type": "markdown",
   "metadata": {
    "hidden": true
   },
   "source": [
    "__E:__ Calculate the number of water pixels along the time axis (axis=0). "
   ]
  },
  {
   "cell_type": "code",
   "execution_count": 207,
   "metadata": {
    "hidden": true
   },
   "outputs": [],
   "source": [
    "water_frequency = water_masks.sum(axis=0) / water_masks.shape[0]"
   ]
  },
  {
   "cell_type": "markdown",
   "metadata": {
    "hidden": true
   },
   "source": [
    "__E:__ Plot the water frequency using `plt.imshow()`."
   ]
  },
  {
   "cell_type": "code",
   "execution_count": 208,
   "metadata": {
    "hidden": true
   },
   "outputs": [
    {
     "data": {
      "text/plain": [
       "<matplotlib.colorbar.Colorbar at 0x7ff8fa0de940>"
      ]
     },
     "execution_count": 208,
     "metadata": {},
     "output_type": "execute_result"
    },
    {
     "data": {
      "image/png": "[encoded data removed]",
      "text/plain": [
       "<Figure size 720x720 with 2 Axes>"
      ]
     },
     "metadata": {
      "needs_background": "light"
     },
     "output_type": "display_data"
    }
   ],
   "source": [
    "import matplotlib.pyplot as plt\n",
    "%matplotlib inline\n",
    "fig, axes = plt.subplots(1,1,figsize=(10,10))\n",
    "ploot = axes.imshow(water_frequency, cmap=\"Blues\")\n",
    "plt.colorbar(mappable=ploot)"
   ]
  },
  {
   "cell_type": "markdown",
   "metadata": {
    "hidden": true
   },
   "source": [
    "We can still see some cloud artifacts over the ocean in the right lower corner. Lower the eo:cloudcov parameter to exclude clouded scenes. "
   ]
  },
  {
   "cell_type": "markdown",
   "metadata": {
    "hidden": true
   },
   "source": [
    "Check out the full tutorial on the [sat-search github repo](https://github.com/sat-utils/sat-search) to learn about the full functionalities."
   ]
  },
  {
   "cell_type": "code",
   "execution_count": null,
   "metadata": {
    "hidden": true
   },
   "outputs": [],
   "source": []
  },
  {
   "cell_type": "markdown",
   "metadata": {},
   "source": [
    "## Congratulations! You've performed your (first) multi-temporal satellite image analysis!"
   ]
  },
  {
   "cell_type": "markdown",
   "metadata": {},
   "source": [
    "## Exercise: Perform your own searches. \n",
    "Checkout the documentation of sat-search to get to know the query parameters. They have a good [jupyter notebook](https://github.com/sat-utils/sat-search/blob/master/tutorial-1.ipynb) to get started."
   ]
  },
  {
   "cell_type": "markdown",
   "metadata": {},
   "source": [
    "### Some Inspiration:\n",
    "* extract the time series of one pixel and plot it as a pandas series.\n",
    "* you could also do the imagery processing using googple earthin engine python bindings. \n",
    "* you could analyse the distribution of images.\n",
    "* Use the tile splitter to do the processing in tiles\n",
    "* save the images to file\n",
    "* optimize your script to use efficient data types\n",
    "* do the analyses for different seasons"
   ]
  },
  {
   "cell_type": "markdown",
   "metadata": {},
   "source": [
    "## translate it to pyhton files"
   ]
  },
  {
   "cell_type": "code",
   "execution_count": null,
   "metadata": {},
   "outputs": [],
   "source": []
  }
 ],
 "metadata": {
  "kernelspec": {
   "display_name": "Python (cs4geos)",
   "language": "python",
   "name": "cs4geos"
  },
  "language_info": {
   "codemirror_mode": {
    "name": "ipython",
    "version": 3
   },
   "file_extension": ".py",
   "mimetype": "text/x-python",
   "name": "python",
   "nbconvert_exporter": "python",
   "pygments_lexer": "ipython3",
   "version": "3.7.3"
  }
 },
 "nbformat": 4,
 "nbformat_minor": 4
}
