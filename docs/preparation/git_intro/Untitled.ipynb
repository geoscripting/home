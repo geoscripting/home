{
 "cells": [
  {
   "cell_type": "code",
   "execution_count": 1,
   "metadata": {},
   "outputs": [],
   "source": [
    "import os \n",
    "import pandas as pd"
   ]
  },
  {
   "cell_type": "code",
   "execution_count": 7,
   "metadata": {},
   "outputs": [],
   "source": [
    "f = \"/Users/chludwig/Documents/UniHD/teaching/cs4geos/ss2020/geoscripting.github.io/source/general/schedule.csv\"\n",
    "f_out = \"/Users/chludwig/Documents/UniHD/teaching/cs4geos/ss2020/geoscripting.github.io/source/general/schedule_2.csv\""
   ]
  },
  {
   "cell_type": "code",
   "execution_count": 5,
   "metadata": {},
   "outputs": [],
   "source": [
    "data = pd.read_csv(f, delimiter=\";\")"
   ]
  },
  {
   "cell_type": "code",
   "execution_count": 6,
   "metadata": {},
   "outputs": [
    {
     "data": {
      "text/html": [
       "<div>\n",
       "<style scoped>\n",
       "    .dataframe tbody tr th:only-of-type {\n",
       "        vertical-align: middle;\n",
       "    }\n",
       "\n",
       "    .dataframe tbody tr th {\n",
       "        vertical-align: top;\n",
       "    }\n",
       "\n",
       "    .dataframe thead th {\n",
       "        text-align: right;\n",
       "    }\n",
       "</style>\n",
       "<table border=\"1\" class=\"dataframe\">\n",
       "  <thead>\n",
       "    <tr style=\"text-align: right;\">\n",
       "      <th></th>\n",
       "      <th>TIME</th>\n",
       "      <th>DAY 1</th>\n",
       "      <th>DAY 2</th>\n",
       "      <th>DAY 3</th>\n",
       "      <th>DAY 4</th>\n",
       "      <th>DAY 5</th>\n",
       "    </tr>\n",
       "  </thead>\n",
       "  <tbody>\n",
       "    <tr>\n",
       "      <th>0</th>\n",
       "      <td>9:00 - 9:30</td>\n",
       "      <td>Introduction</td>\n",
       "      <td>Questions</td>\n",
       "      <td>Questions</td>\n",
       "      <td>Questions</td>\n",
       "      <td>Questions</td>\n",
       "    </tr>\n",
       "    <tr>\n",
       "      <th>1</th>\n",
       "      <td>9:30 - 10:30</td>\n",
       "      <td>Advanced Vector Processing</td>\n",
       "      <td>Advanced Raster Processing</td>\n",
       "      <td>Best practice Scientific Programming</td>\n",
       "      <td>Geodata Visualization</td>\n",
       "      <td>Code Review</td>\n",
       "    </tr>\n",
       "    <tr>\n",
       "      <th>2</th>\n",
       "      <td>NaN</td>\n",
       "      <td>NaN</td>\n",
       "      <td>NaN</td>\n",
       "      <td>NaN</td>\n",
       "      <td>NaN</td>\n",
       "      <td>NaN</td>\n",
       "    </tr>\n",
       "    <tr>\n",
       "      <th>3</th>\n",
       "      <td>12:00 - 13:00</td>\n",
       "      <td>LUNCH</td>\n",
       "      <td>LUNCH</td>\n",
       "      <td>LUNCH</td>\n",
       "      <td>LUNCH</td>\n",
       "      <td>LUNCH</td>\n",
       "    </tr>\n",
       "    <tr>\n",
       "      <th>4</th>\n",
       "      <td>13:00 - 14:00</td>\n",
       "      <td>Advanced Vector Processing</td>\n",
       "      <td>Advanced Raster Processing</td>\n",
       "      <td>Group Project</td>\n",
       "      <td>Group Project</td>\n",
       "      <td>NaN</td>\n",
       "    </tr>\n",
       "    <tr>\n",
       "      <th>5</th>\n",
       "      <td>14:00 - 15:00</td>\n",
       "      <td>Questions &amp; Summary</td>\n",
       "      <td>Questions &amp; Summary</td>\n",
       "      <td>Questions &amp; Summary</td>\n",
       "      <td>Questions &amp; Summary</td>\n",
       "      <td>NaN</td>\n",
       "    </tr>\n",
       "  </tbody>\n",
       "</table>\n",
       "</div>"
      ],
      "text/plain": [
       "            TIME                       DAY 1                       DAY 2  \\\n",
       "0   9:00 - 9:30                 Introduction                 Questions     \n",
       "1   9:30 - 10:30  Advanced Vector Processing  Advanced Raster Processing   \n",
       "2            NaN                         NaN                         NaN   \n",
       "3  12:00 - 13:00                       LUNCH                       LUNCH   \n",
       "4  13:00 - 14:00  Advanced Vector Processing  Advanced Raster Processing   \n",
       "5  14:00 - 15:00         Questions & Summary         Questions & Summary   \n",
       "\n",
       "                                   DAY 3                  DAY 4        DAY 5  \n",
       "0                            Questions              Questions    Questions    \n",
       "1  Best practice Scientific Programming   Geodata Visualization  Code Review  \n",
       "2                                    NaN                    NaN          NaN  \n",
       "3                                  LUNCH                  LUNCH        LUNCH  \n",
       "4                          Group Project          Group Project          NaN  \n",
       "5                    Questions & Summary    Questions & Summary          NaN  "
      ]
     },
     "execution_count": 6,
     "metadata": {},
     "output_type": "execute_result"
    }
   ],
   "source": [
    "data"
   ]
  },
  {
   "cell_type": "code",
   "execution_count": 8,
   "metadata": {},
   "outputs": [],
   "source": [
    "data.to_csv(f_out, sep=\",\")"
   ]
  },
  {
   "cell_type": "code",
   "execution_count": null,
   "metadata": {},
   "outputs": [],
   "source": []
  }
 ],
 "metadata": {
  "kernelspec": {
   "display_name": "Python 3",
   "language": "python",
   "name": "python3"
  },
  "language_info": {
   "codemirror_mode": {
    "name": "ipython",
    "version": 3
   },
   "file_extension": ".py",
   "mimetype": "text/x-python",
   "name": "python",
   "nbconvert_exporter": "python",
   "pygments_lexer": "ipython3",
   "version": "3.7.3"
  }
 },
 "nbformat": 4,
 "nbformat_minor": 2
}
