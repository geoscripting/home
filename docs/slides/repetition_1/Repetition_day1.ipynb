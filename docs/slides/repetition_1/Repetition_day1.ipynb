{
 "cells": [
  {
   "cell_type": "markdown",
   "metadata": {
    "slideshow": {
     "slide_type": "slide"
    }
   },
   "source": [
    "# Introduction to Computer Science for Geographers\n",
    "\n",
    "## What we've done on day 1"
   ]
  },
  {
   "cell_type": "markdown",
   "metadata": {
    "slideshow": {
     "slide_type": "slide"
    }
   },
   "source": [
    "## How this course works"
   ]
  },
  {
   "cell_type": "markdown",
   "metadata": {
    "slideshow": {
     "slide_type": "fragment"
    }
   },
   "source": [
    "### Ask questions"
   ]
  },
  {
   "cell_type": "markdown",
   "metadata": {
    "slideshow": {
     "slide_type": "fragment"
    }
   },
   "source": [
    "### Work together &rarr; Pair programming\n",
    "<img src=\"img/pairprogramming.png\" alt=\"Drawing\" style=\"width: 70%\"/>\n"
   ]
  },
  {
   "cell_type": "markdown",
   "metadata": {
    "slideshow": {
     "slide_type": "subslide"
    }
   },
   "source": [
    "### Good learning environment\n",
    "![learning_environment](img/group_rules.png)"
   ]
  },
  {
   "cell_type": "markdown",
   "metadata": {
    "slideshow": {
     "slide_type": "subslide"
    }
   },
   "source": [
    "### Time table\n",
    "![](img/timetable.png)"
   ]
  },
  {
   "cell_type": "markdown",
   "metadata": {
    "slideshow": {
     "slide_type": "subslide"
    }
   },
   "source": [
    "### All course material is on\n",
    "\n",
    "## [https://github.com/redfrexx/cs4geos19](https://github.com/redfrexx/cs4geos19)"
   ]
  },
  {
   "cell_type": "markdown",
   "metadata": {
    "slideshow": {
     "slide_type": "fragment"
    }
   },
   "source": [
    "#### Why is git useful for you? "
   ]
  },
  {
   "cell_type": "markdown",
   "metadata": {
    "slideshow": {
     "slide_type": "fragment"
    }
   },
   "source": [
    "We will learn how to use __git__ to track our work progress."
   ]
  },
  {
   "cell_type": "markdown",
   "metadata": {
    "slideshow": {
     "slide_type": "fragment"
    }
   },
   "source": [
    "### We will use Anaconda to manage Python environments"
   ]
  },
  {
   "cell_type": "markdown",
   "metadata": {
    "slideshow": {
     "slide_type": "fragment"
    }
   },
   "source": [
    "#### Why would we need several Python environments and why do you we need help with managing them? "
   ]
  },
  {
   "cell_type": "markdown",
   "metadata": {
    "slideshow": {
     "slide_type": "slide"
    }
   },
   "source": [
    "## What we've done on day 1"
   ]
  },
  {
   "cell_type": "markdown",
   "metadata": {
    "slideshow": {
     "slide_type": "subslide"
    }
   },
   "source": [
    "## Computer Science and Geography \n",
    "![cs_geo](img/cs_geo.png)"
   ]
  },
  {
   "cell_type": "markdown",
   "metadata": {
    "slideshow": {
     "slide_type": "subslide"
    }
   },
   "source": [
    "## Programming Languages\n",
    "![](img/programming_languages.png)"
   ]
  },
  {
   "cell_type": "markdown",
   "metadata": {
    "slideshow": {
     "slide_type": "subslide"
    }
   },
   "source": [
    "## What ist the difference between comilers and interpreters? "
   ]
  },
  {
   "cell_type": "markdown",
   "metadata": {
    "slideshow": {
     "slide_type": "fragment"
    }
   },
   "source": [
    "![](img/compiler_interpreter.png)\n"
   ]
  },
  {
   "cell_type": "markdown",
   "metadata": {
    "slideshow": {
     "slide_type": "subslide"
    }
   },
   "source": [
    "## What are examples for compiled and interpreted languages? "
   ]
  },
  {
   "cell_type": "markdown",
   "metadata": {
    "slideshow": {
     "slide_type": "fragment"
    }
   },
   "source": [
    "<img src=\"img/python_c_2.png\" alt=\"Drawing\" style=\"width: 70%\"/>"
   ]
  },
  {
   "cell_type": "markdown",
   "metadata": {
    "slideshow": {
     "slide_type": "fragment"
    }
   },
   "source": [
    "<img src=\"img/python_c_3.png\" alt=\"Drawing\" style=\"width: 70%\"/>\n"
   ]
  },
  {
   "cell_type": "markdown",
   "metadata": {
    "slideshow": {
     "slide_type": "slide"
    }
   },
   "source": [
    "## Which data structures did we use to read GeoJSON in Python? "
   ]
  },
  {
   "cell_type": "markdown",
   "metadata": {
    "slideshow": {
     "slide_type": "fragment"
    }
   },
   "source": [
    "### String"
   ]
  },
  {
   "cell_type": "code",
   "execution_count": 1,
   "metadata": {
    "slideshow": {
     "slide_type": "-"
    }
   },
   "outputs": [],
   "source": [
    "geojson_path = \"./data/some_features.geojson\""
   ]
  },
  {
   "cell_type": "code",
   "execution_count": 2,
   "metadata": {
    "slideshow": {
     "slide_type": "-"
    }
   },
   "outputs": [
    {
     "name": "stdout",
     "output_type": "stream",
     "text": [
      "{\"type\":\"FeatureCollection\",\"features\":[{\"type\":\"Feature\",\"properties\":{\"color\":\"green\",\"id\":1},\"geometry\":{\"type\":\"Polygon\",\"coordinates\":[[[8.670530319213867,49.41337442939828],[8.685293197631836,49.41337442939828],[8.685293197631836,49.421861555723595],[8.670530319213867,49.421861555723595],[8.670530319213867,49.41337442939828]]]}},{\"type\":\"Feature\",\"properties\":{\"color\":\"blue\",\"id\":2},\"geometry\":{\"type\":\"Polygon\",\"coordinates\":[[[8.680486679077148,49.418455714236885],[8.69619369506836,49.418455714236885],[8.69619369506836,49.42833758576036],[8.680486679077148,49.42833758576036],[8.680486679077148,49.418455714236885]],[[8.688468933105469, 49.42398310798032],[8.693962097167969, 49.42398310798032],[8.693962097167969, 49.426607006252176],[8.688468933105469, 49.426607006252176],[8.688468933105469, 49.42398310798032]]]}}]}\n",
      "\n"
     ]
    }
   ],
   "source": [
    "with open(geojson_path, \"r\") as src:\n",
    "    geojson_str = src.read()\n",
    "print(geojson_str)"
   ]
  },
  {
   "cell_type": "markdown",
   "metadata": {
    "slideshow": {
     "slide_type": "subslide"
    }
   },
   "source": [
    "### Decode a string to a dictionary using `json.loads()`"
   ]
  },
  {
   "cell_type": "code",
   "execution_count": 34,
   "metadata": {
    "slideshow": {
     "slide_type": "-"
    }
   },
   "outputs": [
    {
     "name": "stdout",
     "output_type": "stream",
     "text": [
      "Data type: <class 'dict'>\n"
     ]
    },
    {
     "data": {
      "text/plain": [
       "{'type': 'FeatureCollection',\n",
       " 'features': [{'type': 'Feature',\n",
       "   'properties': {'color': 'green', 'id': 1},\n",
       "   'geometry': {'type': 'Polygon',\n",
       "    'coordinates': [[[8.670530319213867, 49.41337442939828],\n",
       "      [8.685293197631836, 49.41337442939828],\n",
       "      [8.685293197631836, 49.421861555723595],\n",
       "      [8.670530319213867, 49.421861555723595],\n",
       "      [8.670530319213867, 49.41337442939828]]]}},\n",
       "  {'type': 'Feature',\n",
       "   'properties': {'color': 'blue', 'id': 2},\n",
       "   'geometry': {'type': 'Polygon',\n",
       "    'coordinates': [[[8.680486679077148, 49.418455714236885],\n",
       "      [8.69619369506836, 49.418455714236885],\n",
       "      [8.69619369506836, 49.42833758576036],\n",
       "      [8.680486679077148, 49.42833758576036],\n",
       "      [8.680486679077148, 49.418455714236885]],\n",
       "     [[8.688468933105469, 49.42398310798032],\n",
       "      [8.693962097167969, 49.42398310798032],\n",
       "      [8.693962097167969, 49.426607006252176],\n",
       "      [8.688468933105469, 49.426607006252176],\n",
       "      [8.688468933105469, 49.42398310798032]]]}}]}"
      ]
     },
     "execution_count": 34,
     "metadata": {},
     "output_type": "execute_result"
    }
   ],
   "source": [
    "import json\n",
    "geojson_dict = json.loads(geojson_str)\n",
    "print(\"Data type: %s\" % type(geojson_dict))\n",
    "geojson_dict"
   ]
  },
  {
   "cell_type": "markdown",
   "metadata": {
    "slideshow": {
     "slide_type": "subslide"
    }
   },
   "source": [
    "Access an item of a __dictionary__ using *dict[key]*:\n"
   ]
  },
  {
   "cell_type": "code",
   "execution_count": 35,
   "metadata": {
    "scrolled": true,
    "slideshow": {
     "slide_type": "-"
    }
   },
   "outputs": [
    {
     "name": "stdout",
     "output_type": "stream",
     "text": [
      "Data type: <class 'list'>\n"
     ]
    },
    {
     "data": {
      "text/plain": [
       "[{'type': 'Feature',\n",
       "  'properties': {'color': 'green', 'id': 1},\n",
       "  'geometry': {'type': 'Polygon',\n",
       "   'coordinates': [[[8.670530319213867, 49.41337442939828],\n",
       "     [8.685293197631836, 49.41337442939828],\n",
       "     [8.685293197631836, 49.421861555723595],\n",
       "     [8.670530319213867, 49.421861555723595],\n",
       "     [8.670530319213867, 49.41337442939828]]]}},\n",
       " {'type': 'Feature',\n",
       "  'properties': {'color': 'blue', 'id': 2},\n",
       "  'geometry': {'type': 'Polygon',\n",
       "   'coordinates': [[[8.680486679077148, 49.418455714236885],\n",
       "     [8.69619369506836, 49.418455714236885],\n",
       "     [8.69619369506836, 49.42833758576036],\n",
       "     [8.680486679077148, 49.42833758576036],\n",
       "     [8.680486679077148, 49.418455714236885]],\n",
       "    [[8.688468933105469, 49.42398310798032],\n",
       "     [8.693962097167969, 49.42398310798032],\n",
       "     [8.693962097167969, 49.426607006252176],\n",
       "     [8.688468933105469, 49.426607006252176],\n",
       "     [8.688468933105469, 49.42398310798032]]]}}]"
      ]
     },
     "execution_count": 35,
     "metadata": {},
     "output_type": "execute_result"
    }
   ],
   "source": [
    "features = geojson_dict[\"features\"]\n",
    "print(\"Data type: %s\" % type(features))\n",
    "features"
   ]
  },
  {
   "cell_type": "markdown",
   "metadata": {
    "slideshow": {
     "slide_type": "subslide"
    }
   },
   "source": [
    "Access an item from a __list__ using *list[index]*:"
   ]
  },
  {
   "cell_type": "code",
   "execution_count": 32,
   "metadata": {
    "slideshow": {
     "slide_type": "-"
    }
   },
   "outputs": [
    {
     "name": "stdout",
     "output_type": "stream",
     "text": [
      "Data type: <class 'dict'>\n"
     ]
    },
    {
     "data": {
      "text/plain": [
       "{'type': 'Feature',\n",
       " 'properties': {'color': 'green', 'id': 1},\n",
       " 'geometry': {'type': 'Polygon',\n",
       "  'coordinates': [[[8.670530319213867, 49.41337442939828],\n",
       "    [8.685293197631836, 49.41337442939828],\n",
       "    [8.685293197631836, 49.421861555723595],\n",
       "    [8.670530319213867, 49.421861555723595],\n",
       "    [8.670530319213867, 49.41337442939828]]]}}"
      ]
     },
     "execution_count": 32,
     "metadata": {},
     "output_type": "execute_result"
    }
   ],
   "source": [
    "first_feature = features[0]\n",
    "print(\"Data type: %s\" % type(first_feature))\n",
    "first_feature"
   ]
  },
  {
   "cell_type": "code",
   "execution_count": 43,
   "metadata": {
    "slideshow": {
     "slide_type": "fragment"
    }
   },
   "outputs": [
    {
     "data": {
      "text/plain": [
       "{'type': 'Polygon',\n",
       " 'coordinates': [[[8.670530319213867, 49.41337442939828],\n",
       "   [8.685293197631836, 49.41337442939828],\n",
       "   [8.685293197631836, 49.421861555723595],\n",
       "   [8.670530319213867, 49.421861555723595],\n",
       "   [8.670530319213867, 49.41337442939828]]]}"
      ]
     },
     "execution_count": 43,
     "metadata": {},
     "output_type": "execute_result"
    }
   ],
   "source": [
    "first_geometry = first_feature[\"geometry\"]\n",
    "first_geometry"
   ]
  },
  {
   "cell_type": "markdown",
   "metadata": {
    "slideshow": {
     "slide_type": "subslide"
    }
   },
   "source": [
    "## Fiona to read and write different geospatial data formats"
   ]
  },
  {
   "cell_type": "code",
   "execution_count": 39,
   "metadata": {
    "slideshow": {
     "slide_type": "-"
    }
   },
   "outputs": [
    {
     "data": {
      "text/plain": [
       "[{'type': 'Feature',\n",
       "  'id': '1',\n",
       "  'properties': OrderedDict([('color', 'green'), ('id', 1)]),\n",
       "  'geometry': {'type': 'Polygon',\n",
       "   'coordinates': [[(8.670530319213867, 49.41337442939828),\n",
       "     (8.685293197631836, 49.41337442939828),\n",
       "     (8.685293197631836, 49.421861555723595),\n",
       "     (8.670530319213867, 49.421861555723595),\n",
       "     (8.670530319213867, 49.41337442939828)]]}},\n",
       " {'type': 'Feature',\n",
       "  'id': '2',\n",
       "  'properties': OrderedDict([('color', 'blue'), ('id', 2)]),\n",
       "  'geometry': {'type': 'Polygon',\n",
       "   'coordinates': [[(8.680486679077148, 49.418455714236885),\n",
       "     (8.69619369506836, 49.418455714236885),\n",
       "     (8.69619369506836, 49.42833758576036),\n",
       "     (8.680486679077148, 49.42833758576036),\n",
       "     (8.680486679077148, 49.418455714236885)],\n",
       "    [(8.688468933105469, 49.42398310798032),\n",
       "     (8.693962097167969, 49.42398310798032),\n",
       "     (8.693962097167969, 49.426607006252176),\n",
       "     (8.688468933105469, 49.426607006252176),\n",
       "     (8.688468933105469, 49.42398310798032)]]}}]"
      ]
     },
     "execution_count": 39,
     "metadata": {},
     "output_type": "execute_result"
    }
   ],
   "source": [
    "import fiona\n",
    "with fiona.open(geojson_path, \"r\") as src:\n",
    "    features = list(src)\n",
    "features"
   ]
  },
  {
   "cell_type": "markdown",
   "metadata": {
    "slideshow": {
     "slide_type": "subslide"
    }
   },
   "source": [
    "## How can you perform geospatial operations in Python? "
   ]
  },
  {
   "cell_type": "code",
   "execution_count": 71,
   "metadata": {
    "slideshow": {
     "slide_type": "-"
    }
   },
   "outputs": [
    {
     "name": "stdout",
     "output_type": "stream",
     "text": [
      "Data type: <class 'shapely.geometry.polygon.Polygon'>\n"
     ]
    },
    {
     "data": {
      "image/svg+xml": [
       "<svg xmlns=\"http://www.w3.org/2000/svg\" xmlns:xlink=\"http://www.w3.org/1999/xlink\" width=\"100.0\" height=\"100.0\" viewBox=\"8.66993980407715 49.41278391426156 0.01594390869140483 0.009668156598756639\" preserveAspectRatio=\"xMinYMin meet\"><g transform=\"matrix(1,0,0,-1,0,98.83523598512187)\"><path fill-rule=\"evenodd\" fill=\"#66cc99\" stroke=\"#555555\" stroke-width=\"0.0003188781738280966\" opacity=\"0.6\" d=\"M 8.670530319213867,49.41337442939828 L 8.685293197631836,49.41337442939828 L 8.685293197631836,49.421861555723595 L 8.670530319213867,49.421861555723595 L 8.670530319213867,49.41337442939828 z\" /></g></svg>"
      ],
      "text/plain": [
       "<shapely.geometry.polygon.Polygon at 0x124426048>"
      ]
     },
     "execution_count": 71,
     "metadata": {},
     "output_type": "execute_result"
    }
   ],
   "source": [
    "from shapely.geometry import shape\n",
    "first_geometry_obj = shape(first_geometry)\n",
    "print(\"Data type: %s\" % type(first_geometry_obj))\n",
    "first_geometry_obj"
   ]
  },
  {
   "cell_type": "markdown",
   "metadata": {
    "slideshow": {
     "slide_type": "fragment"
    }
   },
   "source": [
    "__You can also do this all at once:__"
   ]
  },
  {
   "cell_type": "code",
   "execution_count": 54,
   "metadata": {
    "slideshow": {
     "slide_type": "-"
    }
   },
   "outputs": [
    {
     "data": {
      "image/svg+xml": [
       "<svg xmlns=\"http://www.w3.org/2000/svg\" xmlns:xlink=\"http://www.w3.org/1999/xlink\" width=\"100.0\" height=\"100.0\" viewBox=\"8.6798583984375 49.41782743359724 0.016963577270509234 0.011138432802766829\" preserveAspectRatio=\"xMinYMin meet\"><g transform=\"matrix(1,0,0,-1,0,98.84679329999724)\"><path fill-rule=\"evenodd\" fill=\"#66cc99\" stroke=\"#555555\" stroke-width=\"0.00033927154541018467\" opacity=\"0.6\" d=\"M 8.680486679077148,49.418455714236885 L 8.69619369506836,49.418455714236885 L 8.69619369506836,49.42833758576036 L 8.680486679077148,49.42833758576036 L 8.680486679077148,49.418455714236885 z M 8.688468933105469,49.42398310798032 L 8.693962097167969,49.42398310798032 L 8.693962097167969,49.426607006252176 L 8.688468933105469,49.426607006252176 L 8.688468933105469,49.42398310798032 z\" /></g></svg>"
      ],
      "text/plain": [
       "<shapely.geometry.polygon.Polygon at 0x1215ce0b8>"
      ]
     },
     "execution_count": 54,
     "metadata": {},
     "output_type": "execute_result"
    }
   ],
   "source": [
    "second_geometry_obj = shape(features[1][\"geometry\"])\n",
    "second_geometry_obj"
   ]
  },
  {
   "cell_type": "markdown",
   "metadata": {
    "slideshow": {
     "slide_type": "subslide"
    }
   },
   "source": [
    "__Everything in Python is an object. Objects have attributes ...__"
   ]
  },
  {
   "cell_type": "code",
   "execution_count": 78,
   "metadata": {
    "slideshow": {
     "slide_type": "-"
    }
   },
   "outputs": [
    {
     "data": {
      "text/plain": [
       "'Polygon'"
      ]
     },
     "execution_count": 78,
     "metadata": {},
     "output_type": "execute_result"
    }
   ],
   "source": [
    "first_geometry_obj.geom_type"
   ]
  },
  {
   "cell_type": "markdown",
   "metadata": {
    "slideshow": {
     "slide_type": "fragment"
    }
   },
   "source": [
    "__... and methods:__"
   ]
  },
  {
   "cell_type": "code",
   "execution_count": 80,
   "metadata": {
    "slideshow": {
     "slide_type": "-"
    }
   },
   "outputs": [
    {
     "name": "stdout",
     "output_type": "stream",
     "text": [
      "Does the first feature intersect the second feature?\n"
     ]
    },
    {
     "data": {
      "text/plain": [
       "True"
      ]
     },
     "execution_count": 80,
     "metadata": {},
     "output_type": "execute_result"
    }
   ],
   "source": [
    "print(\"Does the first feature intersect the second feature?\")\n",
    "first_geometry_obj.intersects(second_geometry_obj)"
   ]
  },
  {
   "cell_type": "markdown",
   "metadata": {
    "slideshow": {
     "slide_type": "subslide"
    }
   },
   "source": [
    "## Performing complex geospatial analyses using 'GeoPandas'\n",
    "GeoPandas is built upon fiona, shapely and pandas to facilitate geospatial analysis in Python."
   ]
  },
  {
   "cell_type": "code",
   "execution_count": 67,
   "metadata": {
    "slideshow": {
     "slide_type": "fragment"
    }
   },
   "outputs": [
    {
     "data": {
      "text/plain": [
       "<matplotlib.axes._subplots.AxesSubplot at 0x12402a940>"
      ]
     },
     "execution_count": 67,
     "metadata": {},
     "output_type": "execute_result"
    },
    {
     "data": {
      "image/png": "[encoded data removed]",
      "text/plain": [
       "<Figure size 432x288 with 1 Axes>"
      ]
     },
     "metadata": {
      "needs_background": "light"
     },
     "output_type": "display_data"
    }
   ],
   "source": [
    "import geopandas as gpd\n",
    "polygons_df = gpd.read_file(geojson_path)\n",
    "polygons_df.head()\n",
    "polygons_df.plot()"
   ]
  },
  {
   "cell_type": "code",
   "execution_count": 83,
   "metadata": {
    "slideshow": {
     "slide_type": "subslide"
    }
   },
   "outputs": [
    {
     "name": "stderr",
     "output_type": "stream",
     "text": [
      "/Users/chludwig/miniconda3/envs/cs4geos/lib/python3.7/site-packages/IPython/core/display.py:694: UserWarning: Consider using IPython.display.IFrame instead\n",
      "  warnings.warn(\"Consider using IPython.display.IFrame instead\")\n"
     ]
    },
    {
     "data": {
      "text/html": [
       "<iframe src=\"data:text/html;base64,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\" width=\"100%\" height=\"240\"></iframe>"
      ],
      "text/plain": [
       "<IPython.core.display.HTML object>"
      ]
     },
     "execution_count": 83,
     "metadata": {},
     "output_type": "execute_result"
    }
   ],
   "source": [
    "import mplleaflet\n",
    "polygons_df.plot()\n",
    "mplleaflet.display()"
   ]
  },
  {
   "cell_type": "markdown",
   "metadata": {
    "slideshow": {
     "slide_type": "fragment"
    }
   },
   "source": [
    "If you want to learn more about GeoPandas, check out [this tutorial.](https://github.com/jorisvandenbossche/geopandas-tutorial)"
   ]
  }
 ],
 "metadata": {
  "celltoolbar": "Slideshow",
  "kernelspec": {
   "display_name": "Python (cs4geos)",
   "language": "python",
   "name": "cs4geos"
  },
  "language_info": {
   "codemirror_mode": {
    "name": "ipython",
    "version": 3
   },
   "file_extension": ".py",
   "mimetype": "text/x-python",
   "name": "python",
   "nbconvert_exporter": "python",
   "pygments_lexer": "ipython3",
   "version": "3.7.3"
  }
 },
 "nbformat": 4,
 "nbformat_minor": 2
}
