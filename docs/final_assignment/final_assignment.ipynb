{
 "cells": [
  {
   "cell_type": "markdown",
   "metadata": {
    "slideshow": {
     "slide_type": "slide"
    }
   },
   "source": [
    "# Final Assignment"
   ]
  },
  {
   "cell_type": "markdown",
   "metadata": {
    "slideshow": {
     "slide_type": "fragment"
    }
   },
   "source": [
    "## 1. Assignments (50%)\n",
    "\n",
    "##### Notebooks for submission through GitHub Classroom\n",
    "\n",
    "1. assignment-1/02-geopandas.ipynb (bike safety analysis)\n",
    "2. assignment-3/13-Advanced-Raster-Data-Analysis.ipynb (water frequency)\n"
   ]
  },
  {
   "cell_type": "markdown",
   "metadata": {
    "slideshow": {
     "slide_type": "fragment"
    }
   },
   "source": [
    "## 2. Project (50%)\n",
    "\n",
    "__Purpose:__ Practice applying best-practices in scientific programming\n",
    "\n",
    "Reflect on your programming habits and improve them. \n"
   ]
  },
  {
   "cell_type": "markdown",
   "metadata": {
    "slideshow": {
     "slide_type": "slide"
    }
   },
   "source": [
    "### What to do? \n",
    "\n",
    "It is not so much about **what you do**, it is more about **how you implement it**"
   ]
  },
  {
   "cell_type": "markdown",
   "metadata": {
    "slideshow": {
     "slide_type": "fragment"
    }
   },
   "source": [
    "### 1. Choose a type of analysis you want to do \n",
    "\n",
    "#### Some suggestions\n",
    "* Perform an exploratory data analysis including\n",
    "    &rarr; [Reproducible Data Analysis in Jupyter](https://www.youtube.com/watch?v=_ZEWDGpM-vM&list=PLYCpMb24GpOC704uO9svUrihl-HY1tTJJ)\n",
    "\n",
    "* Create a dashboard which lets users explore data.\n",
    "\n",
    "* Write a program that performs a geospatial analysis by splitting the AOI into tiles and processing them each individually.\n"
   ]
  },
  {
   "cell_type": "markdown",
   "metadata": {
    "slideshow": {
     "slide_type": "slide"
    }
   },
   "source": [
    "#### Write a function/class which splits the Area of Interest (AOI) into rectangular tiles which are processed independently. \n",
    "* Let the user decide the size of the tiles or the number of tiles in a row or column. \n",
    "* Parallelize the processing of your tiles if you like (e.g. multiprocessing) \n",
    "\n",
    "<img src=\"img/tiles.png\" alt=\"wtf\" width=\"600\" align=\"center\"/>"
   ]
  },
  {
   "cell_type": "markdown",
   "metadata": {},
   "source": [
    "### 2. Choose a topic / data set you're interested in and which suits your type of analysis\n"
   ]
  },
  {
   "cell_type": "markdown",
   "metadata": {
    "slideshow": {
     "slide_type": "slide"
    }
   },
   "source": [
    "\n",
    "* Remote sensing data e.g.\n",
    "    * Perform the water frequency analysis\n",
    "    * Calculate the NDVI at two different points in time and calculate the difference.\n",
    "* OpenStreetMap data\n",
    "* [kaggle Data sets](https://www.kaggle.com/datasets=)\n",
    "* [Google Data Set Search](https://datasetsearch.research.google.com/)\n",
    "* etc."
   ]
  },
  {
   "cell_type": "markdown",
   "metadata": {},
   "source": [
    "### 3.  Apply the best-practices in scientific programming while implementing it\n"
   ]
  },
  {
   "cell_type": "markdown",
   "metadata": {
    "slideshow": {
     "slide_type": "slide"
    }
   },
   "source": [
    "\n",
    "**Before** you start working on the project, choose three best practices from the papers which you would like to practice, e.g.\n",
    "* I want to use git regularly during development\n",
    "* I want to write tests\n",
    "* I want to follow Python code style continuously during development.\n",
    "\n",
    "**While** doing the project, focus especially on applying these best practices.\n",
    "\n",
    "**After** the project, reflect on how well you were able to apply them and what benefits you got from applying them."
   ]
  },
  {
   "cell_type": "markdown",
   "metadata": {
    "slideshow": {
     "slide_type": "slide"
    }
   },
   "source": [
    "## Criteria for evaluation\n",
    "\n",
    "### Is it good scientific code? \n",
    "\n",
    "#### Readability: \n",
    "* How readable and easily understandible is it? e.g. hide details in functions\n",
    "* Code structure: Split code in functions, modules, python scripts and notebooks\n",
    "* Where does it make sense to use jupyter notebooks? Where is better to use python scripts?\n",
    "* Code style conform (use pylint to check)\n"
   ]
  },
  {
   "cell_type": "markdown",
   "metadata": {
    "slideshow": {
     "slide_type": "subslide"
    }
   },
   "source": [
    "\n",
    "#### Reproducibility \n",
    "* Describe what your programm does\n",
    "* What are the dependencies and how to setup the environment. \n",
    "* Document how to set up the python environment\n",
    "* Document how to run it:\n",
    "  * Which parameters are necessary?\n",
    "  * How are they specified?\n",
    "  * Which files are important?\n",
    "  * Maybe integrate error handling e.g. check if user input is valid and give feedback so the user knows how to solve the problem\n",
    "* Provide an example \n",
    "* use config files if suitable\n",
    "\n",
    "\n",
    "&rarr; Watch this series of videos on [Reproducible Data Analysis in Jupyter](https://www.youtube.com/watch?v=_ZEWDGpM-vM&list=PLYCpMb24GpOC704uO9svUrihl-HY1tTJJ)\n"
   ]
  },
  {
   "cell_type": "markdown",
   "metadata": {
    "slideshow": {
     "slide_type": "subslide"
    }
   },
   "source": [
    "\n",
    "#### Reliability: \n",
    "* Write tests where it makes sense"
   ]
  },
  {
   "cell_type": "markdown",
   "metadata": {
    "slideshow": {
     "slide_type": "fragment"
    }
   },
   "source": [
    "#### Reusability: \n",
    "* Split your programm into functions which you can use in other programs (\"Don't repeat yourself\")"
   ]
  },
  {
   "cell_type": "markdown",
   "metadata": {
    "slideshow": {
     "slide_type": "fragment"
    }
   },
   "source": [
    "#### Efficiency: \n",
    "* Write reasonably efficient code (e.g. apply vectorization when you perform raster calculations) You don't need to perform profiling and optimization."
   ]
  },
  {
   "cell_type": "markdown",
   "metadata": {
    "slideshow": {
     "slide_type": "slide"
    }
   },
   "source": [
    "## Deliverables for Submission \n",
    "\n",
    "### Create  a new GitHub Repository which contains:\n",
    "\n",
    "### 1. Python code \n",
    "- All Python code necessary to run the programm \n",
    "- Maybe a small data set to demonstrate how it is run"
   ]
  },
  {
   "cell_type": "markdown",
   "metadata": {
    "slideshow": {
     "slide_type": "fragment"
    }
   },
   "source": [
    "### 2. README.md\n",
    "* Short description of the program\n",
    "* Dependencies (Python Version + python libraries)\n",
    "- Instrtructions on how to use the programm (give example code to run)   "
   ]
  },
  {
   "cell_type": "markdown",
   "metadata": {
    "slideshow": {
     "slide_type": "fragment"
    }
   },
   "source": [
    "\n",
    "### 3. Reflection (text document ~ 1-3 pages)\n",
    "\n",
    "* Which best practices did you apply?\n",
    "* Reflect on how well you were able to apply them? \n",
    "* What benefits did you get from applying them?\n",
    "* What can you improve in the future? \n",
    "\n"
   ]
  },
  {
   "cell_type": "markdown",
   "metadata": {
    "slideshow": {
     "slide_type": "slide"
    }
   },
   "source": [
    "### Grant me access if it is private or just send me the link if it is public.\n",
    "\n",
    "### Submission date: November 1st 2020"
   ]
  }
 ],
 "metadata": {
  "celltoolbar": "Slideshow",
  "kernelspec": {
   "display_name": "Python (cs4geos)",
   "language": "python",
   "name": "cs4geos"
  },
  "language_info": {
   "codemirror_mode": {
    "name": "ipython",
    "version": 3
   },
   "file_extension": ".py",
   "mimetype": "text/x-python",
   "name": "python",
   "nbconvert_exporter": "python",
   "pygments_lexer": "ipython3",
   "version": "3.7.3"
  }
 },
 "nbformat": 4,
 "nbformat_minor": 2
}
